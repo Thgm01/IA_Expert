{
 "cells": [
  {
   "cell_type": "code",
   "execution_count": 5,
   "metadata": {},
   "outputs": [],
   "source": [
    "import cv2\n",
    "\n",
    "webcam = cv2.VideoCapture(1)\n",
    "webcam.set(cv2.CAP_PROP_SATURATION, 255)\n",
    "webcam.set(cv2.CAP_PROP_CONTRAST,131)\n",
    "#webcam.set(cv2.CAP_PROP_AUTOFOCUS, 0)\n",
    "#webcam.set(cv2.CAP_PROP_BRIGHTNESS, 150)\n",
    "if webcam.isOpened():\n",
    "    validacao, frame = webcam.read()\n",
    "    while validacao:\n",
    "        validacao, frame = webcam.read()\n",
    "        cv2.imshow(\"Video da Webcam\", frame)\n",
    "        key = cv2.waitKey(5)\n",
    "        if key == 27: # ESC\n",
    "            break\n",
    "\n",
    "webcam.release()\n",
    "cv2.destroyAllWindows()"
   ]
  }
 ],
 "metadata": {
  "kernelspec": {
   "display_name": "base",
   "language": "python",
   "name": "python3"
  },
  "language_info": {
   "codemirror_mode": {
    "name": "ipython",
    "version": 3
   },
   "file_extension": ".py",
   "mimetype": "text/x-python",
   "name": "python",
   "nbconvert_exporter": "python",
   "pygments_lexer": "ipython3",
   "version": "3.9.12 (main, Apr  4 2022, 05:22:27) [MSC v.1916 64 bit (AMD64)]"
  },
  "orig_nbformat": 4,
  "vscode": {
   "interpreter": {
    "hash": "0b56f5af6104d67cc60ad3034ae5bfc570de1216e7f58dc7cbc829c9aca75bd6"
   }
  }
 },
 "nbformat": 4,
 "nbformat_minor": 2
}
