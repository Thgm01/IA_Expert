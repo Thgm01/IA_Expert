{
 "cells": [
  {
   "cell_type": "code",
   "execution_count": 61,
   "metadata": {},
   "outputs": [],
   "source": [
    "produtos = [('Refrigerador A', 0.751, 999.90),\n",
    "            ('Celular', 0.0000899, 2911.12),\n",
    "            ('TV 55', 0.400, 4346.99),\n",
    "            ('TV 50', 0.290, 3999.90),\n",
    "            ('TV 42', 0.200, 2999.00),\n",
    "            ('Notebook A', 0.00350, 2499.90),\n",
    "            ('Ventilador', 0.496, 199.90),\n",
    "            ('Microondas A', 0.0424, 308.66),\n",
    "            ('Microondas B', 0.0544, 429.90),\n",
    "            ('Microondas C', 0.0319, 299.29),\n",
    "            ('Refrigerador B', 0.635, 849.00),\n",
    "            ('Refrigerador C', 0.870, 1199.89),\n",
    "            ('Notebook B', 0.498, 1999.90),\n",
    "            ('Notebook C', 0.527, 3999.00)]\n",
    "espaco_disponivel = 3"
   ]
  },
  {
   "cell_type": "code",
   "execution_count": 62,
   "metadata": {},
   "outputs": [],
   "source": [
    "# exemplo de soluçao [0,0,1,0,1,1,0,1,1,1,1,0]\n",
    "def fitness_function(solucao):\n",
    "    preco_total=0\n",
    "    capacidade_usada = 0\n",
    "    for i in range(len(solucao)):\n",
    "        if solucao[i] == 1:\n",
    "            preco_total += produtos[i][2]\n",
    "            capacidade_usada += produtos[i][1]\n",
    "\n",
    "    if capacidade_usada > espaco_disponivel:\n",
    "        preco_total = 1\n",
    "    \n",
    "    return preco_total"
   ]
  },
  {
   "cell_type": "code",
   "execution_count": 63,
   "metadata": {},
   "outputs": [],
   "source": [
    "import mlrose\n",
    "fitness = mlrose.CustomFitness(fitness_function)\n",
    "problema = mlrose.DiscreteOpt(length=14, fitness_fn=fitness, maximize= True, max_val=2)\n"
   ]
  },
  {
   "cell_type": "code",
   "execution_count": 64,
   "metadata": {},
   "outputs": [],
   "source": [
    "def imprimir_solucao(solucao):\n",
    "  for i in range(len(solucao)):\n",
    "    if solucao[i] == 1:\n",
    "      print('%s - %s' % (produtos[i][0], produtos[i][2]))"
   ]
  },
  {
   "attachments": {},
   "cell_type": "markdown",
   "metadata": {},
   "source": [
    "## Hill climb"
   ]
  },
  {
   "cell_type": "code",
   "execution_count": 65,
   "metadata": {},
   "outputs": [
    {
     "data": {
      "text/plain": [
       "(array([1, 1, 1, 1, 1, 1, 0, 1, 1, 1, 0, 0, 1, 1]), 24793.560000000005)"
      ]
     },
     "execution_count": 65,
     "metadata": {},
     "output_type": "execute_result"
    }
   ],
   "source": [
    "melhor_solucao, melhor_custo = mlrose.hill_climb(problem=problema)\n",
    "melhor_solucao, melhor_custo"
   ]
  },
  {
   "cell_type": "code",
   "execution_count": 66,
   "metadata": {},
   "outputs": [
    {
     "name": "stdout",
     "output_type": "stream",
     "text": [
      "Refrigerador A - 999.9\n",
      "Celular - 2911.12\n",
      "TV 55 - 4346.99\n",
      "TV 50 - 3999.9\n",
      "TV 42 - 2999.0\n",
      "Notebook A - 2499.9\n",
      "Microondas A - 308.66\n",
      "Microondas B - 429.9\n",
      "Microondas C - 299.29\n",
      "Notebook B - 1999.9\n",
      "Notebook C - 3999.0\n"
     ]
    }
   ],
   "source": [
    "imprimir_solucao(melhor_solucao)"
   ]
  },
  {
   "attachments": {},
   "cell_type": "markdown",
   "metadata": {},
   "source": [
    "## Simulated Annealing"
   ]
  },
  {
   "cell_type": "code",
   "execution_count": 67,
   "metadata": {},
   "outputs": [
    {
     "data": {
      "text/plain": [
       "(array([0, 1, 0, 1, 1, 1, 1, 1, 1, 1, 1, 0, 1, 1]), 20495.57)"
      ]
     },
     "execution_count": 67,
     "metadata": {},
     "output_type": "execute_result"
    }
   ],
   "source": [
    "melhor_solucao, melhor_custo = mlrose.simulated_annealing(problem=problema)\n",
    "melhor_solucao, melhor_custo"
   ]
  },
  {
   "cell_type": "code",
   "execution_count": 68,
   "metadata": {},
   "outputs": [
    {
     "name": "stdout",
     "output_type": "stream",
     "text": [
      "Celular - 2911.12\n",
      "TV 50 - 3999.9\n",
      "TV 42 - 2999.0\n",
      "Notebook A - 2499.9\n",
      "Ventilador - 199.9\n",
      "Microondas A - 308.66\n",
      "Microondas B - 429.9\n",
      "Microondas C - 299.29\n",
      "Refrigerador B - 849.0\n",
      "Notebook B - 1999.9\n",
      "Notebook C - 3999.0\n"
     ]
    }
   ],
   "source": [
    "imprimir_solucao(melhor_solucao)"
   ]
  },
  {
   "attachments": {},
   "cell_type": "markdown",
   "metadata": {},
   "source": [
    "## Algoritmo genético"
   ]
  },
  {
   "cell_type": "code",
   "execution_count": 69,
   "metadata": {},
   "outputs": [
    {
     "data": {
      "text/plain": [
       "(array([0, 1, 1, 1, 1, 1, 0, 1, 1, 1, 0, 1, 1, 1]), 24993.550000000003)"
      ]
     },
     "execution_count": 69,
     "metadata": {},
     "output_type": "execute_result"
    }
   ],
   "source": [
    "melhor_solucao, melhor_custo = mlrose.genetic_alg(problem=problema)\n",
    "melhor_solucao, melhor_custo"
   ]
  }
 ],
 "metadata": {
  "kernelspec": {
   "display_name": "Python 3",
   "language": "python",
   "name": "python3"
  },
  "language_info": {
   "codemirror_mode": {
    "name": "ipython",
    "version": 3
   },
   "file_extension": ".py",
   "mimetype": "text/x-python",
   "name": "python",
   "nbconvert_exporter": "python",
   "pygments_lexer": "ipython3",
   "version": "3.10.6"
  },
  "orig_nbformat": 4
 },
 "nbformat": 4,
 "nbformat_minor": 2
}
