{
 "cells": [
  {
   "attachments": {},
   "cell_type": "markdown",
   "metadata": {},
   "source": [
    "Grafo"
   ]
  },
  {
   "cell_type": "code",
   "execution_count": 1,
   "metadata": {},
   "outputs": [],
   "source": [
    "class Vertice:\n",
    "    def __init__(self, rotulo, distancia_objetivo):\n",
    "        self.rotulo = rotulo\n",
    "        self.visitado = False\n",
    "        self.distancia_objetivo = distancia_objetivo\n",
    "        self.adjacentes = []\n",
    "\n",
    "    def adiciona_adjacente(self, adjacente):\n",
    "        self.adjacentes.append(adjacente)\n",
    "\n",
    "    def mostra_adjacentes(self):\n",
    "        for i in self.adjacentes:\n",
    "            print(i.vertice.rotulo, i.custo)\n",
    "        "
   ]
  },
  {
   "cell_type": "code",
   "execution_count": 2,
   "metadata": {},
   "outputs": [],
   "source": [
    "class Adjacente:\n",
    "    def __init__(self, vertice, custo):\n",
    "        self.vertice = vertice\n",
    "        self.custo = custo         "
   ]
  },
  {
   "cell_type": "code",
   "execution_count": 3,
   "metadata": {},
   "outputs": [],
   "source": [
    "class Grafo:\n",
    "    arad = Vertice('Arad', 366)\n",
    "    zerind = Vertice('Zerind', 374)\n",
    "    oradea = Vertice('Oradea', 380)\n",
    "    sibiu = Vertice('Sibiu', 253)\n",
    "    timisoara = Vertice('Timisoara', 329)\n",
    "    lugoj = Vertice('Lugoj', 244)\n",
    "    mehadia = Vertice('Mehadia', 241)\n",
    "    dobreta = Vertice('Dobreta', 242)\n",
    "    craiova = Vertice('Craiova', 160)\n",
    "    rimnicu = Vertice('Rimnicu', 193)\n",
    "    fagaras = Vertice('Fagaras', 178)\n",
    "    pitesti = Vertice('Pitesti', 98)\n",
    "    bucharest = Vertice('Bucharest', 0)\n",
    "    giurgiu = Vertice('Giurgiu', 77)\n",
    "\n",
    "    arad.adiciona_adjacente(Adjacente(zerind, 75))\n",
    "    arad.adiciona_adjacente(Adjacente(sibiu, 140))\n",
    "    arad.adiciona_adjacente(Adjacente(timisoara, 118))\n",
    "\n",
    "    zerind.adiciona_adjacente(Adjacente(arad, 75))\n",
    "    zerind.adiciona_adjacente(Adjacente(oradea, 71))\n",
    "\n",
    "    oradea.adiciona_adjacente(Adjacente(zerind, 71))\n",
    "    oradea.adiciona_adjacente(Adjacente(sibiu, 151))\n",
    "\n",
    "    sibiu.adiciona_adjacente(Adjacente(oradea, 151))\n",
    "    sibiu.adiciona_adjacente(Adjacente(arad, 140))\n",
    "    sibiu.adiciona_adjacente(Adjacente(fagaras, 99))\n",
    "    sibiu.adiciona_adjacente(Adjacente(rimnicu, 80))\n",
    "\n",
    "    timisoara.adiciona_adjacente(Adjacente(arad, 118))\n",
    "    timisoara.adiciona_adjacente(Adjacente(lugoj, 111))\n",
    "\n",
    "    lugoj.adiciona_adjacente(Adjacente(timisoara, 111))\n",
    "    lugoj.adiciona_adjacente(Adjacente(mehadia, 70))\n",
    "\n",
    "    mehadia.adiciona_adjacente(Adjacente(lugoj, 70))\n",
    "    mehadia.adiciona_adjacente(Adjacente(dobreta, 75))\n",
    "\n",
    "    dobreta.adiciona_adjacente(Adjacente(mehadia, 75))\n",
    "    dobreta.adiciona_adjacente(Adjacente(craiova, 120))\n",
    "\n",
    "    craiova.adiciona_adjacente(Adjacente(dobreta, 120))\n",
    "    craiova.adiciona_adjacente(Adjacente(pitesti, 138))\n",
    "    craiova.adiciona_adjacente(Adjacente(rimnicu, 146))\n",
    "\n",
    "    rimnicu.adiciona_adjacente(Adjacente(craiova, 146))\n",
    "    rimnicu.adiciona_adjacente(Adjacente(sibiu, 80))\n",
    "    rimnicu.adiciona_adjacente(Adjacente(pitesti, 97))\n",
    "\n",
    "    fagaras.adiciona_adjacente(Adjacente(sibiu, 99))\n",
    "    fagaras.adiciona_adjacente(Adjacente(bucharest, 211))\n",
    "\n",
    "    pitesti.adiciona_adjacente(Adjacente(rimnicu, 97))\n",
    "    pitesti.adiciona_adjacente(Adjacente(craiova, 138))\n",
    "    pitesti.adiciona_adjacente(Adjacente(bucharest, 101))\n",
    "\n",
    "    bucharest.adiciona_adjacente(Adjacente(fagaras, 211))\n",
    "    bucharest.adiciona_adjacente(Adjacente(pitesti, 101))\n",
    "    bucharest.adiciona_adjacente(Adjacente(giurgiu, 90))\n",
    "\n"
   ]
  },
  {
   "cell_type": "code",
   "execution_count": 4,
   "metadata": {},
   "outputs": [],
   "source": [
    "grafo = Grafo()"
   ]
  },
  {
   "cell_type": "code",
   "execution_count": 5,
   "metadata": {},
   "outputs": [],
   "source": [
    "import numpy as np\n",
    "\n",
    "class VetorOrdenado:\n",
    "    def __init__(self, capacity):\n",
    "        self.capacity = capacity\n",
    "        self.last_position = -1\n",
    "        self.values = np.empty(self.capacity, dtype=object)\n",
    "    \n",
    "    # O(n)\n",
    "    def print_values(self):\n",
    "        if self.last_position == -1:\n",
    "            print('The vector is empty')\n",
    "        else:\n",
    "            for i in range(self.last_position+1):\n",
    "                print(i, ' - ', self.values[i].rotulo, ' - ', self.values[i].distancia_objetivo)\n",
    "\n",
    "    # O(n)\n",
    "    def insert_value(self, vertice):\n",
    "        if self.last_position == self.capacity-1:\n",
    "            print(\"Max capacity reached\")\n",
    "            return\n",
    "\n",
    "        position = 0\n",
    "        \n",
    "        for i in range(self.last_position+1):\n",
    "            position = i\n",
    "            if self.values[i].distancia_objetivo > vertice.distancia_objetivo :\n",
    "                break\n",
    "            if i == self.last_position:\n",
    "                position +=1\n",
    "\n",
    "        for i in range(self.last_position, position-1, -1):\n",
    "            self.values[i+1] = self.values[i]\n",
    "\n",
    "#        x = self.last_position\n",
    "#        while x >= position:\n",
    "#            self.values[x+1] = self.values[x]\n",
    "#            x -= 1\n",
    "\n",
    "        self.values[position] = vertice\n",
    "        self.last_position += 1\n",
    "    \n",
    "    def linear_search_value(self, value):\n",
    "\n",
    "        i = 0\n",
    "        while self.values[i] <= value or i == self.last_position:\n",
    "            if self.values[i] == value:\n",
    "                return i\n",
    "            i += 1\n",
    "        return -1\n",
    "\n",
    "        # for i in range(self.last_position+1):\n",
    "        #     if self.values[i] == value:\n",
    "        #         return i\n",
    "        #     if self.values[i] > value:\n",
    "        #         return -1\n",
    "\n",
    "    # O(log n)\n",
    "    def binary_search_value(self, value):\n",
    "        lower_limit = 0\n",
    "        upper_limit = self.last_position\n",
    "\n",
    "        while True:\n",
    "            atual_position = int((upper_limit + lower_limit)/2)\n",
    "            if self.values[atual_position] == value:\n",
    "                return atual_position  \n",
    "            elif lower_limit > upper_limit:\n",
    "                return -1          \n",
    "            elif self.values[atual_position] < value:\n",
    "                lower_limit = atual_position+1\n",
    "            else:\n",
    "                upper_limit = atual_position - 1\n",
    "\n",
    "        \n",
    "    def exclude_value(self, value):\n",
    "        position = self.search_value(value)\n",
    "        if position == -1:\n",
    "            print(\"This value wasn't in the vector\")\n",
    "            return -1\n",
    "        \n",
    "        for i in range(position, self.last_position+1):\n",
    "            self.values[i] = self.values[i+1]\n",
    "        self.last_position -= 1"
   ]
  },
  {
   "cell_type": "code",
   "execution_count": 6,
   "metadata": {},
   "outputs": [],
   "source": [
    "vetor = VetorOrdenado(5)\n",
    "vetor.insert_value(grafo.arad)\n",
    "vetor.insert_value(grafo.craiova)\n",
    "vetor.insert_value(grafo.bucharest)\n",
    "vetor.insert_value(grafo.dobreta)"
   ]
  },
  {
   "cell_type": "code",
   "execution_count": 7,
   "metadata": {},
   "outputs": [
    {
     "name": "stdout",
     "output_type": "stream",
     "text": [
      "0  -  Bucharest  -  0\n",
      "1  -  Craiova  -  160\n",
      "2  -  Dobreta  -  242\n",
      "3  -  Arad  -  366\n"
     ]
    }
   ],
   "source": [
    "vetor.print_values()"
   ]
  },
  {
   "cell_type": "code",
   "execution_count": 8,
   "metadata": {},
   "outputs": [
    {
     "name": "stdout",
     "output_type": "stream",
     "text": [
      "0  -  Bucharest  -  0\n",
      "1  -  Craiova  -  160\n",
      "2  -  Dobreta  -  242\n",
      "3  -  Lugoj  -  244\n",
      "4  -  Arad  -  366\n"
     ]
    }
   ],
   "source": [
    "vetor.insert_value(grafo.lugoj)\n",
    "vetor.print_values()"
   ]
  },
  {
   "cell_type": "code",
   "execution_count": 9,
   "metadata": {},
   "outputs": [
    {
     "data": {
      "text/plain": [
       "(<__main__.Vertice at 0x18e306b7580>, 'Bucharest')"
      ]
     },
     "execution_count": 9,
     "metadata": {},
     "output_type": "execute_result"
    }
   ],
   "source": [
    "vetor.values[0], vetor.values[0].rotulo"
   ]
  },
  {
   "attachments": {},
   "cell_type": "markdown",
   "metadata": {},
   "source": [
    "Busca Gulosa"
   ]
  },
  {
   "cell_type": "code",
   "execution_count": 10,
   "metadata": {},
   "outputs": [],
   "source": [
    "class Gulosa:\n",
    "    def __init__(self, objetivo):\n",
    "        self.objetivo = objetivo\n",
    "        self.encontrado = False\n",
    "\n",
    "    def buscar(self, atual):\n",
    "        print('------')\n",
    "        print(f'Atual: {atual.rotulo}')\n",
    "        atual.visitado = True\n",
    "\n",
    "        if atual == self.objetivo:\n",
    "            self.encontrado = True\n",
    "        else:\n",
    "            vetor_ordenado = VetorOrdenado(len(atual.adjacentes))\n",
    "            for adjacente in atual.adjacentes:\n",
    "                if adjacente.vertice.visitado == False:\n",
    "                    adjacente.vertice.visitado = True\n",
    "                    vetor_ordenado.insert_value(adjacente.vertice)\n",
    "            vetor_ordenado.print_values()\n",
    "\n",
    "            if vetor_ordenado.values[0] != None:\n",
    "                self.buscar(vetor_ordenado.values[0])\n",
    "        "
   ]
  },
  {
   "cell_type": "code",
   "execution_count": 11,
   "metadata": {},
   "outputs": [
    {
     "name": "stdout",
     "output_type": "stream",
     "text": [
      "<__main__.Adjacente object at 0x0000018E3179D3A0>\n",
      "<__main__.Adjacente object at 0x0000018E3179D400>\n",
      "<__main__.Adjacente object at 0x0000018E3179D460>\n"
     ]
    }
   ],
   "source": [
    "for adjacente in grafo.arad.adjacentes:\n",
    "    print(adjacente)"
   ]
  },
  {
   "cell_type": "code",
   "execution_count": 12,
   "metadata": {},
   "outputs": [
    {
     "name": "stdout",
     "output_type": "stream",
     "text": [
      "------\n",
      "Atual: Arad\n",
      "0  -  Sibiu  -  253\n",
      "1  -  Timisoara  -  329\n",
      "2  -  Zerind  -  374\n",
      "------\n",
      "Atual: Sibiu\n",
      "0  -  Fagaras  -  178\n",
      "1  -  Rimnicu  -  193\n",
      "2  -  Oradea  -  380\n",
      "------\n",
      "Atual: Fagaras\n",
      "0  -  Bucharest  -  0\n",
      "------\n",
      "Atual: Bucharest\n"
     ]
    }
   ],
   "source": [
    "busca_gulosa = Gulosa(grafo.bucharest)\n",
    "busca_gulosa.buscar(grafo.arad)"
   ]
  },
  {
   "cell_type": "code",
   "execution_count": null,
   "metadata": {},
   "outputs": [],
   "source": []
  }
 ],
 "metadata": {
  "kernelspec": {
   "display_name": "Python 3",
   "language": "python",
   "name": "python3"
  },
  "language_info": {
   "codemirror_mode": {
    "name": "ipython",
    "version": 3
   },
   "file_extension": ".py",
   "mimetype": "text/x-python",
   "name": "python",
   "nbconvert_exporter": "python",
   "pygments_lexer": "ipython3",
   "version": "3.9.12"
  },
  "orig_nbformat": 4
 },
 "nbformat": 4,
 "nbformat_minor": 2
}
