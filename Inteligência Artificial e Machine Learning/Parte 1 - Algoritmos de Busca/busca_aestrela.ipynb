{
 "cells": [
  {
   "attachments": {},
   "cell_type": "markdown",
   "metadata": {},
   "source": [
    "# Grafo - Busca A*"
   ]
  },
  {
   "attachments": {},
   "cell_type": "markdown",
   "metadata": {},
   "source": [
    "## Grafo"
   ]
  },
  {
   "cell_type": "code",
   "execution_count": 1,
   "metadata": {},
   "outputs": [],
   "source": [
    "class Vertice:\n",
    "    def __init__(self, rotulo, distancia_objetivo):\n",
    "        self.rotulo = rotulo\n",
    "        self.visitado = False\n",
    "        self.distancia_objetivo = distancia_objetivo\n",
    "        self.adjacentes = []\n",
    "\n",
    "    def adiciona_adjacente(self, adjacente):\n",
    "        self.adjacentes.append(adjacente)\n",
    "\n",
    "    def mostra_adjacentes(self):\n",
    "        for i in self.adjacentes:\n",
    "            print(i.vertice.rotulo, i.custo)"
   ]
  },
  {
   "cell_type": "code",
   "execution_count": 2,
   "metadata": {},
   "outputs": [],
   "source": [
    "class Adjacente:\n",
    "    def __init__(self, vertice, custo):\n",
    "        self.vertice = vertice\n",
    "        self.custo = custo   \n",
    "        self.distancia_aestrela = vertice.distancia_objetivo + self.custo"
   ]
  },
  {
   "cell_type": "code",
   "execution_count": 3,
   "metadata": {},
   "outputs": [],
   "source": [
    "class Grafo:\n",
    "    arad = Vertice('Arad', 366)\n",
    "    zerind = Vertice('Zerind', 374)\n",
    "    oradea = Vertice('Oradea', 380)\n",
    "    sibiu = Vertice('Sibiu', 253)\n",
    "    timisoara = Vertice('Timisoara', 329)\n",
    "    lugoj = Vertice('Lugoj', 244)\n",
    "    mehadia = Vertice('Mehadia', 241)\n",
    "    dobreta = Vertice('Dobreta', 242)\n",
    "    craiova = Vertice('Craiova', 160)\n",
    "    rimnicu = Vertice('Rimnicu', 193)\n",
    "    fagaras = Vertice('Fagaras', 178)\n",
    "    pitesti = Vertice('Pitesti', 98)\n",
    "    bucharest = Vertice('Bucharest', 0)\n",
    "    giurgiu = Vertice('Giurgiu', 77)\n",
    "\n",
    "    arad.adiciona_adjacente(Adjacente(zerind, 75))\n",
    "    arad.adiciona_adjacente(Adjacente(sibiu, 140))\n",
    "    arad.adiciona_adjacente(Adjacente(timisoara, 118))\n",
    "\n",
    "    zerind.adiciona_adjacente(Adjacente(arad, 75))\n",
    "    zerind.adiciona_adjacente(Adjacente(oradea, 71))\n",
    "\n",
    "    oradea.adiciona_adjacente(Adjacente(zerind, 71))\n",
    "    oradea.adiciona_adjacente(Adjacente(sibiu, 151))\n",
    "\n",
    "    sibiu.adiciona_adjacente(Adjacente(oradea, 151))\n",
    "    sibiu.adiciona_adjacente(Adjacente(arad, 140))\n",
    "    sibiu.adiciona_adjacente(Adjacente(fagaras, 99))\n",
    "    sibiu.adiciona_adjacente(Adjacente(rimnicu, 80))\n",
    "\n",
    "    timisoara.adiciona_adjacente(Adjacente(arad, 118))\n",
    "    timisoara.adiciona_adjacente(Adjacente(lugoj, 111))\n",
    "\n",
    "    lugoj.adiciona_adjacente(Adjacente(timisoara, 111))\n",
    "    lugoj.adiciona_adjacente(Adjacente(mehadia, 70))\n",
    "\n",
    "    mehadia.adiciona_adjacente(Adjacente(lugoj, 70))\n",
    "    mehadia.adiciona_adjacente(Adjacente(dobreta, 75))\n",
    "\n",
    "    dobreta.adiciona_adjacente(Adjacente(mehadia, 75))\n",
    "    dobreta.adiciona_adjacente(Adjacente(craiova, 120))\n",
    "\n",
    "    craiova.adiciona_adjacente(Adjacente(dobreta, 120))\n",
    "    craiova.adiciona_adjacente(Adjacente(pitesti, 138))\n",
    "    craiova.adiciona_adjacente(Adjacente(rimnicu, 146))\n",
    "\n",
    "    rimnicu.adiciona_adjacente(Adjacente(craiova, 146))\n",
    "    rimnicu.adiciona_adjacente(Adjacente(sibiu, 80))\n",
    "    rimnicu.adiciona_adjacente(Adjacente(pitesti, 97))\n",
    "\n",
    "    fagaras.adiciona_adjacente(Adjacente(sibiu, 99))\n",
    "    fagaras.adiciona_adjacente(Adjacente(bucharest, 211))\n",
    "\n",
    "    pitesti.adiciona_adjacente(Adjacente(rimnicu, 97))\n",
    "    pitesti.adiciona_adjacente(Adjacente(craiova, 138))\n",
    "    pitesti.adiciona_adjacente(Adjacente(bucharest, 101))\n",
    "\n",
    "    bucharest.adiciona_adjacente(Adjacente(fagaras, 211))\n",
    "    bucharest.adiciona_adjacente(Adjacente(pitesti, 101))\n",
    "    bucharest.adiciona_adjacente(Adjacente(giurgiu, 90))"
   ]
  },
  {
   "cell_type": "code",
   "execution_count": 4,
   "metadata": {},
   "outputs": [],
   "source": [
    "grafo = Grafo()"
   ]
  },
  {
   "attachments": {},
   "cell_type": "markdown",
   "metadata": {},
   "source": [
    "## Vetor Ordenado (adjacente)"
   ]
  },
  {
   "cell_type": "code",
   "execution_count": 5,
   "metadata": {},
   "outputs": [],
   "source": [
    "import numpy as np\n",
    "\n",
    "class VetorOrdenado:\n",
    "    def __init__(self, capacity):\n",
    "        self.capacity = capacity\n",
    "        self.last_position = -1\n",
    "        self.values = np.empty(self.capacity, dtype=object)\n",
    "    \n",
    "    def print_values(self):\n",
    "        if self.last_position == -1:\n",
    "            print('The vector is empty')\n",
    "        else:\n",
    "            for i in range(self.last_position+1):\n",
    "                print(i, ' - ', self.values[i].vertice.rotulo, ' - ',\n",
    "                      self.values[i].custo, ' - ',\n",
    "                      self.values[i].vertice.distancia_objetivo, ' - ',\n",
    "                      self.values[i].distancia_aestrela)\n",
    "\n",
    "    def insert_value(self, vertice):\n",
    "        if self.last_position == self.capacity-1:\n",
    "            print(\"Max capacity reached\")\n",
    "            return\n",
    "\n",
    "        position = 0\n",
    "        \n",
    "        for i in range(self.last_position+1):\n",
    "            position = i\n",
    "            if self.values[i].distancia_aestrela > vertice.distancia_aestrela:\n",
    "                break\n",
    "            if i == self.last_position:\n",
    "                position +=1\n",
    "\n",
    "        for i in range(self.last_position, position-1, -1):\n",
    "            self.values[i+1] = self.values[i]\n",
    "\n",
    "        self.values[position] = vertice\n",
    "        self.last_position += 1"
   ]
  },
  {
   "cell_type": "code",
   "execution_count": 6,
   "metadata": {},
   "outputs": [
    {
     "data": {
      "text/plain": [
       "449"
      ]
     },
     "execution_count": 6,
     "metadata": {},
     "output_type": "execute_result"
    }
   ],
   "source": [
    "grafo.arad.adjacentes[0].distancia_aestrela"
   ]
  },
  {
   "attachments": {},
   "cell_type": "markdown",
   "metadata": {},
   "source": [
    "## Busca A*"
   ]
  },
  {
   "cell_type": "code",
   "execution_count": 7,
   "metadata": {},
   "outputs": [],
   "source": [
    "class AEstrela:\n",
    "    def __init__(self, objetivo):\n",
    "        self.objetivo = objetivo\n",
    "        self.encontrado = False\n",
    "\n",
    "    def buscar(self, atual):\n",
    "        print(\"----------\")\n",
    "        print(f'Atual: {atual.rotulo}')\n",
    "        atual.visitado = True\n",
    "\n",
    "        if atual == self.objetivo:\n",
    "            self.encontrado = True\n",
    "        else:\n",
    "            vetor_ordenado = VetorOrdenado(len(atual.adjacentes))\n",
    "            for adjacente in atual.adjacentes:\n",
    "                if adjacente.vertice.visitado == False:\n",
    "                    adjacente.vertice.visitado = True\n",
    "                    vetor_ordenado.insert_value(adjacente)\n",
    "            vetor_ordenado.print_values()\n",
    "\n",
    "            if vetor_ordenado.values[0] != None:\n",
    "                self.buscar(vetor_ordenado.values[0].vertice)\n",
    "\n"
   ]
  },
  {
   "cell_type": "code",
   "execution_count": 8,
   "metadata": {},
   "outputs": [
    {
     "name": "stdout",
     "output_type": "stream",
     "text": [
      "----------\n",
      "Atual: Arad\n",
      "0  -  Sibiu  -  140  -  253  -  393\n",
      "1  -  Timisoara  -  118  -  329  -  447\n",
      "2  -  Zerind  -  75  -  374  -  449\n"
     ]
    },
    {
     "ename": "AttributeError",
     "evalue": "'VetorOrdenado' object has no attribute 'valores'",
     "output_type": "error",
     "traceback": [
      "\u001b[1;31m---------------------------------------------------------------------------\u001b[0m",
      "\u001b[1;31mAttributeError\u001b[0m                            Traceback (most recent call last)",
      "\u001b[1;32md:\\rthiago\\Documents\\OneDrive\\Área de Trabalho\\Thiago\\IA_Expert\\Inteligência Artificial e Machine Learning\\Parte 1 - Algoritmos de Busca\\busca_aestrela.ipynb Célula 12\u001b[0m in \u001b[0;36m<cell line: 2>\u001b[1;34m()\u001b[0m\n\u001b[0;32m      <a href='vscode-notebook-cell:/d%3A/rthiago/Documents/OneDrive/%C3%81rea%20de%20Trabalho/Thiago/IA_Expert/Intelig%C3%AAncia%20Artificial%20e%20Machine%20Learning/Parte%201%20-%20Algoritmos%20de%20Busca/busca_aestrela.ipynb#X14sZmlsZQ%3D%3D?line=0'>1</a>\u001b[0m busca_aestrela \u001b[39m=\u001b[39m AEstrela(grafo\u001b[39m.\u001b[39mbucharest)\n\u001b[1;32m----> <a href='vscode-notebook-cell:/d%3A/rthiago/Documents/OneDrive/%C3%81rea%20de%20Trabalho/Thiago/IA_Expert/Intelig%C3%AAncia%20Artificial%20e%20Machine%20Learning/Parte%201%20-%20Algoritmos%20de%20Busca/busca_aestrela.ipynb#X14sZmlsZQ%3D%3D?line=1'>2</a>\u001b[0m busca_aestrela\u001b[39m.\u001b[39;49mbuscar(grafo\u001b[39m.\u001b[39;49marad)\n",
      "\u001b[1;32md:\\rthiago\\Documents\\OneDrive\\Área de Trabalho\\Thiago\\IA_Expert\\Inteligência Artificial e Machine Learning\\Parte 1 - Algoritmos de Busca\\busca_aestrela.ipynb Célula 12\u001b[0m in \u001b[0;36mAEstrela.buscar\u001b[1;34m(self, atual)\u001b[0m\n\u001b[0;32m     <a href='vscode-notebook-cell:/d%3A/rthiago/Documents/OneDrive/%C3%81rea%20de%20Trabalho/Thiago/IA_Expert/Intelig%C3%AAncia%20Artificial%20e%20Machine%20Learning/Parte%201%20-%20Algoritmos%20de%20Busca/busca_aestrela.ipynb#X14sZmlsZQ%3D%3D?line=18'>19</a>\u001b[0m vetor_ordenado\u001b[39m.\u001b[39mprint_values()\n\u001b[0;32m     <a href='vscode-notebook-cell:/d%3A/rthiago/Documents/OneDrive/%C3%81rea%20de%20Trabalho/Thiago/IA_Expert/Intelig%C3%AAncia%20Artificial%20e%20Machine%20Learning/Parte%201%20-%20Algoritmos%20de%20Busca/busca_aestrela.ipynb#X14sZmlsZQ%3D%3D?line=20'>21</a>\u001b[0m \u001b[39mif\u001b[39;00m vetor_ordenado\u001b[39m.\u001b[39mvalues[\u001b[39m0\u001b[39m] \u001b[39m!=\u001b[39m \u001b[39mNone\u001b[39;00m:\n\u001b[1;32m---> <a href='vscode-notebook-cell:/d%3A/rthiago/Documents/OneDrive/%C3%81rea%20de%20Trabalho/Thiago/IA_Expert/Intelig%C3%AAncia%20Artificial%20e%20Machine%20Learning/Parte%201%20-%20Algoritmos%20de%20Busca/busca_aestrela.ipynb#X14sZmlsZQ%3D%3D?line=21'>22</a>\u001b[0m     \u001b[39mself\u001b[39m\u001b[39m.\u001b[39mbuscar(vetor_ordenado\u001b[39m.\u001b[39;49mvalores[\u001b[39m0\u001b[39m]\u001b[39m.\u001b[39mvertice)\n",
      "\u001b[1;31mAttributeError\u001b[0m: 'VetorOrdenado' object has no attribute 'valores'"
     ]
    }
   ],
   "source": [
    "busca_aestrela = AEstrela(grafo.bucharest)\n",
    "busca_aestrela.buscar(grafo.arad)"
   ]
  }
 ],
 "metadata": {
  "kernelspec": {
   "display_name": "base",
   "language": "python",
   "name": "python3"
  },
  "language_info": {
   "codemirror_mode": {
    "name": "ipython",
    "version": 3
   },
   "file_extension": ".py",
   "mimetype": "text/x-python",
   "name": "python",
   "nbconvert_exporter": "python",
   "pygments_lexer": "ipython3",
   "version": "3.9.12"
  },
  "orig_nbformat": 4
 },
 "nbformat": 4,
 "nbformat_minor": 2
}
