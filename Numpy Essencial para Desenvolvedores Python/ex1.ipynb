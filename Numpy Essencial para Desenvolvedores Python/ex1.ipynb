{
  "nbformat": 4,
  "nbformat_minor": 0,
  "metadata": {
    "colab": {
      "provenance": []
    },
    "kernelspec": {
      "name": "python3",
      "display_name": "Python 3"
    },
    "language_info": {
      "name": "python"
    }
  },
  "cells": [
    {
      "cell_type": "code",
      "execution_count": null,
      "metadata": {
        "id": "sgYgpXPEmTmW"
      },
      "outputs": [],
      "source": [
        "import numpy as np"
      ]
    },
    {
      "cell_type": "code",
      "source": [
        "np.__version__"
      ],
      "metadata": {
        "colab": {
          "base_uri": "https://localhost:8080/",
          "height": 35
        },
        "id": "WToUoFxfmkqS",
        "outputId": "2ab0880b-f602-4a1a-faca-65935f1ad504"
      },
      "execution_count": null,
      "outputs": [
        {
          "output_type": "execute_result",
          "data": {
            "text/plain": [
              "'1.25.2'"
            ],
            "application/vnd.google.colaboratory.intrinsic+json": {
              "type": "string"
            }
          },
          "metadata": {},
          "execution_count": 20
        }
      ]
    },
    {
      "cell_type": "markdown",
      "source": [
        "Neste módulo, você será convidado a refazer alguns dos exemplos apresentados na aula, para fixação dos conceitos."
      ],
      "metadata": {
        "id": "qQSiQYijRktN"
      }
    },
    {
      "cell_type": "markdown",
      "source": [
        "### NumPy x Listas"
      ],
      "metadata": {
        "id": "tKBdhQQHm1vm"
      }
    },
    {
      "cell_type": "markdown",
      "source": [
        "#### Tamanho fixo"
      ],
      "metadata": {
        "id": "uEVvDAHfnBMq"
      }
    },
    {
      "cell_type": "markdown",
      "source": [
        "Abaixo vamos instanciar um array com 4 elementos."
      ],
      "metadata": {
        "id": "vOyZ8mANSbus"
      }
    },
    {
      "cell_type": "code",
      "source": [
        "array_a = np.array([0, 1, 2, 3])"
      ],
      "metadata": {
        "id": "ps9uf0w2SWMr"
      },
      "execution_count": null,
      "outputs": []
    },
    {
      "cell_type": "markdown",
      "source": [
        "Utilizando a função `np.append`, adicione o elemento `4` no final deste array. Lembre-se que este elemento deve estar \"envelopado\" em uma lista: `[4]`. Coloque o resultado em novo array chamado `array_b` e exiba o resultado."
      ],
      "metadata": {
        "id": "rrXB8W-QSoGL"
      }
    },
    {
      "cell_type": "code",
      "source": [
        "array_b = ..."
      ],
      "metadata": {
        "id": "8YlWbU2SS0ta"
      },
      "execution_count": null,
      "outputs": []
    },
    {
      "cell_type": "code",
      "source": [
        "array_b"
      ],
      "metadata": {
        "colab": {
          "base_uri": "https://localhost:8080/"
        },
        "id": "2YDy_oncPerW",
        "outputId": "74f67883-498f-445c-97a6-5ca251e3d5b9"
      },
      "execution_count": null,
      "outputs": [
        {
          "output_type": "execute_result",
          "data": {
            "text/plain": [
              "array([0, 1, 2, 3, 4])"
            ]
          },
          "metadata": {},
          "execution_count": 23
        }
      ]
    },
    {
      "cell_type": "markdown",
      "source": [
        "Agora, utilizando a função `id` do Python e o comparador `==`, mostre que os dois arrays têm endereços diferentes na memória, o que mostra que `array_b` é diferente de `array_a`.\n",
        "\n",
        "💡 Isto ocorre porque, no NumPy, os arrays têm **tamanho fixo**. Se você adicionar elementos no array, um novo array é criado."
      ],
      "metadata": {
        "id": "GtdyCwQHTHJ0"
      }
    },
    {
      "cell_type": "code",
      "source": [
        "..."
      ],
      "metadata": {
        "colab": {
          "base_uri": "https://localhost:8080/"
        },
        "id": "1D3cZLSXTFPz",
        "outputId": "e78d1c32-69ca-46e1-aca2-b35dc63a604d"
      },
      "execution_count": null,
      "outputs": [
        {
          "output_type": "execute_result",
          "data": {
            "text/plain": [
              "False"
            ]
          },
          "metadata": {},
          "execution_count": 24
        }
      ]
    },
    {
      "cell_type": "markdown",
      "source": [
        "#### Homogêneo"
      ],
      "metadata": {
        "id": "-ZoG41JOoFSZ"
      }
    },
    {
      "cell_type": "markdown",
      "source": [
        "Instancie um array `array_c` com 3 elementos:\n",
        "- o número `3` (inteiro)\n",
        "- o número `7.9` (float)\n",
        "- o valor `False` (booleano)\n",
        "\n",
        "Exiba este array."
      ],
      "metadata": {
        "id": "vz2ZSUpSTna1"
      }
    },
    {
      "cell_type": "code",
      "source": [
        "array_c = ..."
      ],
      "metadata": {
        "id": "c4Eoca1KTmyK"
      },
      "execution_count": null,
      "outputs": []
    },
    {
      "cell_type": "code",
      "source": [
        "array_c"
      ],
      "metadata": {
        "colab": {
          "base_uri": "https://localhost:8080/"
        },
        "id": "Dfza8ZPIP0-f",
        "outputId": "cb1a2b73-5c91-44bf-8a9d-717b7382eccf"
      },
      "execution_count": null,
      "outputs": [
        {
          "output_type": "execute_result",
          "data": {
            "text/plain": [
              "array([3. , 7.9, 0. ])"
            ]
          },
          "metadata": {},
          "execution_count": 26
        }
      ]
    },
    {
      "cell_type": "markdown",
      "source": [
        "Utilizando um loop `for` para iterar sobre os elementos de `array_c`,  exiba na tela (`print`) o próprio elemento, e o tipo de cada elemento do array, utilizando a função `type`."
      ],
      "metadata": {
        "id": "9u2fJtYuUIFu"
      }
    },
    {
      "cell_type": "code",
      "source": [
        "for ...\n",
        "    print(..., ...)"
      ],
      "metadata": {
        "colab": {
          "base_uri": "https://localhost:8080/"
        },
        "id": "GNw0o0BPTfff",
        "outputId": "8077a508-1483-433d-9b37-ed040d5d7d76"
      },
      "execution_count": null,
      "outputs": [
        {
          "output_type": "stream",
          "name": "stdout",
          "text": [
            "3.0 <class 'numpy.float64'>\n",
            "7.9 <class 'numpy.float64'>\n",
            "0.0 <class 'numpy.float64'>\n"
          ]
        }
      ]
    },
    {
      "cell_type": "markdown",
      "source": [
        "💡 Observe que, para manter a homogeneidade do array, todos os elementos foram convertidos para o tipo `np.float`."
      ],
      "metadata": {
        "id": "StufrPCbUirs"
      }
    },
    {
      "cell_type": "markdown",
      "source": [
        "Agora, utilizando o método `dtype` do array, exiba o tipo de dado que ele armazena."
      ],
      "metadata": {
        "id": "8gLjt4n8Uo5g"
      }
    },
    {
      "cell_type": "code",
      "source": [
        "..."
      ],
      "metadata": {
        "colab": {
          "base_uri": "https://localhost:8080/"
        },
        "id": "nQs5KosPUhMy",
        "outputId": "45b17652-5b12-4993-a62b-b1f6997e0ea8"
      },
      "execution_count": null,
      "outputs": [
        {
          "output_type": "execute_result",
          "data": {
            "text/plain": [
              "dtype('float64')"
            ]
          },
          "metadata": {},
          "execution_count": 28
        }
      ]
    },
    {
      "cell_type": "markdown",
      "source": [
        "💡 Perceba que o array têm o mesmo tipo de dado que seus elementos."
      ],
      "metadata": {
        "id": "iJMDDGpyUwsQ"
      }
    },
    {
      "cell_type": "markdown",
      "source": [
        "#### Vetorização"
      ],
      "metadata": {
        "id": "bj8peJXMo8wB"
      }
    },
    {
      "cell_type": "markdown",
      "source": [
        "Instancie um array `array_d` com os valores `10`, `11`, `12` e `13`, e um array `array_e` com os valores `1`, `2`, `3` e `4`.\n",
        "\n",
        "Exiba estes dois arrays."
      ],
      "metadata": {
        "id": "nsWnvPbvVCLQ"
      }
    },
    {
      "cell_type": "code",
      "source": [
        "array_d = ...\n",
        "array_e = ...\n",
        "\n",
        "array_d, array_e"
      ],
      "metadata": {
        "colab": {
          "base_uri": "https://localhost:8080/"
        },
        "id": "7sSJIuFJUvW4",
        "outputId": "5382ce52-43fb-40c9-eaf2-3d92d8680342"
      },
      "execution_count": null,
      "outputs": [
        {
          "output_type": "execute_result",
          "data": {
            "text/plain": [
              "(array([10, 11, 12, 13]), array([1, 2, 3, 4]))"
            ]
          },
          "metadata": {},
          "execution_count": 29
        }
      ]
    },
    {
      "cell_type": "markdown",
      "source": [
        "Agora, realize as 4 operações matemáticas básicas (soma, subtração, multiplicação e divisão) utilizando os operadores nativos do Python (`+`, `-`, `*`, `/`). Exiba os resultados diretamente, sem armazená-los em uma variável antes."
      ],
      "metadata": {
        "id": "XG05DWkvVeO4"
      }
    },
    {
      "cell_type": "code",
      "source": [
        "... + ..."
      ],
      "metadata": {
        "colab": {
          "base_uri": "https://localhost:8080/"
        },
        "id": "0T29UX41VwQ9",
        "outputId": "fa654bbf-1c1d-4847-993a-68e66c92c6f7"
      },
      "execution_count": null,
      "outputs": [
        {
          "output_type": "execute_result",
          "data": {
            "text/plain": [
              "array([11, 13, 15, 17])"
            ]
          },
          "metadata": {},
          "execution_count": 30
        }
      ]
    },
    {
      "cell_type": "code",
      "source": [
        "..."
      ],
      "metadata": {
        "colab": {
          "base_uri": "https://localhost:8080/"
        },
        "id": "MAHxG5C3VxoL",
        "outputId": "921cca43-fccf-46de-8449-9b6d809ffe2d"
      },
      "execution_count": null,
      "outputs": [
        {
          "output_type": "execute_result",
          "data": {
            "text/plain": [
              "array([9, 9, 9, 9])"
            ]
          },
          "metadata": {},
          "execution_count": 31
        }
      ]
    },
    {
      "cell_type": "code",
      "source": [
        "..."
      ],
      "metadata": {
        "colab": {
          "base_uri": "https://localhost:8080/"
        },
        "id": "pRmhuvthVyw-",
        "outputId": "5888cf5c-8d8e-4a41-a9a2-7e75c78bb337"
      },
      "execution_count": null,
      "outputs": [
        {
          "output_type": "execute_result",
          "data": {
            "text/plain": [
              "array([10, 22, 36, 52])"
            ]
          },
          "metadata": {},
          "execution_count": 32
        }
      ]
    },
    {
      "cell_type": "code",
      "source": [
        "..."
      ],
      "metadata": {
        "colab": {
          "base_uri": "https://localhost:8080/"
        },
        "id": "kRO3kGdRVzpA",
        "outputId": "2cce2af2-001a-41ea-f69c-9c2ee5639495"
      },
      "execution_count": null,
      "outputs": [
        {
          "output_type": "execute_result",
          "data": {
            "text/plain": [
              "array([10.  ,  5.5 ,  4.  ,  3.25])"
            ]
          },
          "metadata": {},
          "execution_count": 33
        }
      ]
    },
    {
      "cell_type": "markdown",
      "source": [
        "💡 O uso dos operadores básicos só é possível graças à propriedade vetorial dos arrays do NumPy, que permite operações matemáticas elemento-a-elemento entre arrays."
      ],
      "metadata": {
        "id": "1p2DXweeV2v7"
      }
    },
    {
      "cell_type": "markdown",
      "source": [
        "#### Broadcasting"
      ],
      "metadata": {
        "id": "4sgdl_VYrJfz"
      }
    },
    {
      "cell_type": "markdown",
      "source": [
        "Vamos reutilizar o `array_d` para demonstrar a propriedade de broadcasting.\n",
        "\n",
        "Utilize os 4 operadores matemáticos básicos para somar, subtrair, multiplicar e dividir o valor `2` de cada elemento do array.\n",
        "\n",
        "Printe os resultados diretamente na tela."
      ],
      "metadata": {
        "id": "Yz5WHX1oWatG"
      }
    },
    {
      "cell_type": "code",
      "source": [
        "... + 2"
      ],
      "metadata": {
        "colab": {
          "base_uri": "https://localhost:8080/"
        },
        "id": "1Je3FvZQV1HF",
        "outputId": "a7f1412d-c621-42fd-d8aa-a23afebd3bc9"
      },
      "execution_count": null,
      "outputs": [
        {
          "output_type": "execute_result",
          "data": {
            "text/plain": [
              "array([12, 13, 14, 15])"
            ]
          },
          "metadata": {},
          "execution_count": 34
        }
      ]
    },
    {
      "cell_type": "code",
      "source": [
        "..."
      ],
      "metadata": {
        "colab": {
          "base_uri": "https://localhost:8080/"
        },
        "id": "d8Z1KfgfW5nZ",
        "outputId": "7513fcff-5ee9-476f-d37f-6a7f4cce72a7"
      },
      "execution_count": null,
      "outputs": [
        {
          "output_type": "execute_result",
          "data": {
            "text/plain": [
              "array([ 8,  9, 10, 11])"
            ]
          },
          "metadata": {},
          "execution_count": 35
        }
      ]
    },
    {
      "cell_type": "code",
      "source": [
        "..."
      ],
      "metadata": {
        "colab": {
          "base_uri": "https://localhost:8080/"
        },
        "id": "LsFdHoDLW6sK",
        "outputId": "7edaa61e-8d5e-4818-be2f-5efd3c88fd45"
      },
      "execution_count": null,
      "outputs": [
        {
          "output_type": "execute_result",
          "data": {
            "text/plain": [
              "array([20, 22, 24, 26])"
            ]
          },
          "metadata": {},
          "execution_count": 36
        }
      ]
    },
    {
      "cell_type": "code",
      "source": [
        "..."
      ],
      "metadata": {
        "colab": {
          "base_uri": "https://localhost:8080/"
        },
        "id": "XUHz5QL9W8cL",
        "outputId": "fcc55c8f-8ad6-44e0-ea46-f23ad0e973e1"
      },
      "execution_count": null,
      "outputs": [
        {
          "output_type": "execute_result",
          "data": {
            "text/plain": [
              "array([5. , 5.5, 6. , 6.5])"
            ]
          },
          "metadata": {},
          "execution_count": 37
        }
      ]
    },
    {
      "cell_type": "markdown",
      "source": [
        "💡 Observe que, se você quiser realizar essas operações em todos os elementos do array com um **valor fixo**, é possível utilizar este valor como um escalar, sem a necessidade de transformá-lo em um array. Isto é possível graças à propriedade de broadcasting."
      ],
      "metadata": {
        "id": "3qRwf6htXG9y"
      }
    }
  ]
}