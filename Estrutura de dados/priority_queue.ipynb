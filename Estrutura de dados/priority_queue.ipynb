{
 "cells": [
  {
   "cell_type": "markdown",
   "metadata": {},
   "source": [
    "# Priority Queue"
   ]
  },
  {
   "cell_type": "code",
   "execution_count": 1,
   "metadata": {},
   "outputs": [],
   "source": [
    "import numpy as np"
   ]
  },
  {
   "cell_type": "code",
   "execution_count": 7,
   "metadata": {},
   "outputs": [],
   "source": [
    "class PriotityQueue:\n",
    "    def __init__(self, capacity):\n",
    "        self.capacity = capacity\n",
    "        self.number_of_elements = 0\n",
    "        self.values = np.empty(self.capacity, dtype=int)\n",
    "    \n",
    "    def __empty_queue(self):\n",
    "        return self.number_of_elements == 0\n",
    "    \n",
    "    def __full_queue(self):\n",
    "        return self.number_of_elements == self.capacity\n",
    "    \n",
    "    def enqueue(self, value):\n",
    "        if self.__full_queue():\n",
    "            print('The Queue is full!')\n",
    "            return\n",
    "        \n",
    "        if self.__empty_queue():\n",
    "            self.values[self.number_of_elements] = value\n",
    "            self.number_of_elements += 1\n",
    "        else:\n",
    "            x = self.number_of_elements - 1\n",
    "            while x >= 0:\n",
    "                if value > self.values[x]:\n",
    "                    self.values[x+1] = self.values[x]\n",
    "                else:\n",
    "                    break\n",
    "                x -= 1\n",
    "            self.values[x+1] = value\n",
    "            self.number_of_elements += 1\n",
    "\n",
    "    def dequeue(self):\n",
    "        if self.__empty_queue():\n",
    "            print('The queue is empty!')\n",
    "            return\n",
    "        \n",
    "        value = self.values[self.number_of_elements -1]\n",
    "        self.number_of_elements -= 1\n",
    "        return value\n",
    "    \n",
    "    def first_item(self):\n",
    "        if self.__empty_queue():\n",
    "            return -1\n",
    "        return self.values[self.number_of_elements-1]"
   ]
  },
  {
   "cell_type": "code",
   "execution_count": 8,
   "metadata": {},
   "outputs": [],
   "source": [
    "queue = PriotityQueue(5)"
   ]
  },
  {
   "cell_type": "code",
   "execution_count": 11,
   "metadata": {},
   "outputs": [
    {
     "data": {
      "text/plain": [
       "30"
      ]
     },
     "execution_count": 11,
     "metadata": {},
     "output_type": "execute_result"
    }
   ],
   "source": [
    "queue.first_item()"
   ]
  },
  {
   "cell_type": "code",
   "execution_count": 18,
   "metadata": {},
   "outputs": [
    {
     "data": {
      "text/plain": [
       "30"
      ]
     },
     "execution_count": 18,
     "metadata": {},
     "output_type": "execute_result"
    }
   ],
   "source": [
    "queue.enqueue(30)\n",
    "queue.first_item()\n"
   ]
  },
  {
   "cell_type": "code",
   "execution_count": 19,
   "metadata": {},
   "outputs": [
    {
     "data": {
      "text/plain": [
       "30"
      ]
     },
     "execution_count": 19,
     "metadata": {},
     "output_type": "execute_result"
    }
   ],
   "source": [
    "queue.enqueue(50)\n",
    "queue.first_item()\n"
   ]
  },
  {
   "cell_type": "code",
   "execution_count": 20,
   "metadata": {},
   "outputs": [
    {
     "data": {
      "text/plain": [
       "10"
      ]
     },
     "execution_count": 20,
     "metadata": {},
     "output_type": "execute_result"
    }
   ],
   "source": [
    "queue.enqueue(10)\n",
    "queue.first_item()\n"
   ]
  },
  {
   "cell_type": "code",
   "execution_count": 21,
   "metadata": {},
   "outputs": [
    {
     "data": {
      "text/plain": [
       "10"
      ]
     },
     "execution_count": 21,
     "metadata": {},
     "output_type": "execute_result"
    }
   ],
   "source": [
    "queue.enqueue(40)\n",
    "queue.first_item()"
   ]
  },
  {
   "cell_type": "code",
   "execution_count": 25,
   "metadata": {},
   "outputs": [
    {
     "name": "stdout",
     "output_type": "stream",
     "text": [
      "The Queue is full!\n"
     ]
    },
    {
     "data": {
      "text/plain": [
       "10"
      ]
     },
     "execution_count": 25,
     "metadata": {},
     "output_type": "execute_result"
    }
   ],
   "source": [
    "queue.enqueue(20)\n",
    "queue.first_item()"
   ]
  },
  {
   "cell_type": "code",
   "execution_count": 24,
   "metadata": {},
   "outputs": [
    {
     "data": {
      "text/plain": [
       "array([50, 40, 30, 20, 10])"
      ]
     },
     "execution_count": 24,
     "metadata": {},
     "output_type": "execute_result"
    }
   ],
   "source": [
    "queue.values"
   ]
  },
  {
   "cell_type": "code",
   "execution_count": 31,
   "metadata": {},
   "outputs": [
    {
     "name": "stdout",
     "output_type": "stream",
     "text": [
      "The queue is empty!\n"
     ]
    }
   ],
   "source": [
    "queue.dequeue()"
   ]
  }
 ],
 "metadata": {
  "kernelspec": {
   "display_name": "Python 3",
   "language": "python",
   "name": "python3"
  },
  "language_info": {
   "codemirror_mode": {
    "name": "ipython",
    "version": 3
   },
   "file_extension": ".py",
   "mimetype": "text/x-python",
   "name": "python",
   "nbconvert_exporter": "python",
   "pygments_lexer": "ipython3",
   "version": "3.10.12"
  }
 },
 "nbformat": 4,
 "nbformat_minor": 2
}
