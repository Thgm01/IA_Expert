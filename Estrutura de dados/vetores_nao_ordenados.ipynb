{
 "cells": [
  {
   "attachments": {},
   "cell_type": "markdown",
   "metadata": {},
   "source": [
    "Vetores não ordenados"
   ]
  },
  {
   "cell_type": "code",
   "execution_count": 4,
   "metadata": {},
   "outputs": [],
   "source": [
    "import numpy as np"
   ]
  },
  {
   "cell_type": "code",
   "execution_count": 47,
   "metadata": {},
   "outputs": [],
   "source": [
    "class VetorNaoOrdenado:\n",
    "    def __init__(self, capacity):\n",
    "        self.capacity = capacity\n",
    "        self.last_position = -1\n",
    "        self.values = np.empty(self.capacity, dtype=int)\n",
    "    \n",
    "    # O(n)\n",
    "    def print_values(self):\n",
    "        if self.last_position == -1:\n",
    "            print('The vector is empty')\n",
    "        else:\n",
    "            for i in range(self.last_position+1):\n",
    "                print(i, '-', self.values[i])\n",
    "    \n",
    "    # O(2)\n",
    "    def insert_value(self, value):\n",
    "        if self.last_position == self.capacity - 1:\n",
    "            print('Max Capacity reached')\n",
    "        else:\n",
    "            self.last_position += 1\n",
    "            self.values[self.last_position] = value \n",
    "    \n",
    "    # O(n)\n",
    "    def search_value(self, value):\n",
    "        for i in range(self.last_position+1):\n",
    "            if value == self.values[i]:\n",
    "                return i\n",
    "        return -1\n",
    "\n",
    "    # O(n)\n",
    "    def exclude_value(self, value):\n",
    "        position = self.search_value(value)\n",
    "        if position == -1:\n",
    "            print(\"This value wasn't in the vector\")\n",
    "            return -1\n",
    "        for i in range(position, self.last_position):\n",
    "            self.values[i] = self.values[i+1]\n",
    "\n",
    "        self.last_position -= 1 "
   ]
  },
  {
   "cell_type": "code",
   "execution_count": 48,
   "metadata": {},
   "outputs": [],
   "source": [
    "vetor = VetorNaoOrdenado(5)"
   ]
  },
  {
   "cell_type": "code",
   "execution_count": 49,
   "metadata": {},
   "outputs": [
    {
     "name": "stdout",
     "output_type": "stream",
     "text": [
      "The vector is empty\n"
     ]
    }
   ],
   "source": [
    "vetor.print_values()"
   ]
  },
  {
   "cell_type": "code",
   "execution_count": 50,
   "metadata": {},
   "outputs": [],
   "source": [
    "vetor.insert_value(2)"
   ]
  },
  {
   "cell_type": "code",
   "execution_count": 51,
   "metadata": {},
   "outputs": [
    {
     "name": "stdout",
     "output_type": "stream",
     "text": [
      "0 - 2\n"
     ]
    }
   ],
   "source": [
    "vetor.print_values()"
   ]
  },
  {
   "cell_type": "code",
   "execution_count": 52,
   "metadata": {},
   "outputs": [],
   "source": [
    "vetor.insert_value(3)\n",
    "vetor.insert_value(5)\n",
    "vetor.insert_value(8)\n",
    "vetor.insert_value(1)"
   ]
  },
  {
   "cell_type": "code",
   "execution_count": 53,
   "metadata": {},
   "outputs": [
    {
     "name": "stdout",
     "output_type": "stream",
     "text": [
      "0 - 2\n",
      "1 - 3\n",
      "2 - 5\n",
      "3 - 8\n",
      "4 - 1\n"
     ]
    }
   ],
   "source": [
    "vetor.print_values()"
   ]
  },
  {
   "cell_type": "code",
   "execution_count": 54,
   "metadata": {},
   "outputs": [
    {
     "name": "stdout",
     "output_type": "stream",
     "text": [
      "Max Capacity reached\n"
     ]
    }
   ],
   "source": [
    "vetor.insert_value(7)"
   ]
  },
  {
   "cell_type": "code",
   "execution_count": 55,
   "metadata": {},
   "outputs": [
    {
     "data": {
      "text/plain": [
       "4"
      ]
     },
     "execution_count": 55,
     "metadata": {},
     "output_type": "execute_result"
    }
   ],
   "source": [
    "vetor.last_position"
   ]
  },
  {
   "cell_type": "code",
   "execution_count": 57,
   "metadata": {},
   "outputs": [
    {
     "data": {
      "text/plain": [
       "3"
      ]
     },
     "execution_count": 57,
     "metadata": {},
     "output_type": "execute_result"
    }
   ],
   "source": [
    "vetor.search_value(8)"
   ]
  },
  {
   "cell_type": "code",
   "execution_count": 58,
   "metadata": {},
   "outputs": [],
   "source": [
    "vetor.exclude_value(5)"
   ]
  },
  {
   "cell_type": "code",
   "execution_count": 59,
   "metadata": {},
   "outputs": [
    {
     "name": "stdout",
     "output_type": "stream",
     "text": [
      "0 - 2\n",
      "1 - 3\n",
      "2 - 8\n",
      "3 - 1\n"
     ]
    }
   ],
   "source": [
    "vetor.print_values()"
   ]
  },
  {
   "cell_type": "code",
   "execution_count": 60,
   "metadata": {},
   "outputs": [],
   "source": [
    "vetor.exclude_value(1)"
   ]
  },
  {
   "cell_type": "code",
   "execution_count": 61,
   "metadata": {},
   "outputs": [
    {
     "name": "stdout",
     "output_type": "stream",
     "text": [
      "0 - 2\n",
      "1 - 3\n",
      "2 - 8\n"
     ]
    }
   ],
   "source": [
    "vetor.print_values()"
   ]
  }
 ],
 "metadata": {
  "kernelspec": {
   "display_name": "Python 3",
   "language": "python",
   "name": "python3"
  },
  "language_info": {
   "codemirror_mode": {
    "name": "ipython",
    "version": 3
   },
   "file_extension": ".py",
   "mimetype": "text/x-python",
   "name": "python",
   "nbconvert_exporter": "python",
   "pygments_lexer": "ipython3",
   "version": "3.9.13"
  },
  "orig_nbformat": 4,
  "vscode": {
   "interpreter": {
    "hash": "bba17b8b4dc60ef00c393e5a6d62f2141086a869edc77794458820ef633196a9"
   }
  }
 },
 "nbformat": 4,
 "nbformat_minor": 2
}
