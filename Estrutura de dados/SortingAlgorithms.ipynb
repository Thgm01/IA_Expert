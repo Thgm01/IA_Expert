{
 "cells": [
  {
   "cell_type": "code",
   "execution_count": 21,
   "metadata": {},
   "outputs": [],
   "source": [
    "import numpy as np"
   ]
  },
  {
   "cell_type": "markdown",
   "metadata": {},
   "source": [
    "# Bubble Sort"
   ]
  },
  {
   "cell_type": "code",
   "execution_count": 22,
   "metadata": {},
   "outputs": [],
   "source": [
    "def bubble_sort(vetor):\n",
    "    n = len(vetor)\n",
    "\n",
    "    for i in range(n):\n",
    "        for j in range(0, n-i-1):\n",
    "            if vetor [j] > vetor[j+1]:\n",
    "                temp = vetor[j]\n",
    "                vetor[j] = vetor[j+1]\n",
    "                vetor[j+1] = temp\n",
    "    return vetor\n"
   ]
  },
  {
   "cell_type": "markdown",
   "metadata": {},
   "source": [
    "## Tests"
   ]
  },
  {
   "cell_type": "code",
   "execution_count": 23,
   "metadata": {},
   "outputs": [
    {
     "data": {
      "text/plain": [
       "array([ 3,  8, 15, 34])"
      ]
     },
     "execution_count": 23,
     "metadata": {},
     "output_type": "execute_result"
    }
   ],
   "source": [
    "bubble_sort(np.array([15, 34, 8, 3]))"
   ]
  },
  {
   "cell_type": "code",
   "execution_count": 24,
   "metadata": {},
   "outputs": [
    {
     "data": {
      "text/plain": [
       "array([ 1,  2,  3,  4,  5,  6,  7,  8,  9, 10])"
      ]
     },
     "execution_count": 24,
     "metadata": {},
     "output_type": "execute_result"
    }
   ],
   "source": [
    "bubble_sort(np.array([10, 9, 8, 7, 6, 5, 4, 3, 2, 1]))"
   ]
  },
  {
   "cell_type": "markdown",
   "metadata": {},
   "source": [
    "# Selection Sort"
   ]
  },
  {
   "cell_type": "code",
   "execution_count": 25,
   "metadata": {},
   "outputs": [],
   "source": [
    "def selection_sort(vetor):\n",
    "    n = len(vetor)\n",
    "    for i in range(n):\n",
    "        id_min = i\n",
    "        for j in range(1+i, n):\n",
    "            if vetor[j] < vetor[id_min]:\n",
    "                id_min = j\n",
    "            \n",
    "        temp = vetor[i]\n",
    "        vetor[i] = vetor[id_min]\n",
    "        vetor[id_min] = temp\n",
    "    \n",
    "    return vetor\n",
    "            "
   ]
  },
  {
   "cell_type": "code",
   "execution_count": 26,
   "metadata": {},
   "outputs": [
    {
     "data": {
      "text/plain": [
       "array([ 3,  8, 15, 34])"
      ]
     },
     "execution_count": 26,
     "metadata": {},
     "output_type": "execute_result"
    }
   ],
   "source": [
    "selection_sort(np.array([15, 34, 8, 3]))"
   ]
  },
  {
   "cell_type": "code",
   "execution_count": 27,
   "metadata": {},
   "outputs": [
    {
     "data": {
      "text/plain": [
       "array([ 1,  2,  3,  4,  5,  6,  7,  8,  9, 10])"
      ]
     },
     "execution_count": 27,
     "metadata": {},
     "output_type": "execute_result"
    }
   ],
   "source": [
    "selection_sort(np.array([10, 9, 8, 7, 6, 5, 4, 3, 2, 1]))"
   ]
  },
  {
   "cell_type": "markdown",
   "metadata": {},
   "source": [
    "# Insertion Sort"
   ]
  },
  {
   "cell_type": "code",
   "execution_count": 28,
   "metadata": {},
   "outputs": [],
   "source": [
    "def insertion_sort(vetor):\n",
    "    n = len(vetor)\n",
    "\n",
    "    for i in range(1, n):\n",
    "        marked = vetor[i]\n",
    "        j = i-1\n",
    "\n",
    "        while j >= 0 and marked < vetor[j]:\n",
    "            vetor[j+1] = vetor[j]\n",
    "            j -= 1\n",
    "        \n",
    "        vetor[j+1] = marked\n",
    "    \n",
    "    return vetor\n"
   ]
  },
  {
   "cell_type": "code",
   "execution_count": 29,
   "metadata": {},
   "outputs": [
    {
     "data": {
      "text/plain": [
       "array([ 3,  8, 15, 34])"
      ]
     },
     "execution_count": 29,
     "metadata": {},
     "output_type": "execute_result"
    }
   ],
   "source": [
    "insertion_sort(np.array([15, 34, 8, 3]))"
   ]
  },
  {
   "cell_type": "code",
   "execution_count": 30,
   "metadata": {},
   "outputs": [
    {
     "data": {
      "text/plain": [
       "array([ 1,  2,  3,  4,  5,  6,  7,  8,  9, 10])"
      ]
     },
     "execution_count": 30,
     "metadata": {},
     "output_type": "execute_result"
    }
   ],
   "source": [
    "insertion_sort(np.array([10, 9, 8, 7, 6, 5, 4, 3, 2, 1]))"
   ]
  },
  {
   "cell_type": "markdown",
   "metadata": {},
   "source": [
    "# Shell Sort"
   ]
  },
  {
   "cell_type": "code",
   "execution_count": 31,
   "metadata": {},
   "outputs": [],
   "source": [
    "def shell_sort(vetor):\n",
    "    intervalo = len(vetor) // 2\n",
    "\n",
    "    while intervalo > 0:\n",
    "        for i in range(intervalo, len(vetor)):\n",
    "            temp = vetor[i]\n",
    "            j = i\n",
    "            while j >= intervalo and vetor[j - intervalo] > temp:\n",
    "                vetor[j] = vetor[j-intervalo]\n",
    "                j -= intervalo\n",
    "            vetor[j]=temp\n",
    "        \n",
    "        intervalo //= 2\n",
    "\n",
    "    return vetor"
   ]
  },
  {
   "cell_type": "code",
   "execution_count": 32,
   "metadata": {},
   "outputs": [
    {
     "data": {
      "text/plain": [
       "array([ 3,  8, 15, 34])"
      ]
     },
     "execution_count": 32,
     "metadata": {},
     "output_type": "execute_result"
    }
   ],
   "source": [
    "shell_sort(np.array([15, 34, 8, 3]))"
   ]
  },
  {
   "cell_type": "code",
   "execution_count": 33,
   "metadata": {},
   "outputs": [
    {
     "data": {
      "text/plain": [
       "array([ 1,  2,  3,  4,  5,  6,  7,  8,  9, 10])"
      ]
     },
     "execution_count": 33,
     "metadata": {},
     "output_type": "execute_result"
    }
   ],
   "source": [
    "shell_sort(np.array([10, 9, 8, 7, 6, 5, 4, 3, 2, 1]))"
   ]
  },
  {
   "cell_type": "markdown",
   "metadata": {},
   "source": [
    "# Merge Sort"
   ]
  },
  {
   "cell_type": "code",
   "execution_count": 34,
   "metadata": {},
   "outputs": [],
   "source": [
    "def merge_sort(vetor):\n",
    "    if len(vetor) > 1:\n",
    "        div = len(vetor) // 2\n",
    "        left = vetor[:div].copy()\n",
    "        right = vetor[div:].copy()\n",
    "\n",
    "        merge_sort(left)\n",
    "        merge_sort(right)\n",
    "\n",
    "        # sort left and right\n",
    "        i = j = k = 0\n",
    "        while i < len(left) and j < len(right):\n",
    "            if left[i] < right[j]:\n",
    "                vetor[k] = left[i]\n",
    "                i += 1\n",
    "            else:\n",
    "                vetor[k] = right[j]\n",
    "                j += 1\n",
    "            k += 1\n",
    "            \n",
    "        #final sort\n",
    "        while i < len(left):\n",
    "            vetor[k] = left[i]\n",
    "            i += 1\n",
    "            k += 1\n",
    "        while j < len(right):\n",
    "            vetor[k] = right[j]\n",
    "            j += 1\n",
    "            k += 1\n",
    "    return vetor"
   ]
  },
  {
   "cell_type": "code",
   "execution_count": 35,
   "metadata": {},
   "outputs": [
    {
     "data": {
      "text/plain": [
       "array([ 3,  8, 15, 34])"
      ]
     },
     "execution_count": 35,
     "metadata": {},
     "output_type": "execute_result"
    }
   ],
   "source": [
    "merge_sort(np.array([15, 34, 8, 3]))"
   ]
  },
  {
   "cell_type": "code",
   "execution_count": 36,
   "metadata": {},
   "outputs": [
    {
     "data": {
      "text/plain": [
       "array([ 1,  2,  3,  4,  5,  6,  7,  8,  9, 10])"
      ]
     },
     "execution_count": 36,
     "metadata": {},
     "output_type": "execute_result"
    }
   ],
   "source": [
    "merge_sort(np.array([10, 9, 8, 7, 6, 5, 4, 3, 2, 1]))"
   ]
  },
  {
   "cell_type": "markdown",
   "metadata": {},
   "source": [
    "# Quick Sort"
   ]
  },
  {
   "cell_type": "code",
   "execution_count": 37,
   "metadata": {},
   "outputs": [],
   "source": [
    "def particion(vetor, begin, end):\n",
    "    pivot = vetor[end]\n",
    "    i = begin - 1\n",
    "\n",
    "    for j in range(begin, end):\n",
    "        if vetor[j] <= pivot:\n",
    "            i += 1\n",
    "            vetor[i], vetor[j] = vetor[j], vetor[i]\n",
    "    vetor[i+1], vetor[end] = vetor[end], vetor[i+1]\n",
    "\n",
    "    return i+1"
   ]
  },
  {
   "cell_type": "code",
   "execution_count": 38,
   "metadata": {},
   "outputs": [],
   "source": [
    "def quick_sort(vetor, begin, end):\n",
    "    if begin < end:\n",
    "        position = particion(vetor, begin, end)\n",
    "\n",
    "        #left sort\n",
    "        quick_sort(vetor,begin, position-1)\n",
    "        #right sort\n",
    "        quick_sort(vetor, position+1, end)\n",
    "\n",
    "    return vetor\n",
    "\n",
    "    "
   ]
  },
  {
   "cell_type": "code",
   "execution_count": 39,
   "metadata": {},
   "outputs": [
    {
     "data": {
      "text/plain": [
       "array([ 3,  8, 15, 34])"
      ]
     },
     "execution_count": 39,
     "metadata": {},
     "output_type": "execute_result"
    }
   ],
   "source": [
    "vetor = np.array([15, 34, 8, 3])\n",
    "quick_sort(vetor, 0, len(vetor) - 1)"
   ]
  },
  {
   "cell_type": "code",
   "execution_count": 40,
   "metadata": {},
   "outputs": [
    {
     "data": {
      "text/plain": [
       "array([ 1,  2,  3,  4,  5,  6,  7,  8,  9, 10])"
      ]
     },
     "execution_count": 40,
     "metadata": {},
     "output_type": "execute_result"
    }
   ],
   "source": [
    "vetor = np.array([10, 9, 8, 7, 6, 5, 4, 3, 2, 1])\n",
    "quick_sort(vetor, 0, len(vetor) - 1)\n"
   ]
  },
  {
   "cell_type": "markdown",
   "metadata": {},
   "source": [
    "# Exercises"
   ]
  },
  {
   "cell_type": "code",
   "execution_count": 65,
   "metadata": {},
   "outputs": [],
   "source": [
    "vetor = np.random.rand(5000)"
   ]
  },
  {
   "cell_type": "markdown",
   "metadata": {},
   "source": [
    "## Exercise 1 - Sorting unsorted vector"
   ]
  },
  {
   "cell_type": "code",
   "execution_count": 66,
   "metadata": {},
   "outputs": [
    {
     "name": "stdout",
     "output_type": "stream",
     "text": [
      "5.11 s ± 211 ms per loop (mean ± std. dev. of 7 runs, 1 loop each)\n"
     ]
    }
   ],
   "source": [
    "%timeit bubble_sort(vetor.copy())"
   ]
  },
  {
   "cell_type": "code",
   "execution_count": 67,
   "metadata": {},
   "outputs": [
    {
     "name": "stdout",
     "output_type": "stream",
     "text": [
      "2.82 s ± 136 ms per loop (mean ± std. dev. of 7 runs, 1 loop each)\n"
     ]
    }
   ],
   "source": [
    "%timeit selection_sort(vetor.copy())"
   ]
  },
  {
   "cell_type": "code",
   "execution_count": 68,
   "metadata": {},
   "outputs": [
    {
     "name": "stdout",
     "output_type": "stream",
     "text": [
      "2.57 s ± 227 ms per loop (mean ± std. dev. of 7 runs, 1 loop each)\n"
     ]
    }
   ],
   "source": [
    "%timeit insertion_sort(vetor.copy())"
   ]
  },
  {
   "cell_type": "code",
   "execution_count": 69,
   "metadata": {},
   "outputs": [
    {
     "name": "stdout",
     "output_type": "stream",
     "text": [
      "45.5 ms ± 1.09 ms per loop (mean ± std. dev. of 7 runs, 10 loops each)\n"
     ]
    }
   ],
   "source": [
    "%timeit shell_sort(vetor.copy())"
   ]
  },
  {
   "cell_type": "code",
   "execution_count": 70,
   "metadata": {},
   "outputs": [
    {
     "name": "stdout",
     "output_type": "stream",
     "text": [
      "36.9 ms ± 897 µs per loop (mean ± std. dev. of 7 runs, 10 loops each)\n"
     ]
    }
   ],
   "source": [
    "%timeit merge_sort(vetor.copy())"
   ]
  },
  {
   "cell_type": "code",
   "execution_count": 71,
   "metadata": {},
   "outputs": [
    {
     "name": "stdout",
     "output_type": "stream",
     "text": [
      "29.6 ms ± 5.82 ms per loop (mean ± std. dev. of 7 runs, 10 loops each)\n"
     ]
    }
   ],
   "source": [
    "%timeit quick_sort(vetor.copy(), 0, 4999)"
   ]
  },
  {
   "cell_type": "markdown",
   "metadata": {},
   "source": [
    "## Exercise 2 - Sorted Vector vs Sorting a Unsorted Vector"
   ]
  },
  {
   "cell_type": "code",
   "execution_count": 72,
   "metadata": {},
   "outputs": [],
   "source": [
    "class VetorOrdenado:\n",
    "    def __init__(self, capacity):\n",
    "        self.capacity = capacity\n",
    "        self.last_position = -1\n",
    "        self.values = np.empty(self.capacity, dtype=float)\n",
    "    \n",
    "    # O(n)\n",
    "    def print_values(self):\n",
    "        if self.last_position == -1:\n",
    "            print('The vector is empty')\n",
    "        else:\n",
    "            for i in range(self.last_position+1):\n",
    "                print(i, '-', self.values[i])\n",
    "\n",
    "    # O(n)\n",
    "    def insert_value(self, value):\n",
    "        if self.last_position == self.capacity-1:\n",
    "            print(\"Max capacity reached\")\n",
    "            return\n",
    "\n",
    "        position = 0\n",
    "        \n",
    "        for i in range(self.last_position+1):\n",
    "            position = i\n",
    "            if self.values[i] > value:\n",
    "                break\n",
    "            if i == self.last_position:\n",
    "                position +=1\n",
    "\n",
    "        for i in range(self.last_position, position-1, -1):\n",
    "            self.values[i+1] = self.values[i]\n",
    "\n",
    "#        x = self.last_position\n",
    "#        while x >= position:\n",
    "#            self.values[x+1] = self.values[x]\n",
    "#            x -= 1\n",
    "\n",
    "        self.values[position] = value\n",
    "        self.last_position += 1\n",
    "    \n",
    "    def linear_search_value(self, value):\n",
    "\n",
    "        i = 0\n",
    "        while self.values[i] <= value or i == self.last_position:\n",
    "            if self.values[i] == value:\n",
    "                return i\n",
    "            i += 1\n",
    "        return -1\n",
    "\n",
    "        # for i in range(self.last_position+1):\n",
    "        #     if self.values[i] == value:\n",
    "        #         return i\n",
    "        #     if self.values[i] > value:\n",
    "        #         return -1\n",
    "\n",
    "    # O(log n)\n",
    "    def binary_search_value(self, value):\n",
    "        lower_limit = 0\n",
    "        upper_limit = self.last_position\n",
    "\n",
    "        while True:\n",
    "            atual_position = int((upper_limit + lower_limit)/2)\n",
    "            if self.values[atual_position] == value:\n",
    "                return atual_position  \n",
    "            elif lower_limit > upper_limit:\n",
    "                return -1          \n",
    "            elif self.values[atual_position] < value:\n",
    "                lower_limit = atual_position+1\n",
    "            else:\n",
    "                upper_limit = atual_position - 1\n",
    "\n",
    "        \n",
    "    def exclude_value(self, value):\n",
    "        position = self.search_value(value)\n",
    "        if position == -1:\n",
    "            print(\"This value wasn't in the vector\")\n",
    "            return -1\n",
    "        \n",
    "        for i in range(position, self.last_position+1):\n",
    "            self.values[i] = self.values[i+1]\n",
    "        self.last_position -= 1"
   ]
  },
  {
   "cell_type": "code",
   "execution_count": 73,
   "metadata": {},
   "outputs": [],
   "source": [
    "def vector_intert(values):\n",
    "    vetor = VetorOrdenado(len(values))\n",
    "    for i in values:\n",
    "        vetor.insert_value(i)"
   ]
  },
  {
   "cell_type": "code",
   "execution_count": 74,
   "metadata": {},
   "outputs": [
    {
     "name": "stdout",
     "output_type": "stream",
     "text": [
      "2.38 s ± 69.4 ms per loop (mean ± std. dev. of 7 runs, 1 loop each)\n"
     ]
    }
   ],
   "source": [
    "%timeit vector_intert(vetor.copy())"
   ]
  }
 ],
 "metadata": {
  "kernelspec": {
   "display_name": "Python 3",
   "language": "python",
   "name": "python3"
  },
  "language_info": {
   "codemirror_mode": {
    "name": "ipython",
    "version": 3
   },
   "file_extension": ".py",
   "mimetype": "text/x-python",
   "name": "python",
   "nbconvert_exporter": "python",
   "pygments_lexer": "ipython3",
   "version": "3.10.12"
  }
 },
 "nbformat": 4,
 "nbformat_minor": 2
}
