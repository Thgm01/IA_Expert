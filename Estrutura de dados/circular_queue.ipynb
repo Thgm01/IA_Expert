{
 "cells": [
  {
   "cell_type": "markdown",
   "metadata": {},
   "source": [
    "# Circular Queue"
   ]
  },
  {
   "cell_type": "code",
   "execution_count": 1,
   "metadata": {},
   "outputs": [],
   "source": [
    "import numpy as np"
   ]
  },
  {
   "cell_type": "code",
   "execution_count": 12,
   "metadata": {},
   "outputs": [],
   "source": [
    "class CircularQueue:\n",
    "    def __init__(self, capacity):\n",
    "        self.__capacity = capacity\n",
    "        self.begin = 0\n",
    "        self.end = -1\n",
    "        self.numbers_of_elements = 0\n",
    "        self.values = np.empty(self.__capacity, dtype=int)\n",
    "\n",
    "    def __empty_queue(self):\n",
    "        return self.numbers_of_elements == 0\n",
    "    \n",
    "    def __full_queue(self):\n",
    "        return self.numbers_of_elements == self.__capacity\n",
    "\n",
    "    def enqueue(self, value):\n",
    "        if self.__full_queue():\n",
    "            print(\"The queue is full!\\n\")\n",
    "            return\n",
    "        \n",
    "        if self.end == self.__capacity - 1:\n",
    "            self.end = -1\n",
    "    \n",
    "        self.end += 1\n",
    "        self.values[self.end] = value\n",
    "        self.numbers_of_elements += 1\n",
    "    \n",
    "    def dequeue(self):\n",
    "        if self.__empty_queue():\n",
    "            print('The queue is empty\\n')\n",
    "            return\n",
    "        \n",
    "        temp = self.values[self.begin]\n",
    "        self.begin += 1\n",
    "        if self.begin == self.__capacity:\n",
    "            self.begin = 0\n",
    "        self.numbers_of_elements -= 1\n",
    "        return temp\n",
    "    \n",
    "    def first_item(self):\n",
    "        if self.__empty_queue():\n",
    "            return -1\n",
    "        return self.values[self.begin]\n",
    "\n"
   ]
  },
  {
   "cell_type": "code",
   "execution_count": 13,
   "metadata": {},
   "outputs": [],
   "source": [
    "queue = CircularQueue(5)"
   ]
  },
  {
   "cell_type": "code",
   "execution_count": 14,
   "metadata": {},
   "outputs": [
    {
     "data": {
      "text/plain": [
       "-1"
      ]
     },
     "execution_count": 14,
     "metadata": {},
     "output_type": "execute_result"
    }
   ],
   "source": [
    "queue.first_item()"
   ]
  },
  {
   "cell_type": "code",
   "execution_count": 15,
   "metadata": {},
   "outputs": [
    {
     "data": {
      "text/plain": [
       "1"
      ]
     },
     "execution_count": 15,
     "metadata": {},
     "output_type": "execute_result"
    }
   ],
   "source": [
    "queue.enqueue(1)\n",
    "queue.first_item()"
   ]
  },
  {
   "cell_type": "code",
   "execution_count": 16,
   "metadata": {},
   "outputs": [
    {
     "data": {
      "text/plain": [
       "1"
      ]
     },
     "execution_count": 16,
     "metadata": {},
     "output_type": "execute_result"
    }
   ],
   "source": [
    "queue.enqueue(2)\n",
    "queue.first_item()"
   ]
  },
  {
   "cell_type": "code",
   "execution_count": 17,
   "metadata": {},
   "outputs": [
    {
     "data": {
      "text/plain": [
       "1"
      ]
     },
     "execution_count": 17,
     "metadata": {},
     "output_type": "execute_result"
    }
   ],
   "source": [
    "queue.enqueue(3)\n",
    "queue.enqueue(4)\n",
    "queue.enqueue(5)\n",
    "queue.first_item()"
   ]
  },
  {
   "cell_type": "code",
   "execution_count": 18,
   "metadata": {},
   "outputs": [
    {
     "name": "stdout",
     "output_type": "stream",
     "text": [
      "The queue is full!\n",
      "\n"
     ]
    }
   ],
   "source": [
    "queue.enqueue(3)\n"
   ]
  },
  {
   "cell_type": "code",
   "execution_count": 28,
   "metadata": {},
   "outputs": [
    {
     "name": "stdout",
     "output_type": "stream",
     "text": [
      "The queue is empty\n",
      "\n"
     ]
    }
   ],
   "source": [
    "queue.dequeue()"
   ]
  },
  {
   "cell_type": "code",
   "execution_count": 29,
   "metadata": {},
   "outputs": [
    {
     "data": {
      "text/plain": [
       "-1"
      ]
     },
     "execution_count": 29,
     "metadata": {},
     "output_type": "execute_result"
    }
   ],
   "source": [
    "queue.first_item()"
   ]
  }
 ],
 "metadata": {
  "kernelspec": {
   "display_name": "Python 3",
   "language": "python",
   "name": "python3"
  },
  "language_info": {
   "codemirror_mode": {
    "name": "ipython",
    "version": 3
   },
   "file_extension": ".py",
   "mimetype": "text/x-python",
   "name": "python",
   "nbconvert_exporter": "python",
   "pygments_lexer": "ipython3",
   "version": "3.10.12"
  }
 },
 "nbformat": 4,
 "nbformat_minor": 2
}
