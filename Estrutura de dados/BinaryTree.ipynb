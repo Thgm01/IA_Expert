{
 "cells": [
  {
   "cell_type": "markdown",
   "metadata": {},
   "source": [
    "# Binary Search Tree"
   ]
  },
  {
   "cell_type": "code",
   "execution_count": 1,
   "metadata": {},
   "outputs": [],
   "source": [
    "class Node:\n",
    "    def __init__(self, value):\n",
    "        self.value = value\n",
    "        self.left = None\n",
    "        self.right = None\n",
    "\n",
    "    def print_value(self):\n",
    "        print(self.value)"
   ]
  },
  {
   "cell_type": "code",
   "execution_count": 5,
   "metadata": {},
   "outputs": [
    {
     "ename": "SyntaxError",
     "evalue": "expected ':' (2144909831.py, line 34)",
     "output_type": "error",
     "traceback": [
      "\u001b[0;36m  Cell \u001b[0;32mIn[5], line 34\u001b[0;36m\u001b[0m\n\u001b[0;31m    def search(self)\u001b[0m\n\u001b[0m                    ^\u001b[0m\n\u001b[0;31mSyntaxError\u001b[0m\u001b[0;31m:\u001b[0m expected ':'\n"
     ]
    }
   ],
   "source": [
    "class BinarySearchTree:\n",
    "    def __init__(self):\n",
    "        self.root = None\n",
    "        self.links = []\n",
    "\n",
    "    \n",
    "    def insert(self, value):\n",
    "        new_node = Node(value)\n",
    "\n",
    "        #if is empty\n",
    "        if self.root == None:\n",
    "            self.root = new_node\n",
    "        else:\n",
    "            atual = self.root\n",
    "            while True:\n",
    "                parent = atual\n",
    "\n",
    "                #left\n",
    "                if value < atual.value:\n",
    "                    atual = atual.left\n",
    "                    if atual == None:\n",
    "                        parent.left = new_node\n",
    "                        self.links.append(str(parent.value)+'->'+str(new_node.value))\n",
    "                        return\n",
    "                    \n",
    "                #right\n",
    "                else:\n",
    "                    atual = atual.right\n",
    "                    if atual == None:\n",
    "                        parent.right = new_node\n",
    "                        self.links.append(str(parent.value)+'->'+str(new_node.value))\n",
    "                        return\n",
    "                    \n",
    "    \n",
    "                        \n"
   ]
  },
  {
   "cell_type": "markdown",
   "metadata": {},
   "source": [
    "## Insert values"
   ]
  },
  {
   "cell_type": "code",
   "execution_count": 3,
   "metadata": {},
   "outputs": [],
   "source": [
    "bst = BinarySearchTree()\n",
    "bst.insert(53)\n",
    "bst.insert(30)\n",
    "bst.insert(14)\n",
    "bst.insert(39)\n",
    "bst.insert(9)\n",
    "bst.insert(23)\n",
    "bst.insert(34)\n",
    "bst.insert(49)\n",
    "bst.insert(72)\n",
    "bst.insert(61)\n",
    "bst.insert(84)\n",
    "bst.insert(79)"
   ]
  },
  {
   "cell_type": "code",
   "execution_count": 12,
   "metadata": {},
   "outputs": [
    {
     "data": {
      "text/plain": [
       "(30, 72)"
      ]
     },
     "execution_count": 12,
     "metadata": {},
     "output_type": "execute_result"
    }
   ],
   "source": [
    "bst.root.left.value, bst.root.right.value"
   ]
  },
  {
   "cell_type": "code",
   "execution_count": 4,
   "metadata": {},
   "outputs": [
    {
     "data": {
      "text/plain": [
       "['53->30',\n",
       " '30->14',\n",
       " '30->39',\n",
       " '14->9',\n",
       " '14->23',\n",
       " '39->34',\n",
       " '39->49',\n",
       " '53->72',\n",
       " '72->61',\n",
       " '72->84',\n",
       " '84->79']"
      ]
     },
     "execution_count": 4,
     "metadata": {},
     "output_type": "execute_result"
    }
   ],
   "source": [
    "bst.links"
   ]
  }
 ],
 "metadata": {
  "kernelspec": {
   "display_name": "Python 3",
   "language": "python",
   "name": "python3"
  },
  "language_info": {
   "codemirror_mode": {
    "name": "ipython",
    "version": 3
   },
   "file_extension": ".py",
   "mimetype": "text/x-python",
   "name": "python",
   "nbconvert_exporter": "python",
   "pygments_lexer": "ipython3",
   "version": "3.10.12"
  }
 },
 "nbformat": 4,
 "nbformat_minor": 2
}
