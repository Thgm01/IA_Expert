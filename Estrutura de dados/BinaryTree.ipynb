{
 "cells": [
  {
   "cell_type": "markdown",
   "metadata": {},
   "source": [
    "# Binary Search Tree"
   ]
  },
  {
   "cell_type": "code",
   "execution_count": 15,
   "metadata": {},
   "outputs": [],
   "source": [
    "class Node:\n",
    "    def __init__(self, value):\n",
    "        self.value = value\n",
    "        self.left = None\n",
    "        self.right = None\n",
    "\n",
    "    def print_value(self):\n",
    "        print(self.value)"
   ]
  },
  {
   "cell_type": "code",
   "execution_count": 35,
   "metadata": {},
   "outputs": [],
   "source": [
    "class BinarySearchTree:\n",
    "    def __init__(self):\n",
    "        self.root = None\n",
    "        self.links = []\n",
    "\n",
    "    \n",
    "    def insert(self, value):\n",
    "        new_node = Node(value)\n",
    "\n",
    "        #if is empty\n",
    "        if self.root == None:\n",
    "            self.root = new_node\n",
    "        else:\n",
    "            atual = self.root\n",
    "            while True:\n",
    "                parent = atual\n",
    "\n",
    "                #left\n",
    "                if value < atual.value:\n",
    "                    atual = atual.left\n",
    "                    if atual == None:\n",
    "                        parent.left = new_node\n",
    "                        self.links.append(str(parent.value)+'->'+str(new_node.value))\n",
    "                        return\n",
    "                    \n",
    "                #right\n",
    "                else:\n",
    "                    atual = atual.right\n",
    "                    if atual == None:\n",
    "                        parent.right = new_node\n",
    "                        self.links.append(str(parent.value)+'->'+str(new_node.value))\n",
    "                        return\n",
    "        \n",
    "    def seach(self, value):\n",
    "        atual = self.root\n",
    "\n",
    "        while atual.value != value:\n",
    "\n",
    "            if value < atual.value:\n",
    "                atual = atual.left\n",
    "            else:\n",
    "                atual = atual.right\n",
    "            if atual == None:\n",
    "                return None\n",
    "        return atual\n",
    "    \n",
    "    #root, left, right\n",
    "    def preorder_traversal(self, node):\n",
    "        if node != None:\n",
    "            print(node.value)\n",
    "            self.preorder_traversal(node.left)\n",
    "            self.preorder_traversal(node.right)\n",
    "    \n",
    "    #left, root, right\n",
    "    def inorder_traversal(self, node):\n",
    "        if node != None:\n",
    "            self.inorder_traversal(node.left)\n",
    "            print(node.value)\n",
    "            self.inorder_traversal(node.right)\n",
    "\n",
    "    \n",
    "    #left, right, root\n",
    "    def postorder_traversal(self, node):\n",
    "        if node != None:\n",
    "            self.postorder_traversal(node.left)\n",
    "            self.postorder_traversal(node.right)\n",
    "            print(node.value)\n",
    "\n",
    "    def get_sucessor(self, node):\n",
    "        parent_sucessor = node\n",
    "        sucessor = node\n",
    "        atual = node.right\n",
    "        while atual != None:\n",
    "            parent_sucessor = sucessor\n",
    "            sucessor = atual\n",
    "            atual = atual.left\n",
    "        if sucessor != node.right:\n",
    "            parent_sucessor.left = sucessor.right\n",
    "            sucessor.right = node.right\n",
    "        return sucessor     \n",
    "\n",
    "    def exclude(self, value):\n",
    "        if self.root == None:\n",
    "            print('The tree is empty')\n",
    "            return\n",
    "        \n",
    "        #find node\n",
    "        atual = self.root\n",
    "        parent = self.root\n",
    "        e_left = True\n",
    "        while atual.value != value:\n",
    "            parent = atual\n",
    "\n",
    "            #Left\n",
    "            if value < atual.value:\n",
    "                e_left = True\n",
    "                atual = atual.left\n",
    "            \n",
    "            #Right\n",
    "            else:\n",
    "                e_left = False\n",
    "                atual = atual.right\n",
    "            if atual == None:\n",
    "                return False\n",
    "    \n",
    "        # the exclude node is a leaf\n",
    "        if atual.left == None and atual.right == None:\n",
    "            if atual == self.root:\n",
    "                self.root == None\n",
    "            elif e_left == True:\n",
    "                self.links.remove(str(parent.value) + '->' + str(atual.value))\n",
    "                parent.left = None\n",
    "            else:\n",
    "                self.links.remove(str(parent.value) + '->' + str(atual.value))\n",
    "                parent.right = None\n",
    "\n",
    "        #The excluded node don't have a right child\n",
    "        elif atual.right == None:\n",
    "            if atual == self.root:\n",
    "                self.root = atual.left\n",
    "            elif e_left == True:\n",
    "                parent.left = atual.left\n",
    "            else:\n",
    "                parent.right = atual.left\n",
    "\n",
    "        #The excluded node don't have a left child\n",
    "        elif atual.left == None:\n",
    "            if atual == self.root:\n",
    "                self.root = atual.right\n",
    "            elif e_left == True:\n",
    "                parent.left = atual.right\n",
    "            else:\n",
    "                parent.right = atual.right\n",
    "\n",
    "        else:\n",
    "            sucessor = self.get_sucessor(atual)\n",
    "\n",
    "            if atual == self.root:\n",
    "                self.root = sucessor\n",
    "            elif e_left == True:\n",
    "                parent.left = sucessor\n",
    "            else:\n",
    "                parent.right = sucessor\n",
    "\n",
    "            sucessor.left = atual.left\n",
    "        \n",
    "        return True\n",
    "                        \n"
   ]
  },
  {
   "cell_type": "markdown",
   "metadata": {},
   "source": [
    "## Insert values"
   ]
  },
  {
   "cell_type": "code",
   "execution_count": 17,
   "metadata": {},
   "outputs": [],
   "source": [
    "bst = BinarySearchTree()\n",
    "bst.insert(53)\n",
    "bst.insert(30)\n",
    "bst.insert(14)\n",
    "bst.insert(39)\n",
    "bst.insert(9)\n",
    "bst.insert(23)\n",
    "bst.insert(34)\n",
    "bst.insert(49)\n",
    "bst.insert(72)\n",
    "bst.insert(61)\n",
    "bst.insert(84)\n",
    "bst.insert(79)"
   ]
  },
  {
   "cell_type": "code",
   "execution_count": 18,
   "metadata": {},
   "outputs": [
    {
     "data": {
      "text/plain": [
       "(30, 72)"
      ]
     },
     "execution_count": 18,
     "metadata": {},
     "output_type": "execute_result"
    }
   ],
   "source": [
    "bst.root.left.value, bst.root.right.value"
   ]
  },
  {
   "cell_type": "code",
   "execution_count": 19,
   "metadata": {},
   "outputs": [
    {
     "data": {
      "text/plain": [
       "['53->30',\n",
       " '30->14',\n",
       " '30->39',\n",
       " '14->9',\n",
       " '14->23',\n",
       " '39->34',\n",
       " '39->49',\n",
       " '53->72',\n",
       " '72->61',\n",
       " '72->84',\n",
       " '84->79']"
      ]
     },
     "execution_count": 19,
     "metadata": {},
     "output_type": "execute_result"
    }
   ],
   "source": [
    "bst.links"
   ]
  },
  {
   "cell_type": "markdown",
   "metadata": {},
   "source": [
    "## Searching Values"
   ]
  },
  {
   "cell_type": "code",
   "execution_count": 20,
   "metadata": {},
   "outputs": [
    {
     "data": {
      "text/plain": [
       "<__main__.Node at 0x7f92cc144280>"
      ]
     },
     "execution_count": 20,
     "metadata": {},
     "output_type": "execute_result"
    }
   ],
   "source": [
    "bst.seach(39)"
   ]
  },
  {
   "cell_type": "code",
   "execution_count": 21,
   "metadata": {},
   "outputs": [
    {
     "data": {
      "text/plain": [
       "<__main__.Node at 0x7f92cc144f10>"
      ]
     },
     "execution_count": 21,
     "metadata": {},
     "output_type": "execute_result"
    }
   ],
   "source": [
    "bst.seach(84)"
   ]
  },
  {
   "cell_type": "code",
   "execution_count": 22,
   "metadata": {},
   "outputs": [
    {
     "name": "stdout",
     "output_type": "stream",
     "text": [
      "Element didn't find!\n"
     ]
    }
   ],
   "source": [
    "if bst.seach(100) == None:\n",
    "    print('Element didn\\'t find!')\n",
    "else:\n",
    "    print('Element founded!')"
   ]
  },
  {
   "cell_type": "markdown",
   "metadata": {},
   "source": [
    "## Traversal"
   ]
  },
  {
   "cell_type": "markdown",
   "metadata": {},
   "source": [
    "### Preorder"
   ]
  },
  {
   "cell_type": "code",
   "execution_count": 23,
   "metadata": {},
   "outputs": [
    {
     "name": "stdout",
     "output_type": "stream",
     "text": [
      "53\n",
      "30\n",
      "14\n",
      "9\n",
      "23\n",
      "39\n",
      "34\n",
      "49\n",
      "72\n",
      "61\n",
      "84\n",
      "79\n"
     ]
    }
   ],
   "source": [
    "bst.preorder_traversal(bst.root)"
   ]
  },
  {
   "cell_type": "markdown",
   "metadata": {},
   "source": [
    "### Inorder"
   ]
  },
  {
   "cell_type": "code",
   "execution_count": 24,
   "metadata": {},
   "outputs": [
    {
     "name": "stdout",
     "output_type": "stream",
     "text": [
      "9\n",
      "14\n",
      "23\n",
      "30\n",
      "34\n",
      "39\n",
      "49\n",
      "53\n",
      "61\n",
      "72\n",
      "79\n",
      "84\n"
     ]
    }
   ],
   "source": [
    "bst.inorder_traversal(bst.root)"
   ]
  },
  {
   "cell_type": "markdown",
   "metadata": {},
   "source": [
    "### Postorder"
   ]
  },
  {
   "cell_type": "code",
   "execution_count": 25,
   "metadata": {},
   "outputs": [
    {
     "name": "stdout",
     "output_type": "stream",
     "text": [
      "9\n",
      "23\n",
      "14\n",
      "34\n",
      "49\n",
      "39\n",
      "30\n",
      "61\n",
      "79\n",
      "84\n",
      "72\n",
      "53\n"
     ]
    }
   ],
   "source": [
    "bst.postorder_traversal(bst.root)"
   ]
  },
  {
   "cell_type": "markdown",
   "metadata": {},
   "source": [
    "## Exclude values"
   ]
  },
  {
   "cell_type": "markdown",
   "metadata": {},
   "source": [
    "### Exclude a leaf"
   ]
  },
  {
   "cell_type": "code",
   "execution_count": 28,
   "metadata": {},
   "outputs": [
    {
     "data": {
      "text/plain": [
       "['53->30',\n",
       " '30->14',\n",
       " '30->39',\n",
       " '14->9',\n",
       " '14->23',\n",
       " '39->34',\n",
       " '39->49',\n",
       " '53->72',\n",
       " '72->61',\n",
       " '72->84',\n",
       " '84->79']"
      ]
     },
     "execution_count": 28,
     "metadata": {},
     "output_type": "execute_result"
    }
   ],
   "source": [
    "bst = BinarySearchTree()\n",
    "bst.insert(53)\n",
    "bst.insert(30)\n",
    "bst.insert(14)\n",
    "bst.insert(39)\n",
    "bst.insert(9)\n",
    "bst.insert(23)\n",
    "bst.insert(34)\n",
    "bst.insert(49)\n",
    "bst.insert(72)\n",
    "bst.insert(61)\n",
    "bst.insert(84)\n",
    "bst.insert(79)\n",
    "bst.links"
   ]
  },
  {
   "cell_type": "code",
   "execution_count": 30,
   "metadata": {},
   "outputs": [
    {
     "data": {
      "text/plain": [
       "['53->30',\n",
       " '30->14',\n",
       " '30->39',\n",
       " '14->23',\n",
       " '39->34',\n",
       " '39->49',\n",
       " '53->72',\n",
       " '72->61',\n",
       " '72->84',\n",
       " '84->79']"
      ]
     },
     "execution_count": 30,
     "metadata": {},
     "output_type": "execute_result"
    }
   ],
   "source": [
    "bst.exclude(9)\n",
    "bst.links"
   ]
  },
  {
   "cell_type": "code",
   "execution_count": 31,
   "metadata": {},
   "outputs": [
    {
     "data": {
      "text/plain": [
       "['53->30',\n",
       " '30->14',\n",
       " '30->39',\n",
       " '14->23',\n",
       " '39->34',\n",
       " '39->49',\n",
       " '53->72',\n",
       " '72->61',\n",
       " '72->84']"
      ]
     },
     "execution_count": 31,
     "metadata": {},
     "output_type": "execute_result"
    }
   ],
   "source": [
    "bst.exclude(79)\n",
    "bst.links"
   ]
  },
  {
   "cell_type": "code",
   "execution_count": 34,
   "metadata": {},
   "outputs": [
    {
     "data": {
      "text/plain": [
       "['53->30',\n",
       " '30->14',\n",
       " '30->39',\n",
       " '14->23',\n",
       " '39->34',\n",
       " '39->49',\n",
       " '53->72',\n",
       " '72->61',\n",
       " '72->84']"
      ]
     },
     "execution_count": 34,
     "metadata": {},
     "output_type": "execute_result"
    }
   ],
   "source": [
    "bst.exclude(100)\n",
    "bst.links"
   ]
  },
  {
   "cell_type": "markdown",
   "metadata": {},
   "source": [
    "### Ecluding values"
   ]
  },
  {
   "cell_type": "code",
   "execution_count": 39,
   "metadata": {},
   "outputs": [
    {
     "data": {
      "text/plain": [
       "True"
      ]
     },
     "execution_count": 39,
     "metadata": {},
     "output_type": "execute_result"
    }
   ],
   "source": [
    "bst = BinarySearchTree()\n",
    "bst.insert(53)\n",
    "bst.insert(30)\n",
    "bst.insert(14)\n",
    "bst.insert(39)\n",
    "bst.insert(9)\n",
    "bst.insert(23)\n",
    "bst.insert(34)\n",
    "bst.insert(49)\n",
    "bst.insert(72)\n",
    "bst.insert(61)\n",
    "bst.insert(84)\n",
    "bst.insert(79)\n",
    "bst.exclude(72)"
   ]
  },
  {
   "cell_type": "code",
   "execution_count": 40,
   "metadata": {},
   "outputs": [
    {
     "data": {
      "text/plain": [
       "79"
      ]
     },
     "execution_count": 40,
     "metadata": {},
     "output_type": "execute_result"
    }
   ],
   "source": [
    "bst.root.right.value"
   ]
  },
  {
   "cell_type": "code",
   "execution_count": 41,
   "metadata": {},
   "outputs": [
    {
     "data": {
      "text/plain": [
       "34"
      ]
     },
     "execution_count": 41,
     "metadata": {},
     "output_type": "execute_result"
    }
   ],
   "source": [
    "bst.exclude(30)\n",
    "bst.root.left.value"
   ]
  }
 ],
 "metadata": {
  "kernelspec": {
   "display_name": "Python 3",
   "language": "python",
   "name": "python3"
  },
  "language_info": {
   "codemirror_mode": {
    "name": "ipython",
    "version": 3
   },
   "file_extension": ".py",
   "mimetype": "text/x-python",
   "name": "python",
   "nbconvert_exporter": "python",
   "pygments_lexer": "ipython3",
   "version": "3.10.12"
  }
 },
 "nbformat": 4,
 "nbformat_minor": 2
}
