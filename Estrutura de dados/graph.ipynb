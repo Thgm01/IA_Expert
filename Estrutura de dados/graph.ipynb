{
 "cells": [
  {
   "cell_type": "markdown",
   "metadata": {},
   "source": [
    "# Grafo"
   ]
  },
  {
   "cell_type": "code",
   "execution_count": 1,
   "metadata": {},
   "outputs": [],
   "source": [
    "class Vertice:\n",
    "    def __init__(self, rotulo):\n",
    "        self.rotulo = rotulo\n",
    "        self.visitado = False\n",
    "        self.adjacentes = []\n",
    "    \n",
    "    def adiciona_adjacente(self, adjacente):\n",
    "        self.adjacentes.append(adjacente)\n",
    "    \n",
    "    def mostra_adjacentes(self):\n",
    "        for i in self.adjacentes:\n",
    "            print(i.vertice.rotulo, i.custo)"
   ]
  },
  {
   "cell_type": "code",
   "execution_count": 2,
   "metadata": {},
   "outputs": [],
   "source": [
    "class Adjacente:\n",
    "    def __init__(self, vertice, custo):\n",
    "        self.vertice = vertice\n",
    "        self.custo = custo\n",
    "        "
   ]
  },
  {
   "cell_type": "code",
   "execution_count": 3,
   "metadata": {},
   "outputs": [],
   "source": [
    "class Grafo:\n",
    "  arad = Vertice('Arad')\n",
    "  zerind = Vertice('Zerind')\n",
    "  oradea = Vertice('Oradea')\n",
    "  sibiu = Vertice('Sibiu')\n",
    "  timisoara = Vertice('Timisoara')\n",
    "  lugoj = Vertice('Lugoj')\n",
    "  mehadia = Vertice('Mehadia')\n",
    "  dobreta = Vertice('Dobreta')\n",
    "  craiova = Vertice('Craiova')\n",
    "  rimnicu = Vertice('Rimnicu')\n",
    "  fagaras = Vertice('Fagaras')\n",
    "  pitesti = Vertice('Pitesti')\n",
    "  bucharest = Vertice('Bucharest')\n",
    "  giurgiu = Vertice('Giurgiu')\n",
    "\n",
    "  arad.adiciona_adjacente(Adjacente(zerind, 75))\n",
    "  arad.adiciona_adjacente(Adjacente(sibiu, 140))\n",
    "  arad.adiciona_adjacente(Adjacente(timisoara, 118))\n",
    "\n",
    "  zerind.adiciona_adjacente(Adjacente(arad, 75))\n",
    "  zerind.adiciona_adjacente(Adjacente(oradea, 71))\n",
    "\n",
    "  oradea.adiciona_adjacente(Adjacente(zerind, 71))\n",
    "  oradea.adiciona_adjacente(Adjacente(sibiu, 151))\n",
    "\n",
    "  sibiu.adiciona_adjacente(Adjacente(oradea, 151))\n",
    "  sibiu.adiciona_adjacente(Adjacente(arad, 140))\n",
    "  sibiu.adiciona_adjacente(Adjacente(fagaras, 99))\n",
    "  sibiu.adiciona_adjacente(Adjacente(rimnicu, 80))\n",
    "\n",
    "  timisoara.adiciona_adjacente(Adjacente(arad, 118))\n",
    "  timisoara.adiciona_adjacente(Adjacente(lugoj, 111))\n",
    "\n",
    "  lugoj.adiciona_adjacente(Adjacente(timisoara, 111))\n",
    "  lugoj.adiciona_adjacente(Adjacente(mehadia, 70))\n",
    "\n",
    "  mehadia.adiciona_adjacente(Adjacente(lugoj, 70))\n",
    "  mehadia.adiciona_adjacente(Adjacente(dobreta, 75))\n",
    "\n",
    "  dobreta.adiciona_adjacente(Adjacente(mehadia, 75))\n",
    "  dobreta.adiciona_adjacente(Adjacente(craiova, 120))\n",
    "\n",
    "  craiova.adiciona_adjacente(Adjacente(dobreta, 120))\n",
    "  craiova.adiciona_adjacente(Adjacente(pitesti, 138))\n",
    "  craiova.adiciona_adjacente(Adjacente(rimnicu, 146))\n",
    "\n",
    "  rimnicu.adiciona_adjacente(Adjacente(craiova, 146))\n",
    "  rimnicu.adiciona_adjacente(Adjacente(sibiu, 80))\n",
    "  rimnicu.adiciona_adjacente(Adjacente(pitesti, 97))\n",
    "\n",
    "  fagaras.adiciona_adjacente(Adjacente(sibiu, 99))\n",
    "  fagaras.adiciona_adjacente(Adjacente(bucharest, 211))\n",
    "\n",
    "  pitesti.adiciona_adjacente(Adjacente(rimnicu, 97))\n",
    "  pitesti.adiciona_adjacente(Adjacente(craiova, 138))\n",
    "  pitesti.adiciona_adjacente(Adjacente(bucharest, 101))\n",
    "\n",
    "  bucharest.adiciona_adjacente(Adjacente(fagaras, 211))\n",
    "  bucharest.adiciona_adjacente(Adjacente(pitesti, 101))\n",
    "  bucharest.adiciona_adjacente(Adjacente(giurgiu, 90))"
   ]
  },
  {
   "cell_type": "code",
   "execution_count": 4,
   "metadata": {},
   "outputs": [],
   "source": [
    "grafo = Grafo()"
   ]
  },
  {
   "cell_type": "code",
   "execution_count": 16,
   "metadata": {},
   "outputs": [
    {
     "name": "stdout",
     "output_type": "stream",
     "text": [
      "Zerind 75\n",
      "Sibiu 140\n",
      "Timisoara 118\n"
     ]
    }
   ],
   "source": [
    "grafo.arad.mostra_adjacentes()"
   ]
  },
  {
   "cell_type": "code",
   "execution_count": 17,
   "metadata": {},
   "outputs": [
    {
     "name": "stdout",
     "output_type": "stream",
     "text": [
      "Fagaras 211\n",
      "Pitesti 101\n",
      "Giurgiu 90\n"
     ]
    }
   ],
   "source": [
    "grafo.bucharest.mostra_adjacentes()"
   ]
  },
  {
   "cell_type": "markdown",
   "metadata": {},
   "source": [
    "## Pilha"
   ]
  },
  {
   "cell_type": "code",
   "execution_count": 18,
   "metadata": {},
   "outputs": [],
   "source": [
    "import numpy as np\n",
    "class Pilha:\n",
    "  def __init__(self, capacidade):\n",
    "    self.__capacidade = capacidade\n",
    "    self.__topo = -1\n",
    "\n",
    "    # Mudança do tipo do array\n",
    "    self.__valores = np.empty(self.__capacidade, dtype=object)\n",
    "\n",
    "  def __pilha_cheia(self):\n",
    "    if self.__topo == self.__capacidade - 1:\n",
    "      return True\n",
    "    else:\n",
    "      return False\n",
    "\n",
    "  def __pilha_vazia(self):\n",
    "    if self.__topo == -1:\n",
    "      return True\n",
    "    else:\n",
    "      return False\n",
    "\n",
    "  def empilhar(self, valor):\n",
    "    if self.__pilha_cheia():\n",
    "      print('A pilha está cheia')\n",
    "    else:\n",
    "      self.__topo += 1\n",
    "      self.__valores[self.__topo] = valor\n",
    "\n",
    "  def desempilhar(self):\n",
    "    # Retorna o elemento desempilhado\n",
    "    if self.__pilha_vazia():\n",
    "      print('A pilha está vazia')\n",
    "      return None\n",
    "    else:\n",
    "      temp = self.__valores[self.__topo]\n",
    "      self.__topo -= 1\n",
    "      return temp\n",
    "\n",
    "  def ver_topo(self):\n",
    "    if self.__topo != -1:\n",
    "      return self.__valores[self.__topo]\n",
    "    else:\n",
    "      return -1"
   ]
  },
  {
   "cell_type": "markdown",
   "metadata": {},
   "source": [
    "## Busca em profundidade"
   ]
  },
  {
   "cell_type": "code",
   "execution_count": 19,
   "metadata": {},
   "outputs": [],
   "source": [
    "class BuscaProfundidade:\n",
    "    def __init__(self, inicio):\n",
    "        self.inicio = inicio\n",
    "        self.inicio.visitado = True\n",
    "        self.pilha = Pilha(20)\n",
    "        self.pilha.empilhar(inicio)\n",
    "    \n",
    "    def buscar(self):\n",
    "        topo = self.pilha.ver_topo()\n",
    "        print(f'Topo: {topo.rotulo}')\n",
    "\n",
    "        for adjacente in topo.adjacentes:\n",
    "            print(f'Topo é {topo.rotulo}, {adjacente.vertice.rotulo} já foi visitada? {adjacente.vertice.visitado}')\n",
    "            if adjacente.vertice.visitado == False:\n",
    "                adjacente.vertice.visitado = True\n",
    "                self.pilha.empilhar(adjacente.vertice)\n",
    "                print(f'Empilhou {adjacente.vertice.rotulo}')\n",
    "                self.buscar()\n",
    "        \n",
    "        print(f'Desempilhou {self.pilha.desempilhar().rotulo}')\n",
    "        print()\n"
   ]
  },
  {
   "cell_type": "code",
   "execution_count": 20,
   "metadata": {},
   "outputs": [
    {
     "name": "stdout",
     "output_type": "stream",
     "text": [
      "Topo: Arad\n",
      "Topo é Arad, Zerind já foi visitada? False\n",
      "Empilhou Zerind\n",
      "Topo: Zerind\n",
      "Topo é Zerind, Arad já foi visitada? True\n",
      "Topo é Zerind, Oradea já foi visitada? False\n",
      "Empilhou Oradea\n",
      "Topo: Oradea\n",
      "Topo é Oradea, Zerind já foi visitada? True\n",
      "Topo é Oradea, Sibiu já foi visitada? False\n",
      "Empilhou Sibiu\n",
      "Topo: Sibiu\n",
      "Topo é Sibiu, Oradea já foi visitada? True\n",
      "Topo é Sibiu, Arad já foi visitada? True\n",
      "Topo é Sibiu, Fagaras já foi visitada? False\n",
      "Empilhou Fagaras\n",
      "Topo: Fagaras\n",
      "Topo é Fagaras, Sibiu já foi visitada? True\n",
      "Topo é Fagaras, Bucharest já foi visitada? False\n",
      "Empilhou Bucharest\n",
      "Topo: Bucharest\n",
      "Topo é Bucharest, Fagaras já foi visitada? True\n",
      "Topo é Bucharest, Pitesti já foi visitada? False\n",
      "Empilhou Pitesti\n",
      "Topo: Pitesti\n",
      "Topo é Pitesti, Rimnicu já foi visitada? False\n",
      "Empilhou Rimnicu\n",
      "Topo: Rimnicu\n",
      "Topo é Rimnicu, Craiova já foi visitada? False\n",
      "Empilhou Craiova\n",
      "Topo: Craiova\n",
      "Topo é Craiova, Dobreta já foi visitada? False\n",
      "Empilhou Dobreta\n",
      "Topo: Dobreta\n",
      "Topo é Dobreta, Mehadia já foi visitada? False\n",
      "Empilhou Mehadia\n",
      "Topo: Mehadia\n",
      "Topo é Mehadia, Lugoj já foi visitada? False\n",
      "Empilhou Lugoj\n",
      "Topo: Lugoj\n",
      "Topo é Lugoj, Timisoara já foi visitada? False\n",
      "Empilhou Timisoara\n",
      "Topo: Timisoara\n",
      "Topo é Timisoara, Arad já foi visitada? True\n",
      "Topo é Timisoara, Lugoj já foi visitada? True\n",
      "Desempilhou Timisoara\n",
      "\n",
      "Topo é Lugoj, Mehadia já foi visitada? True\n",
      "Desempilhou Lugoj\n",
      "\n",
      "Topo é Mehadia, Dobreta já foi visitada? True\n",
      "Desempilhou Mehadia\n",
      "\n",
      "Topo é Dobreta, Craiova já foi visitada? True\n",
      "Desempilhou Dobreta\n",
      "\n",
      "Topo é Craiova, Pitesti já foi visitada? True\n",
      "Topo é Craiova, Rimnicu já foi visitada? True\n",
      "Desempilhou Craiova\n",
      "\n",
      "Topo é Rimnicu, Sibiu já foi visitada? True\n",
      "Topo é Rimnicu, Pitesti já foi visitada? True\n",
      "Desempilhou Rimnicu\n",
      "\n",
      "Topo é Pitesti, Craiova já foi visitada? True\n",
      "Topo é Pitesti, Bucharest já foi visitada? True\n",
      "Desempilhou Pitesti\n",
      "\n",
      "Topo é Bucharest, Giurgiu já foi visitada? False\n",
      "Empilhou Giurgiu\n",
      "Topo: Giurgiu\n",
      "Desempilhou Giurgiu\n",
      "\n",
      "Desempilhou Bucharest\n",
      "\n",
      "Desempilhou Fagaras\n",
      "\n",
      "Topo é Sibiu, Rimnicu já foi visitada? True\n",
      "Desempilhou Sibiu\n",
      "\n",
      "Desempilhou Oradea\n",
      "\n",
      "Desempilhou Zerind\n",
      "\n",
      "Topo é Arad, Sibiu já foi visitada? True\n",
      "Topo é Arad, Timisoara já foi visitada? True\n",
      "Desempilhou Arad\n",
      "\n"
     ]
    }
   ],
   "source": [
    "busca_profundidade = BuscaProfundidade(grafo.arad)\n",
    "busca_profundidade.buscar()\n"
   ]
  },
  {
   "cell_type": "code",
   "execution_count": 21,
   "metadata": {},
   "outputs": [
    {
     "data": {
      "text/plain": [
       "-1"
      ]
     },
     "execution_count": 21,
     "metadata": {},
     "output_type": "execute_result"
    }
   ],
   "source": [
    "busca_profundidade.pilha.ver_topo()"
   ]
  },
  {
   "cell_type": "markdown",
   "metadata": {},
   "source": [
    "## Fila"
   ]
  },
  {
   "cell_type": "code",
   "execution_count": 7,
   "metadata": {},
   "outputs": [],
   "source": [
    "import numpy as np\n",
    "class FilaCircular:\n",
    "  \n",
    "  def __init__(self, capacidade):\n",
    "    self.capacidade = capacidade\n",
    "    self.inicio = 0\n",
    "    self.final = -1\n",
    "    self.numero_elementos = 0\n",
    "    \n",
    "    # Mudança no tipo de dado\n",
    "    self.valores = np.empty(self.capacidade, dtype=object)\n",
    "\n",
    "  def __fila_vazia(self):\n",
    "    return self.numero_elementos == 0\n",
    "\n",
    "  def __fila_cheia(self):\n",
    "    return self.numero_elementos == self.capacidade\n",
    "\n",
    "  def enfileirar(self, valor):\n",
    "    if self.__fila_cheia():\n",
    "      print('A fila está cheia')\n",
    "      return\n",
    "    \n",
    "    if self.final == self.capacidade - 1:\n",
    "      self.final = -1\n",
    "    self.final += 1\n",
    "    self.valores[self.final] = valor\n",
    "    self.numero_elementos += 1\n",
    "\n",
    "  def desenfileirar(self):\n",
    "    if self.__fila_vazia():\n",
    "      print('A fila já está vazia')\n",
    "      return\n",
    "\n",
    "    temp = self.valores[self.inicio]\n",
    "    self.inicio += 1\n",
    "    if self.inicio == self.capacidade - 1:\n",
    "      self.inicio = 0\n",
    "    self.numero_elementos -= 1\n",
    "    return temp\n",
    "\n",
    "  def primeiro(self):\n",
    "    if self.__fila_vazia():\n",
    "      return -1\n",
    "    return self.valores[self.inicio]"
   ]
  },
  {
   "cell_type": "markdown",
   "metadata": {},
   "source": [
    "## Busca em largura"
   ]
  },
  {
   "cell_type": "code",
   "execution_count": 6,
   "metadata": {},
   "outputs": [],
   "source": [
    "class BuscaLargura:\n",
    "  def __init__(self, inicio):\n",
    "    self.inicio = inicio\n",
    "    self.inicio.visitado = True\n",
    "    self.fila = FilaCircular(20)\n",
    "    self.fila.enfileirar(inicio)\n",
    "\n",
    "  def buscar(self):\n",
    "    primeiro = self.fila.primeiro()\n",
    "    print('-------')\n",
    "    print('Primeiro da fila: {}'.format(primeiro.rotulo))\n",
    "    temp = self.fila.desenfileirar()\n",
    "    print('Desenfileirou: {}'.format(temp.rotulo))\n",
    "    for adjacente in primeiro.adjacentes:\n",
    "      print('Primeiro era {}. {} já foi visitado? {}'.format(temp.rotulo, adjacente.vertice.rotulo, adjacente.vertice.visitado))\n",
    "      if adjacente.vertice.visitado == False:\n",
    "        adjacente.vertice.visitado = True\n",
    "        self.fila.enfileirar(adjacente.vertice)\n",
    "        print('Enfileirou: {}'.format(adjacente.vertice.rotulo))\n",
    "    if self.fila.numero_elementos > 0:\n",
    "      self.buscar()"
   ]
  },
  {
   "cell_type": "code",
   "execution_count": 8,
   "metadata": {},
   "outputs": [
    {
     "name": "stdout",
     "output_type": "stream",
     "text": [
      "-------\n",
      "Primeiro da fila: Arad\n",
      "Desenfileirou: Arad\n",
      "Primeiro era Arad. Zerind já foi visitado? False\n",
      "Enfileirou: Zerind\n",
      "Primeiro era Arad. Sibiu já foi visitado? False\n",
      "Enfileirou: Sibiu\n",
      "Primeiro era Arad. Timisoara já foi visitado? False\n",
      "Enfileirou: Timisoara\n",
      "-------\n",
      "Primeiro da fila: Zerind\n",
      "Desenfileirou: Zerind\n",
      "Primeiro era Zerind. Arad já foi visitado? True\n",
      "Primeiro era Zerind. Oradea já foi visitado? False\n",
      "Enfileirou: Oradea\n",
      "-------\n",
      "Primeiro da fila: Sibiu\n",
      "Desenfileirou: Sibiu\n",
      "Primeiro era Sibiu. Oradea já foi visitado? True\n",
      "Primeiro era Sibiu. Arad já foi visitado? True\n",
      "Primeiro era Sibiu. Fagaras já foi visitado? False\n",
      "Enfileirou: Fagaras\n",
      "Primeiro era Sibiu. Rimnicu já foi visitado? False\n",
      "Enfileirou: Rimnicu\n",
      "-------\n",
      "Primeiro da fila: Timisoara\n",
      "Desenfileirou: Timisoara\n",
      "Primeiro era Timisoara. Arad já foi visitado? True\n",
      "Primeiro era Timisoara. Lugoj já foi visitado? False\n",
      "Enfileirou: Lugoj\n",
      "-------\n",
      "Primeiro da fila: Oradea\n",
      "Desenfileirou: Oradea\n",
      "Primeiro era Oradea. Zerind já foi visitado? True\n",
      "Primeiro era Oradea. Sibiu já foi visitado? True\n",
      "-------\n",
      "Primeiro da fila: Fagaras\n",
      "Desenfileirou: Fagaras\n",
      "Primeiro era Fagaras. Sibiu já foi visitado? True\n",
      "Primeiro era Fagaras. Bucharest já foi visitado? False\n",
      "Enfileirou: Bucharest\n",
      "-------\n",
      "Primeiro da fila: Rimnicu\n",
      "Desenfileirou: Rimnicu\n",
      "Primeiro era Rimnicu. Craiova já foi visitado? False\n",
      "Enfileirou: Craiova\n",
      "Primeiro era Rimnicu. Sibiu já foi visitado? True\n",
      "Primeiro era Rimnicu. Pitesti já foi visitado? False\n",
      "Enfileirou: Pitesti\n",
      "-------\n",
      "Primeiro da fila: Lugoj\n",
      "Desenfileirou: Lugoj\n",
      "Primeiro era Lugoj. Timisoara já foi visitado? True\n",
      "Primeiro era Lugoj. Mehadia já foi visitado? False\n",
      "Enfileirou: Mehadia\n",
      "-------\n",
      "Primeiro da fila: Bucharest\n",
      "Desenfileirou: Bucharest\n",
      "Primeiro era Bucharest. Fagaras já foi visitado? True\n",
      "Primeiro era Bucharest. Pitesti já foi visitado? True\n",
      "Primeiro era Bucharest. Giurgiu já foi visitado? False\n",
      "Enfileirou: Giurgiu\n",
      "-------\n",
      "Primeiro da fila: Craiova\n",
      "Desenfileirou: Craiova\n",
      "Primeiro era Craiova. Dobreta já foi visitado? False\n",
      "Enfileirou: Dobreta\n",
      "Primeiro era Craiova. Pitesti já foi visitado? True\n",
      "Primeiro era Craiova. Rimnicu já foi visitado? True\n",
      "-------\n",
      "Primeiro da fila: Pitesti\n",
      "Desenfileirou: Pitesti\n",
      "Primeiro era Pitesti. Rimnicu já foi visitado? True\n",
      "Primeiro era Pitesti. Craiova já foi visitado? True\n",
      "Primeiro era Pitesti. Bucharest já foi visitado? True\n",
      "-------\n",
      "Primeiro da fila: Mehadia\n",
      "Desenfileirou: Mehadia\n",
      "Primeiro era Mehadia. Lugoj já foi visitado? True\n",
      "Primeiro era Mehadia. Dobreta já foi visitado? True\n",
      "-------\n",
      "Primeiro da fila: Giurgiu\n",
      "Desenfileirou: Giurgiu\n",
      "-------\n",
      "Primeiro da fila: Dobreta\n",
      "Desenfileirou: Dobreta\n",
      "Primeiro era Dobreta. Mehadia já foi visitado? True\n",
      "Primeiro era Dobreta. Craiova já foi visitado? True\n"
     ]
    }
   ],
   "source": [
    "busca_largura = BuscaLargura(grafo.arad)\n",
    "busca_largura.buscar()"
   ]
  },
  {
   "cell_type": "markdown",
   "metadata": {},
   "source": [
    "## Busca gulosa"
   ]
  },
  {
   "cell_type": "markdown",
   "metadata": {},
   "source": [
    "### Grafo"
   ]
  },
  {
   "cell_type": "code",
   "execution_count": 10,
   "metadata": {},
   "outputs": [],
   "source": [
    "class Vertice:\n",
    "\n",
    "  def __init__(self, rotulo, distancia_objetivo):\n",
    "    self.rotulo = rotulo\n",
    "    self.visitado = False\n",
    "    self.distancia_objetivo = distancia_objetivo\n",
    "    self.adjacentes = []\n",
    "\n",
    "  def adiciona_adjacente(self, adjacente):\n",
    "    self.adjacentes.append(adjacente)\n",
    "\n",
    "  def mostra_adjacentes(self):\n",
    "    for i in self.adjacentes:\n",
    "      print(i.vertice.rotulo, i.custo)"
   ]
  },
  {
   "cell_type": "code",
   "execution_count": 11,
   "metadata": {},
   "outputs": [],
   "source": [
    "class Adjacente:\n",
    "  def __init__(self, vertice, custo):\n",
    "    self.vertice = vertice\n",
    "    self.custo = custo"
   ]
  },
  {
   "cell_type": "code",
   "execution_count": 12,
   "metadata": {},
   "outputs": [],
   "source": [
    "class Grafo:\n",
    "  arad = Vertice('Arad', 366)\n",
    "  zerind = Vertice('Zerind', 374)\n",
    "  oradea = Vertice('Oradea', 380)\n",
    "  sibiu = Vertice('Sibiu', 253)\n",
    "  timisoara = Vertice('Timisoara', 329)\n",
    "  lugoj = Vertice('Lugoj', 244)\n",
    "  mehadia = Vertice('Mehadia', 241)\n",
    "  dobreta = Vertice('Dobreta', 242)\n",
    "  craiova = Vertice('Craiova', 160)\n",
    "  rimnicu = Vertice('Rimnicu', 193)\n",
    "  fagaras = Vertice('Fagaras', 178)\n",
    "  pitesti = Vertice('Pitesti', 98)\n",
    "  bucharest = Vertice('Bucharest', 0)\n",
    "  giurgiu = Vertice('Giurgiu', 77)\n",
    "\n",
    "  arad.adiciona_adjacente(Adjacente(zerind, 75))\n",
    "  arad.adiciona_adjacente(Adjacente(sibiu, 140))\n",
    "  arad.adiciona_adjacente(Adjacente(timisoara, 118))\n",
    "\n",
    "  zerind.adiciona_adjacente(Adjacente(arad, 75))\n",
    "  zerind.adiciona_adjacente(Adjacente(oradea, 71))\n",
    "\n",
    "  oradea.adiciona_adjacente(Adjacente(zerind, 71))\n",
    "  oradea.adiciona_adjacente(Adjacente(sibiu, 151))\n",
    "\n",
    "  sibiu.adiciona_adjacente(Adjacente(oradea, 151))\n",
    "  sibiu.adiciona_adjacente(Adjacente(arad, 140))\n",
    "  sibiu.adiciona_adjacente(Adjacente(fagaras, 99))\n",
    "  sibiu.adiciona_adjacente(Adjacente(rimnicu, 80))\n",
    "\n",
    "  timisoara.adiciona_adjacente(Adjacente(arad, 118))\n",
    "  timisoara.adiciona_adjacente(Adjacente(lugoj, 111))\n",
    "\n",
    "  lugoj.adiciona_adjacente(Adjacente(timisoara, 111))\n",
    "  lugoj.adiciona_adjacente(Adjacente(mehadia, 70))\n",
    "\n",
    "  mehadia.adiciona_adjacente(Adjacente(lugoj, 70))\n",
    "  mehadia.adiciona_adjacente(Adjacente(dobreta, 75))\n",
    "\n",
    "  dobreta.adiciona_adjacente(Adjacente(mehadia, 75))\n",
    "  dobreta.adiciona_adjacente(Adjacente(craiova, 120))\n",
    "\n",
    "  craiova.adiciona_adjacente(Adjacente(dobreta, 120))\n",
    "  craiova.adiciona_adjacente(Adjacente(pitesti, 138))\n",
    "  craiova.adiciona_adjacente(Adjacente(rimnicu, 146))\n",
    "\n",
    "  rimnicu.adiciona_adjacente(Adjacente(craiova, 146))\n",
    "  rimnicu.adiciona_adjacente(Adjacente(sibiu, 80))\n",
    "  rimnicu.adiciona_adjacente(Adjacente(pitesti, 97))\n",
    "\n",
    "  fagaras.adiciona_adjacente(Adjacente(sibiu, 99))\n",
    "  fagaras.adiciona_adjacente(Adjacente(bucharest, 211))\n",
    "\n",
    "  pitesti.adiciona_adjacente(Adjacente(rimnicu, 97))\n",
    "  pitesti.adiciona_adjacente(Adjacente(craiova, 138))\n",
    "  pitesti.adiciona_adjacente(Adjacente(bucharest, 101))\n",
    "\n",
    "  bucharest.adiciona_adjacente(Adjacente(fagaras, 211))\n",
    "  bucharest.adiciona_adjacente(Adjacente(pitesti, 101))\n",
    "  bucharest.adiciona_adjacente(Adjacente(giurgiu, 90))"
   ]
  },
  {
   "cell_type": "code",
   "execution_count": 13,
   "metadata": {},
   "outputs": [],
   "source": [
    "grafo = Grafo()"
   ]
  },
  {
   "cell_type": "markdown",
   "metadata": {},
   "source": [
    "### Vetor Ordenado"
   ]
  },
  {
   "cell_type": "code",
   "execution_count": 14,
   "metadata": {},
   "outputs": [],
   "source": [
    "import numpy as np\n",
    "class VetorOrdenado:\n",
    "\n",
    "  def __init__(self, capacidade):\n",
    "    self.capacidade = capacidade\n",
    "    self.ultima_posicao = -1\n",
    "    # Mudança no tipo de dados\n",
    "    self.valores = np.empty(self.capacidade, dtype=object)\n",
    "\n",
    "  # Referência para o vértice e comparação com a distância para o objetivo\n",
    "  def insere(self, vertice):\n",
    "    if self.ultima_posicao == self.capacidade - 1:\n",
    "      print('Capacidade máxima atingida')\n",
    "      return\n",
    "    posicao = 0\n",
    "    for i in range(self.ultima_posicao + 1):\n",
    "      posicao = i\n",
    "      if self.valores[i].distancia_objetivo > vertice.distancia_objetivo:\n",
    "        break\n",
    "      if i == self.ultima_posicao:\n",
    "        posicao = i + 1\n",
    "    x = self.ultima_posicao\n",
    "    while x >= posicao:\n",
    "      self.valores[x + 1] = self.valores[x]\n",
    "      x -= 1\n",
    "    self.valores[posicao] = vertice\n",
    "    self.ultima_posicao += 1\n",
    "\n",
    "  def imprime(self):\n",
    "    if self.ultima_posicao == -1:\n",
    "      print('O vetor está vazio')\n",
    "    else:\n",
    "      for i in range(self.ultima_posicao + 1):\n",
    "        print(i, ' - ', self.valores[i].rotulo, ' - ', self.valores[i].distancia_objetivo)"
   ]
  },
  {
   "cell_type": "markdown",
   "metadata": {},
   "source": [
    "### Busca gulosa"
   ]
  },
  {
   "cell_type": "code",
   "execution_count": 15,
   "metadata": {},
   "outputs": [],
   "source": [
    "class Gulosa:\n",
    "    def __init__(self, objetivo):\n",
    "        self.objetivo = objetivo\n",
    "        self.encontrado = False\n",
    "    \n",
    "    def buscar(self, atual):\n",
    "        print('--------')\n",
    "        print(f'Atual: {atual.rotulo}')\n",
    "        atual.visitado = True\n",
    "\n",
    "        if atual == self.objetivo:\n",
    "            self.encontrado = True\n",
    "        else:\n",
    "            vetor_ordenado = VetorOrdenado(len(atual.adjacentes))\n",
    "            for adjacente in atual.adjacentes:\n",
    "                if adjacente.vertice.visitado == False:\n",
    "                    adjacente.vertice.visitado = True\n",
    "                    vetor_ordenado.insere(adjacente.vertice)\n",
    "            vetor_ordenado.imprime()\n",
    "\n",
    "            if vetor_ordenado.valores[0] != None:\n",
    "                self.buscar(vetor_ordenado.valores[0])"
   ]
  },
  {
   "cell_type": "code",
   "execution_count": 16,
   "metadata": {},
   "outputs": [
    {
     "name": "stdout",
     "output_type": "stream",
     "text": [
      "--------\n",
      "Atual: Arad\n",
      "0  -  Sibiu  -  253\n",
      "1  -  Timisoara  -  329\n",
      "2  -  Zerind  -  374\n",
      "--------\n",
      "Atual: Sibiu\n",
      "0  -  Fagaras  -  178\n",
      "1  -  Rimnicu  -  193\n",
      "2  -  Oradea  -  380\n",
      "--------\n",
      "Atual: Fagaras\n",
      "0  -  Bucharest  -  0\n",
      "--------\n",
      "Atual: Bucharest\n"
     ]
    }
   ],
   "source": [
    "busca_gulosa = Gulosa(grafo.bucharest)\n",
    "busca_gulosa.buscar(grafo.arad)\n"
   ]
  },
  {
   "cell_type": "markdown",
   "metadata": {},
   "source": [
    "## Busca A*"
   ]
  },
  {
   "cell_type": "code",
   "execution_count": 16,
   "metadata": {},
   "outputs": [],
   "source": [
    "import numpy as np"
   ]
  },
  {
   "cell_type": "markdown",
   "metadata": {},
   "source": [
    "### Grafo"
   ]
  },
  {
   "cell_type": "code",
   "execution_count": 17,
   "metadata": {},
   "outputs": [],
   "source": [
    "class Vertice:\n",
    "\n",
    "  def __init__(self, rotulo, distancia_objetivo):\n",
    "    self.rotulo = rotulo\n",
    "    self.visitado = False\n",
    "    self.distancia_objetivo = distancia_objetivo\n",
    "    self.adjacentes = []\n",
    "\n",
    "  def adiciona_adjacente(self, adjacente):\n",
    "    self.adjacentes.append(adjacente)\n",
    "\n",
    "  def mostra_adjacentes(self):\n",
    "    for i in self.adjacentes:\n",
    "      print(i.vertice.rotulo, i.custo)"
   ]
  },
  {
   "cell_type": "code",
   "execution_count": 18,
   "metadata": {},
   "outputs": [],
   "source": [
    "class Adjacente:\n",
    "  def __init__(self, vertice, custo):\n",
    "    self.vertice = vertice\n",
    "    self.custo = custo\n",
    "    self.distancia_aestrela = vertice.distancia_objetivo + self.custo"
   ]
  },
  {
   "cell_type": "code",
   "execution_count": 19,
   "metadata": {},
   "outputs": [],
   "source": [
    "class Grafo:\n",
    "  arad = Vertice('Arad', 366)\n",
    "  zerind = Vertice('Zerind', 374)\n",
    "  oradea = Vertice('Oradea', 380)\n",
    "  sibiu = Vertice('Sibiu', 253)\n",
    "  timisoara = Vertice('Timisoara', 329)\n",
    "  lugoj = Vertice('Lugoj', 244)\n",
    "  mehadia = Vertice('Mehadia', 241)\n",
    "  dobreta = Vertice('Dobreta', 242)\n",
    "  craiova = Vertice('Craiova', 160)\n",
    "  rimnicu = Vertice('Rimnicu', 193)\n",
    "  fagaras = Vertice('Fagaras', 178)\n",
    "  pitesti = Vertice('Pitesti', 98)\n",
    "  bucharest = Vertice('Bucharest', 0)\n",
    "  giurgiu = Vertice('Giurgiu', 77)\n",
    "\n",
    "  arad.adiciona_adjacente(Adjacente(zerind, 75))\n",
    "  arad.adiciona_adjacente(Adjacente(sibiu, 140))\n",
    "  arad.adiciona_adjacente(Adjacente(timisoara, 118))\n",
    "\n",
    "  zerind.adiciona_adjacente(Adjacente(arad, 75))\n",
    "  zerind.adiciona_adjacente(Adjacente(oradea, 71))\n",
    "\n",
    "  oradea.adiciona_adjacente(Adjacente(zerind, 71))\n",
    "  oradea.adiciona_adjacente(Adjacente(sibiu, 151))\n",
    "\n",
    "  sibiu.adiciona_adjacente(Adjacente(oradea, 151))\n",
    "  sibiu.adiciona_adjacente(Adjacente(arad, 140))\n",
    "  sibiu.adiciona_adjacente(Adjacente(fagaras, 99))\n",
    "  sibiu.adiciona_adjacente(Adjacente(rimnicu, 80))\n",
    "\n",
    "  timisoara.adiciona_adjacente(Adjacente(arad, 118))\n",
    "  timisoara.adiciona_adjacente(Adjacente(lugoj, 111))\n",
    "\n",
    "  lugoj.adiciona_adjacente(Adjacente(timisoara, 111))\n",
    "  lugoj.adiciona_adjacente(Adjacente(mehadia, 70))\n",
    "\n",
    "  mehadia.adiciona_adjacente(Adjacente(lugoj, 70))\n",
    "  mehadia.adiciona_adjacente(Adjacente(dobreta, 75))\n",
    "\n",
    "  dobreta.adiciona_adjacente(Adjacente(mehadia, 75))\n",
    "  dobreta.adiciona_adjacente(Adjacente(craiova, 120))\n",
    "\n",
    "  craiova.adiciona_adjacente(Adjacente(dobreta, 120))\n",
    "  craiova.adiciona_adjacente(Adjacente(pitesti, 138))\n",
    "  craiova.adiciona_adjacente(Adjacente(rimnicu, 146))\n",
    "\n",
    "  rimnicu.adiciona_adjacente(Adjacente(craiova, 146))\n",
    "  rimnicu.adiciona_adjacente(Adjacente(sibiu, 80))\n",
    "  rimnicu.adiciona_adjacente(Adjacente(pitesti, 97))\n",
    "\n",
    "  fagaras.adiciona_adjacente(Adjacente(sibiu, 99))\n",
    "  fagaras.adiciona_adjacente(Adjacente(bucharest, 211))\n",
    "\n",
    "  pitesti.adiciona_adjacente(Adjacente(rimnicu, 97))\n",
    "  pitesti.adiciona_adjacente(Adjacente(craiova, 138))\n",
    "  pitesti.adiciona_adjacente(Adjacente(bucharest, 101))\n",
    "\n",
    "  bucharest.adiciona_adjacente(Adjacente(fagaras, 211))\n",
    "  bucharest.adiciona_adjacente(Adjacente(pitesti, 101))\n",
    "  bucharest.adiciona_adjacente(Adjacente(giurgiu, 90))"
   ]
  },
  {
   "cell_type": "code",
   "execution_count": 20,
   "metadata": {},
   "outputs": [],
   "source": [
    "grafo = Grafo()"
   ]
  },
  {
   "cell_type": "markdown",
   "metadata": {},
   "source": [
    "### Vetor Ordenado"
   ]
  },
  {
   "cell_type": "code",
   "execution_count": 21,
   "metadata": {},
   "outputs": [],
   "source": [
    "class VetorOrdenado:\n",
    "\n",
    "    def __init__(self, capacidade):\n",
    "        self.capacidade = capacidade\n",
    "        self.ultima_posicao = -1\n",
    "        # Mudança no tipo de dados\n",
    "        self.valores = np.empty(self.capacidade, dtype=object)\n",
    "\n",
    "    # Referência para o vértice e comparação com a distância A*\n",
    "    def insere(self, adjacente):\n",
    "        if self.ultima_posicao == self.capacidade - 1:\n",
    "            print('Capacidade máxima atingida')\n",
    "            return\n",
    "        posicao = 0\n",
    "        for i in range(self.ultima_posicao + 1):\n",
    "            posicao = i\n",
    "            if self.valores[i].distancia_aestrela > adjacente.distancia_aestrela:\n",
    "                break\n",
    "            if i == self.ultima_posicao:\n",
    "                posicao = i + 1\n",
    "        x = self.ultima_posicao\n",
    "        while x >= posicao:\n",
    "            self.valores[x + 1] = self.valores[x]\n",
    "            x -= 1\n",
    "        self.valores[posicao] = adjacente\n",
    "        self.ultima_posicao += 1\n",
    "\n",
    "    def imprime(self):\n",
    "        if self.ultima_posicao == -1:\n",
    "            print('O vetor está vazio')\n",
    "        else:\n",
    "            for i in range(self.ultima_posicao + 1):\n",
    "                print(i, ' - ', self.valores[i].vertice.rotulo, ' - ',\n",
    "                      self.valores[i].custo, ' - ',\n",
    "                      self.valores[i].vertice.distancia_objetivo, ' - ',\n",
    "                      self.valores[i].distancia_aestrela)"
   ]
  },
  {
   "cell_type": "markdown",
   "metadata": {},
   "source": [
    "### Busca"
   ]
  },
  {
   "cell_type": "code",
   "execution_count": 22,
   "metadata": {},
   "outputs": [],
   "source": [
    "class AEstrela:\n",
    "    def __init__(self, objetivo):\n",
    "        self.objetivo = objetivo\n",
    "        self.encontrado = False\n",
    "\n",
    "    def buscar(self, atual):\n",
    "        print(\"---------\")\n",
    "        print(f'Atual: {atual.rotulo}')\n",
    "        atual.visitado = True\n",
    "\n",
    "        if atual == self.objetivo:\n",
    "            self.encontrado = True\n",
    "        else:\n",
    "            vetor_ordenado = VetorOrdenado(len(atual.adjacentes))\n",
    "            for adjacente in atual.adjacentes:\n",
    "                if adjacente.vertice.visitado == False:\n",
    "                    adjacente.vertice.visitado = True\n",
    "                    vetor_ordenado.insere(adjacente)\n",
    "            vetor_ordenado.imprime()\n",
    "\n",
    "            if vetor_ordenado.valores[0] != None:\n",
    "                self.buscar(vetor_ordenado.valores[0].vertice)"
   ]
  },
  {
   "cell_type": "code",
   "execution_count": 23,
   "metadata": {},
   "outputs": [
    {
     "name": "stdout",
     "output_type": "stream",
     "text": [
      "---------\n",
      "Atual: Arad\n",
      "0  -  Sibiu  -  140  -  253  -  393\n",
      "1  -  Timisoara  -  118  -  329  -  447\n",
      "2  -  Zerind  -  75  -  374  -  449\n",
      "---------\n",
      "Atual: Sibiu\n",
      "0  -  Rimnicu  -  80  -  193  -  273\n",
      "1  -  Fagaras  -  99  -  178  -  277\n",
      "2  -  Oradea  -  151  -  380  -  531\n",
      "---------\n",
      "Atual: Rimnicu\n",
      "0  -  Pitesti  -  97  -  98  -  195\n",
      "1  -  Craiova  -  146  -  160  -  306\n",
      "---------\n",
      "Atual: Pitesti\n",
      "0  -  Bucharest  -  101  -  0  -  101\n",
      "---------\n",
      "Atual: Bucharest\n"
     ]
    }
   ],
   "source": [
    "busca_aestrela = AEstrela(grafo.bucharest)\n",
    "busca_aestrela.buscar(grafo.arad)"
   ]
  },
  {
   "cell_type": "markdown",
   "metadata": {},
   "source": [
    "## Algoritmo de Dijkstra"
   ]
  },
  {
   "cell_type": "markdown",
   "metadata": {},
   "source": [
    "### Estrutura do grafo - Matriz de adjacência"
   ]
  },
  {
   "cell_type": "code",
   "execution_count": 56,
   "metadata": {},
   "outputs": [],
   "source": [
    "import numpy as np"
   ]
  },
  {
   "cell_type": "code",
   "execution_count": 57,
   "metadata": {},
   "outputs": [],
   "source": [
    "vertices = {'arad': 0, 'zerind': 1, 'oradea': 2, 'sibiu': 3, 'timisoara': 4,\n",
    "            'lugoj': 5, 'mehadia': 6, 'dobreta': 7, 'craiova': 8, 'rimnicu': 9,\n",
    "            'fagaras': 10, 'pitesti': 11, 'bucharest': 12, 'giurgiu': 13}"
   ]
  },
  {
   "cell_type": "code",
   "execution_count": 58,
   "metadata": {},
   "outputs": [],
   "source": [
    "cidades = {0: 'arad', 1: 'zerind', 2: 'oradea', 3: 'sibiu', 4: 'timisoara',\n",
    "           5: 'lugoj', 6: 'mehadia', 7: 'dobreta', 8: 'craiova', 9: 'rimnicu',\n",
    "           10: 'fagaras', 11: 'pitesti', 12: 'bucharest', 13: 'giurgiu'}"
   ]
  },
  {
   "cell_type": "code",
   "execution_count": 59,
   "metadata": {},
   "outputs": [],
   "source": [
    "arestas = np.zeros([len(cidades), len(cidades)], dtype=int)"
   ]
  },
  {
   "cell_type": "code",
   "execution_count": 60,
   "metadata": {},
   "outputs": [],
   "source": [
    "arestas[vertices['arad'], [vertices['zerind']]] = 75\n",
    "arestas[vertices['arad'], [vertices['sibiu']]] = 140\n",
    "arestas[vertices['arad'], [vertices['timisoara']]] = 118\n",
    "\n",
    "arestas[vertices['zerind'],[vertices['arad']]] = 75\n",
    "arestas[vertices['zerind'],[vertices['oradea']]] = 71\n",
    "\n",
    "arestas[vertices['oradea'],[vertices['zerind']]] = 71\n",
    "arestas[vertices['oradea'],[vertices['sibiu']]] = 151\n",
    "\n",
    "arestas[vertices['sibiu'],[vertices['oradea']]] = 151\n",
    "arestas[vertices['sibiu'],[vertices['arad']]] = 140\n",
    "arestas[vertices['sibiu'],[vertices['fagaras']]] = 99\n",
    "arestas[vertices['sibiu'],[vertices['rimnicu']]] = 80\n",
    "\n",
    "arestas[vertices['timisoara'],[vertices['arad']]] = 118\n",
    "arestas[vertices['timisoara'],[vertices['lugoj']]] = 111\n",
    "\n",
    "arestas[vertices['lugoj'],[vertices['timisoara']]] = 111\n",
    "arestas[vertices['lugoj'],[vertices['mehadia']]] = 70\n",
    "\n",
    "arestas[vertices['mehadia'],[vertices['lugoj']]] = 70\n",
    "arestas[vertices['mehadia'],[vertices['dobreta']]] = 75\n",
    "\n",
    "arestas[vertices['dobreta'],[vertices['mehadia']]] = 75\n",
    "arestas[vertices['dobreta'],[vertices['craiova']]] = 120\n",
    "\n",
    "arestas[vertices['craiova'],[vertices['dobreta']]] = 120\n",
    "arestas[vertices['craiova'],[vertices['pitesti']]] = 138\n",
    "arestas[vertices['craiova'],[vertices['rimnicu']]] = 146\n",
    "\n",
    "arestas[vertices['rimnicu'],[vertices['craiova']]] = 146\n",
    "arestas[vertices['rimnicu'],[vertices['sibiu']]] = 80\n",
    "arestas[vertices['rimnicu'],[vertices['pitesti']]] = 97\n",
    "\n",
    "arestas[vertices['fagaras'],[vertices['sibiu']]] = 99\n",
    "arestas[vertices['fagaras'],[vertices['bucharest']]] = 211\n",
    "\n",
    "arestas[vertices['pitesti'],[vertices['rimnicu']]] = 97\n",
    "arestas[vertices['pitesti'],[vertices['craiova']]] = 138\n",
    "arestas[vertices['pitesti'],[vertices['bucharest']]] = 101\n",
    "\n",
    "arestas[vertices['bucharest'],[vertices['fagaras']]] = 211\n",
    "arestas[vertices['bucharest'],[vertices['pitesti']]] = 101\n",
    "arestas[vertices['bucharest'],[vertices['giurgiu']]] = 90"
   ]
  },
  {
   "cell_type": "markdown",
   "metadata": {},
   "source": [
    "### Algoritmo de Dijkstra"
   ]
  },
  {
   "cell_type": "code",
   "execution_count": 63,
   "metadata": {},
   "outputs": [],
   "source": [
    "import sys\n",
    "class Dijkstra:\n",
    "    def __init__(self, vertices, arestas, inicio):\n",
    "        self.tamanho = len(vertices)\n",
    "        self.vertices = vertices\n",
    "        self.grafo = arestas\n",
    "        self.inicio = inicio\n",
    "\n",
    "    def mostra_solucao(self, distancias):\n",
    "        print(f'Menores distâncias de {self.vertices[self.inicio]} até todos os outros.')\n",
    "        for vertice in range(self.tamanho):\n",
    "            print(self.vertices[vertice], distancias[vertice])\n",
    "\n",
    "    def distancia_minima(self, distancia, visitados):\n",
    "        minimo = sys.maxsize\n",
    "        for vertice in range(self.tamanho):\n",
    "            if distancia[vertice] < minimo and visitados[vertice] == False:\n",
    "                minimo = distancia[vertice]\n",
    "                inidice_minimo = vertice \n",
    "        return inidice_minimo\n",
    "    \n",
    "    def dijkstra(self):\n",
    "        distancia = [sys.maxsize] * self.tamanho\n",
    "        distancia[self.inicio] = 0\n",
    "        visitados = [False] * self.tamanho\n",
    "\n",
    "        for _ in range(self.tamanho):\n",
    "            indice_minimo = self.distancia_minima(distancia, visitados)\n",
    "            visitados[indice_minimo] = True\n",
    "\n",
    "            for vertice in range(self.tamanho):\n",
    "                if self.grafo[indice_minimo][vertice] > 0 and visitados[vertice] == False and distancia[vertice] > distancia[indice_minimo] + self.grafo[indice_minimo][vertice]:\n",
    "                    distancia[vertice] = distancia[indice_minimo]+self.grafo[indice_minimo][vertice]\n",
    "        \n",
    "        self.mostra_solucao(distancia)\n",
    "\n",
    "        \n",
    "\n"
   ]
  },
  {
   "cell_type": "code",
   "execution_count": 64,
   "metadata": {},
   "outputs": [
    {
     "name": "stdout",
     "output_type": "stream",
     "text": [
      "Menores distâncias de arad até todos os outros.\n",
      "arad 0\n",
      "zerind 75\n",
      "oradea 146\n",
      "sibiu 140\n",
      "timisoara 118\n",
      "lugoj 229\n",
      "mehadia 299\n",
      "dobreta 374\n",
      "craiova 366\n",
      "rimnicu 220\n",
      "fagaras 239\n",
      "pitesti 317\n",
      "bucharest 418\n",
      "giurgiu 508\n"
     ]
    }
   ],
   "source": [
    "dijkstra = Dijkstra(cidades, arestas, vertices['arad'])\n",
    "dijkstra.dijkstra()"
   ]
  }
 ],
 "metadata": {
  "kernelspec": {
   "display_name": "Python 3",
   "language": "python",
   "name": "python3"
  },
  "language_info": {
   "codemirror_mode": {
    "name": "ipython",
    "version": 3
   },
   "file_extension": ".py",
   "mimetype": "text/x-python",
   "name": "python",
   "nbconvert_exporter": "python",
   "pygments_lexer": "ipython3",
   "version": "3.10.12"
  }
 },
 "nbformat": 4,
 "nbformat_minor": 2
}
