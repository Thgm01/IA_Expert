{
 "cells": [
  {
   "attachments": {},
   "cell_type": "markdown",
   "metadata": {},
   "source": [
    "Vetor Ordenado"
   ]
  },
  {
   "cell_type": "code",
   "execution_count": 1,
   "metadata": {},
   "outputs": [],
   "source": [
    "import numpy as np"
   ]
  },
  {
   "cell_type": "code",
   "execution_count": 157,
   "metadata": {},
   "outputs": [],
   "source": [
    "class VetorOrdenado:\n",
    "    def __init__(self, capacity):\n",
    "        self.capacity = capacity\n",
    "        self.last_position = -1\n",
    "        self.values = np.empty(self.capacity, dtype=int)\n",
    "    \n",
    "    # O(n)\n",
    "    def print_values(self):\n",
    "        if self.last_position == -1:\n",
    "            print('The vector is empty')\n",
    "        else:\n",
    "            for i in range(self.last_position+1):\n",
    "                print(i, '-', self.values[i])\n",
    "\n",
    "    # O(n)\n",
    "    def insert_value(self, value):\n",
    "        if self.last_position == self.capacity-1:\n",
    "            print(\"Max capacity reached\")\n",
    "            return\n",
    "\n",
    "        position = 0\n",
    "        \n",
    "        for i in range(self.last_position+1):\n",
    "            position = i\n",
    "            if self.values[i] > value:\n",
    "                break\n",
    "            if i == self.last_position:\n",
    "                position +=1\n",
    "\n",
    "        for i in range(self.last_position, position-1, -1):\n",
    "            self.values[i+1] = self.values[i]\n",
    "\n",
    "#        x = self.last_position\n",
    "#        while x >= position:\n",
    "#            self.values[x+1] = self.values[x]\n",
    "#            x -= 1\n",
    "\n",
    "        self.values[position] = value\n",
    "        self.last_position += 1\n",
    "    \n",
    "    def linear_search_value(self, value):\n",
    "\n",
    "        i = 0\n",
    "        while self.values[i] <= value or i == self.last_position:\n",
    "            if self.values[i] == value:\n",
    "                return i\n",
    "            i += 1\n",
    "        return -1\n",
    "\n",
    "        # for i in range(self.last_position+1):\n",
    "        #     if self.values[i] == value:\n",
    "        #         return i\n",
    "        #     if self.values[i] > value:\n",
    "        #         return -1\n",
    "\n",
    "    # O(log n)\n",
    "    def binary_search_value(self, value):\n",
    "        lower_limit = 0\n",
    "        upper_limit = self.last_position\n",
    "\n",
    "        while True:\n",
    "            atual_position = int((upper_limit + lower_limit)/2)\n",
    "            if self.values[atual_position] == value:\n",
    "                return atual_position  \n",
    "            elif lower_limit > upper_limit:\n",
    "                return -1          \n",
    "            elif self.values[atual_position] < value:\n",
    "                lower_limit = atual_position+1\n",
    "            else:\n",
    "                upper_limit = atual_position - 1\n",
    "\n",
    "        \n",
    "    def exclude_value(self, value):\n",
    "        position = self.search_value(value)\n",
    "        if position == -1:\n",
    "            print(\"This value wasn't in the vector\")\n",
    "            return -1\n",
    "        \n",
    "        for i in range(position, self.last_position+1):\n",
    "            self.values[i] = self.values[i+1]\n",
    "        self.last_position -= 1\n",
    "\n"
   ]
  },
  {
   "cell_type": "code",
   "execution_count": 158,
   "metadata": {},
   "outputs": [
    {
     "name": "stdout",
     "output_type": "stream",
     "text": [
      "The vector is empty\n"
     ]
    }
   ],
   "source": [
    "vetor = VetorOrdenado(10)\n",
    "vetor.print_values()"
   ]
  },
  {
   "cell_type": "code",
   "execution_count": 159,
   "metadata": {},
   "outputs": [
    {
     "name": "stdout",
     "output_type": "stream",
     "text": [
      "0 - 20\n"
     ]
    }
   ],
   "source": [
    "vetor.insert_value(20)\n",
    "vetor.print_values()"
   ]
  },
  {
   "cell_type": "code",
   "execution_count": 160,
   "metadata": {},
   "outputs": [
    {
     "name": "stdout",
     "output_type": "stream",
     "text": [
      "0 - 4\n",
      "1 - 20\n"
     ]
    }
   ],
   "source": [
    "vetor.insert_value(4)\n",
    "vetor.print_values()"
   ]
  },
  {
   "cell_type": "code",
   "execution_count": 161,
   "metadata": {},
   "outputs": [
    {
     "name": "stdout",
     "output_type": "stream",
     "text": [
      "0 - 4\n",
      "1 - 12\n",
      "2 - 20\n"
     ]
    }
   ],
   "source": [
    "vetor.insert_value(12)\n",
    "vetor.print_values()"
   ]
  },
  {
   "cell_type": "code",
   "execution_count": 167,
   "metadata": {},
   "outputs": [
    {
     "name": "stdout",
     "output_type": "stream",
     "text": [
      "0 - 4\n",
      "1 - 12\n",
      "2 - 20\n",
      "3 - 120\n",
      "4 - 150\n"
     ]
    }
   ],
   "source": [
    "vetor.insert_value(150)\n",
    "vetor.print_values()"
   ]
  },
  {
   "cell_type": "code",
   "execution_count": 168,
   "metadata": {},
   "outputs": [
    {
     "data": {
      "text/plain": [
       "4"
      ]
     },
     "execution_count": 168,
     "metadata": {},
     "output_type": "execute_result"
    }
   ],
   "source": [
    "vetor.linear_search_value(150)"
   ]
  },
  {
   "cell_type": "code",
   "execution_count": 170,
   "metadata": {},
   "outputs": [
    {
     "name": "stdout",
     "output_type": "stream",
     "text": [
      "2 0 4\n",
      "3 3 4\n",
      "4 4 4\n"
     ]
    },
    {
     "data": {
      "text/plain": [
       "4"
      ]
     },
     "execution_count": 170,
     "metadata": {},
     "output_type": "execute_result"
    }
   ],
   "source": [
    "vetor.binary_search_value(150)"
   ]
  }
 ],
 "metadata": {
  "kernelspec": {
   "display_name": "Python 3",
   "language": "python",
   "name": "python3"
  },
  "language_info": {
   "codemirror_mode": {
    "name": "ipython",
    "version": 3
   },
   "file_extension": ".py",
   "mimetype": "text/x-python",
   "name": "python",
   "nbconvert_exporter": "python",
   "pygments_lexer": "ipython3",
   "version": "3.9.13"
  },
  "orig_nbformat": 4,
  "vscode": {
   "interpreter": {
    "hash": "bba17b8b4dc60ef00c393e5a6d62f2141086a869edc77794458820ef633196a9"
   }
  }
 },
 "nbformat": 4,
 "nbformat_minor": 2
}
