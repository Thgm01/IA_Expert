{
 "cells": [
  {
   "cell_type": "markdown",
   "metadata": {},
   "source": [
    "# Deque"
   ]
  },
  {
   "cell_type": "markdown",
   "metadata": {},
   "source": [
    "Deque is a data sctructure that you can add and remove data of the back and the front"
   ]
  },
  {
   "cell_type": "code",
   "execution_count": 1,
   "metadata": {},
   "outputs": [],
   "source": [
    "import numpy as np"
   ]
  },
  {
   "cell_type": "code",
   "execution_count": 10,
   "metadata": {},
   "outputs": [],
   "source": [
    "class Deque:\n",
    "    def __init__(self, capacity):\n",
    "        self.capacity = capacity\n",
    "        self.front = -1\n",
    "        self.back = 0\n",
    "        self.number_of_elements = 0\n",
    "        self.values = np.empty(self.capacity, dtype=int)\n",
    "    \n",
    "    def __full_deque(self):\n",
    "        return (self.front == 0 and self.back == self.capacity) or (self.front == self.back + 1)\n",
    "    \n",
    "    def __empty_deque(self):\n",
    "        return self.front == -1\n",
    "\n",
    "    def insert_front(self, value):\n",
    "        if self.__full_deque():\n",
    "            print('The deque is full!')\n",
    "            return\n",
    "        \n",
    "        if self.front == -1:\n",
    "            self.front = 0\n",
    "            self.back = 0\n",
    "        elif self.front == 0:\n",
    "            self.front = self.capacity - 1\n",
    "        else:\n",
    "            self.front -= 1\n",
    "\n",
    "        self.values[self.front] = value\n",
    "\n",
    "    def insert_back(self, value):\n",
    "        if self.__full_deque():\n",
    "            print('The deque is full!')\n",
    "            return\n",
    "        \n",
    "        if self.front == -1:\n",
    "            self.front = 0\n",
    "            self.back = 0\n",
    "        elif self.back == self.capacity - 1:\n",
    "            self.back = 0\n",
    "        else:\n",
    "            self.back += 1\n",
    "        \n",
    "        self.values[self.back] = value\n",
    "\n",
    "    def exclude_front(self):\n",
    "        if self.__empty_deque():\n",
    "            print('The deque is empty!')\n",
    "            return\n",
    "        \n",
    "        if self.front == self.back:\n",
    "            self.front = -1\n",
    "            self.back = -1\n",
    "        else:\n",
    "            if self.front == self.capacity -1:\n",
    "                self.front = 0\n",
    "            else:\n",
    "                self.front += 1\n",
    "\n",
    "    def exclude_back(self):\n",
    "        if self.__empty_deque():\n",
    "            print('The deque is empty!')\n",
    "            return\n",
    "\n",
    "        if self.front == self.back:\n",
    "            self.front = -1\n",
    "            self.back = -1\n",
    "        elif self.front == 0:\n",
    "            self.back = self.capacity - 1\n",
    "        else:\n",
    "             self.back -= 1\n",
    "            \n",
    "    def get_front(self):\n",
    "        if self.__empty_deque():\n",
    "            print('The deque is empty!')\n",
    "            return\n",
    "        \n",
    "        return self.values[self.front]\n",
    "\n",
    "    def get_back(self):\n",
    "        if self.__empty_deque() or self.back < 0:\n",
    "            print('The deque is empty!')\n",
    "            return\n",
    "        \n",
    "        return self.values[self.back]"
   ]
  },
  {
   "cell_type": "code",
   "execution_count": 11,
   "metadata": {},
   "outputs": [],
   "source": [
    "deque = Deque(5)"
   ]
  },
  {
   "cell_type": "code",
   "execution_count": 12,
   "metadata": {},
   "outputs": [],
   "source": [
    "deque.insert_back(5)"
   ]
  },
  {
   "cell_type": "code",
   "execution_count": 13,
   "metadata": {},
   "outputs": [
    {
     "data": {
      "text/plain": [
       "(5, 5)"
      ]
     },
     "execution_count": 13,
     "metadata": {},
     "output_type": "execute_result"
    }
   ],
   "source": [
    "deque.get_front(), deque.get_back()"
   ]
  },
  {
   "cell_type": "code",
   "execution_count": 14,
   "metadata": {},
   "outputs": [
    {
     "data": {
      "text/plain": [
       "(5, 10)"
      ]
     },
     "execution_count": 14,
     "metadata": {},
     "output_type": "execute_result"
    }
   ],
   "source": [
    "deque.insert_back(10)\n",
    "deque.get_front(), deque.get_back()"
   ]
  },
  {
   "cell_type": "code",
   "execution_count": 15,
   "metadata": {},
   "outputs": [
    {
     "data": {
      "text/plain": [
       "(3, 10)"
      ]
     },
     "execution_count": 15,
     "metadata": {},
     "output_type": "execute_result"
    }
   ],
   "source": [
    "deque.insert_front(3)\n",
    "deque.get_front(), deque.get_back()"
   ]
  },
  {
   "cell_type": "code",
   "execution_count": 16,
   "metadata": {},
   "outputs": [
    {
     "data": {
      "text/plain": [
       "(2, 10)"
      ]
     },
     "execution_count": 16,
     "metadata": {},
     "output_type": "execute_result"
    }
   ],
   "source": [
    "deque.insert_front(2)\n",
    "deque.get_front(), deque.get_back()"
   ]
  },
  {
   "cell_type": "code",
   "execution_count": 20,
   "metadata": {},
   "outputs": [
    {
     "data": {
      "text/plain": [
       "(2, 11)"
      ]
     },
     "execution_count": 20,
     "metadata": {},
     "output_type": "execute_result"
    }
   ],
   "source": [
    "deque.insert_back(11)\n",
    "deque.get_front(), deque.get_back()"
   ]
  },
  {
   "cell_type": "code",
   "execution_count": 25,
   "metadata": {},
   "outputs": [
    {
     "name": "stdout",
     "output_type": "stream",
     "text": [
      "The deque is empty!\n",
      "The deque is empty!\n",
      "The deque is empty!\n"
     ]
    },
    {
     "data": {
      "text/plain": [
       "(None, None)"
      ]
     },
     "execution_count": 25,
     "metadata": {},
     "output_type": "execute_result"
    }
   ],
   "source": [
    "deque.exclude_front()\n",
    "deque.exclude_back()\n",
    "deque.get_front(), deque.get_back()"
   ]
  }
 ],
 "metadata": {
  "kernelspec": {
   "display_name": "Python 3",
   "language": "python",
   "name": "python3"
  },
  "language_info": {
   "codemirror_mode": {
    "name": "ipython",
    "version": 3
   },
   "file_extension": ".py",
   "mimetype": "text/x-python",
   "name": "python",
   "nbconvert_exporter": "python",
   "pygments_lexer": "ipython3",
   "version": "3.10.12"
  }
 },
 "nbformat": 4,
 "nbformat_minor": 2
}
