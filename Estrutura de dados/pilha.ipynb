{
 "cells": [
  {
   "attachments": {},
   "cell_type": "markdown",
   "metadata": {},
   "source": [
    "Pilha"
   ]
  },
  {
   "cell_type": "code",
   "execution_count": 1,
   "metadata": {},
   "outputs": [],
   "source": [
    "import numpy as np"
   ]
  },
  {
   "cell_type": "code",
   "execution_count": 41,
   "metadata": {},
   "outputs": [],
   "source": [
    "class Stack:\n",
    "    def __init__(self, capacity):\n",
    "        self.__capacity = capacity\n",
    "        self.__top = -1\n",
    "        self.__values = np.empty(self.__capacity, dtype=int)\n",
    "\n",
    "    def __full_stack(self):\n",
    "        return self.__top == self.__capacity - 1\n",
    "\n",
    "    def __empty_stack(self):\n",
    "        return self.__top == -1\n",
    "\n",
    "    def pile(self, value):\n",
    "        if self.__full_stack():\n",
    "            print(\"Error! Full Strack\")\n",
    "        else:\n",
    "            self.__top += 1\n",
    "            self.__values[self.__top] = value\n",
    "    \n",
    "    def unstack(self):\n",
    "        print(self.__top)\n",
    "        if self.__empty_stack():\n",
    "            print('Error! Empty Stack')\n",
    "        else:\n",
    "            self.__top -= 1\n",
    "\n",
    "    def check_top(self):\n",
    "        if self.__top != -1:\n",
    "            return self.__values[self.__top]\n",
    "        else:\n",
    "            return -1 \n"
   ]
  },
  {
   "cell_type": "code",
   "execution_count": 42,
   "metadata": {},
   "outputs": [],
   "source": [
    "stack = Stack(10)"
   ]
  },
  {
   "cell_type": "code",
   "execution_count": 43,
   "metadata": {},
   "outputs": [
    {
     "data": {
      "text/plain": [
       "-1"
      ]
     },
     "execution_count": 43,
     "metadata": {},
     "output_type": "execute_result"
    }
   ],
   "source": [
    "stack.check_top()"
   ]
  },
  {
   "cell_type": "code",
   "execution_count": 44,
   "metadata": {},
   "outputs": [
    {
     "data": {
      "text/plain": [
       "20"
      ]
     },
     "execution_count": 44,
     "metadata": {},
     "output_type": "execute_result"
    }
   ],
   "source": [
    "stack.pile(20)\n",
    "stack.check_top()"
   ]
  },
  {
   "cell_type": "code",
   "execution_count": 45,
   "metadata": {},
   "outputs": [],
   "source": [
    "stack.pile(30)\n",
    "stack.pile(40)\n",
    "stack.pile(50)\n",
    "stack.pile(20)"
   ]
  },
  {
   "cell_type": "code",
   "execution_count": 48,
   "metadata": {},
   "outputs": [
    {
     "data": {
      "text/plain": [
       "50"
      ]
     },
     "execution_count": 48,
     "metadata": {},
     "output_type": "execute_result"
    }
   ],
   "source": [
    "stack.check_top()"
   ]
  },
  {
   "cell_type": "code",
   "execution_count": 47,
   "metadata": {},
   "outputs": [
    {
     "name": "stdout",
     "output_type": "stream",
     "text": [
      "4\n"
     ]
    }
   ],
   "source": [
    "stack.unstack()"
   ]
  },
  {
   "cell_type": "code",
   "execution_count": null,
   "metadata": {},
   "outputs": [],
   "source": []
  }
 ],
 "metadata": {
  "kernelspec": {
   "display_name": "Python 3",
   "language": "python",
   "name": "python3"
  },
  "language_info": {
   "codemirror_mode": {
    "name": "ipython",
    "version": 3
   },
   "file_extension": ".py",
   "mimetype": "text/x-python",
   "name": "python",
   "nbconvert_exporter": "python",
   "pygments_lexer": "ipython3",
   "version": "3.9.13"
  },
  "orig_nbformat": 4,
  "vscode": {
   "interpreter": {
    "hash": "bba17b8b4dc60ef00c393e5a6d62f2141086a869edc77794458820ef633196a9"
   }
  }
 },
 "nbformat": 4,
 "nbformat_minor": 2
}
