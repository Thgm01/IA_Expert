{
 "cells": [
  {
   "attachments": {},
   "cell_type": "markdown",
   "metadata": {},
   "source": [
    "# Pilha"
   ]
  },
  {
   "cell_type": "code",
   "execution_count": 1,
   "metadata": {},
   "outputs": [],
   "source": [
    "import numpy as np"
   ]
  },
  {
   "cell_type": "code",
   "execution_count": 39,
   "metadata": {},
   "outputs": [],
   "source": [
    "class Stack:\n",
    "    def __init__(self, capacity):\n",
    "        self.__capacity = capacity\n",
    "        self.__top = -1\n",
    "        self.__values = np.empty(self.__capacity, dtype=str)\n",
    "\n",
    "    def __full_stack(self):\n",
    "        if self.__top == self.__capacity-1:\n",
    "            return True\n",
    "        return False        \n",
    "\n",
    "    def __empty_stack(self):\n",
    "        if self.__top == -1:\n",
    "            return True\n",
    "        return False\n",
    "    \n",
    "    def stack_up(self, value):\n",
    "        if self.__full_stack():\n",
    "            print(\"The stack is full!\\n\")\n",
    "        else:\n",
    "            self.__top += 1\n",
    "            self.__values[self.__top] = value\n",
    "        \n",
    "    def unstack(self):\n",
    "        if self.__empty_stack():\n",
    "            print('The stack is empty!\\n')\n",
    "        else:\n",
    "            self.__top -= 1\n",
    "    \n",
    "    def check_top(self):\n",
    "        if self.__top != -1:\n",
    "            return self.__values[self.__top]\n",
    "        else:\n",
    "            return -1\n",
    "    \n",
    "    \n",
    "\n",
    "    \n",
    "\n",
    "        "
   ]
  },
  {
   "cell_type": "code",
   "execution_count": 21,
   "metadata": {},
   "outputs": [],
   "source": [
    "stack = Stack(5)"
   ]
  },
  {
   "cell_type": "code",
   "execution_count": 22,
   "metadata": {},
   "outputs": [
    {
     "data": {
      "text/plain": [
       "-1"
      ]
     },
     "execution_count": 22,
     "metadata": {},
     "output_type": "execute_result"
    }
   ],
   "source": [
    "stack.check_top()"
   ]
  },
  {
   "cell_type": "code",
   "execution_count": 32,
   "metadata": {},
   "outputs": [
    {
     "name": "stdout",
     "output_type": "stream",
     "text": [
      "The stack is full!\n",
      "\n"
     ]
    },
    {
     "data": {
      "text/plain": [
       "5"
      ]
     },
     "execution_count": 32,
     "metadata": {},
     "output_type": "execute_result"
    }
   ],
   "source": [
    "stack.stack_up(1)\n",
    "stack.stack_up(2)\n",
    "stack.stack_up(3)\n",
    "stack.stack_up(4)\n",
    "stack.stack_up(5)\n",
    "stack.stack_up(6)\n",
    "\n",
    "stack.check_top()"
   ]
  },
  {
   "cell_type": "code",
   "execution_count": 37,
   "metadata": {},
   "outputs": [
    {
     "data": {
      "text/plain": [
       "-1"
      ]
     },
     "execution_count": 37,
     "metadata": {},
     "output_type": "execute_result"
    }
   ],
   "source": [
    "stack.unstack()\n",
    "\n",
    "stack.check_top()"
   ]
  },
  {
   "cell_type": "markdown",
   "metadata": {},
   "source": [
    "## Exercício: Validador de expressões com pilhas"
   ]
  },
  {
   "cell_type": "code",
   "execution_count": 42,
   "metadata": {},
   "outputs": [
    {
     "name": "stdout",
     "output_type": "stream",
     "text": [
      "(\n",
      "-1\n",
      "Correct!\n"
     ]
    }
   ],
   "source": [
    "expression = input(\"Write your expression: \")\n",
    "expression_limiters = Stack(len(expression))\n",
    "\n",
    "\n",
    "for i in expression:\n",
    "    if i in '{[(':\n",
    "        expression_limiters.stack_up(i)\n",
    "\n",
    "    elif i == ')':\n",
    "        if expression_limiters.check_top() == '(':\n",
    "            expression_limiters.unstack()\n",
    "        else:\n",
    "            expression_limiters.stack_up(i)\n",
    "            break\n",
    "\n",
    "    elif i == ']':\n",
    "        if expression_limiters.check_top() == '[':\n",
    "            expression_limiters.unstack()\n",
    "        else:\n",
    "            expression_limiters.stack_up(i)\n",
    "            break\n",
    "    \n",
    "    elif i == '{':\n",
    "        if expression_limiters.check_top() == '{':\n",
    "            expression_limiters.unstack()\n",
    "        else:\n",
    "            expression_limiters.stack_up(i)\n",
    "            break\n",
    "    \n",
    "    print(expression_limiters.check_top())\n",
    "\n",
    "    \n",
    "if expression_limiters.check_top() == -1:\n",
    "    print(\"Correct!\")\n",
    "\n",
    "else:\n",
    "    print(\"Wrong\")\n",
    "\n",
    "        "
   ]
  }
 ],
 "metadata": {
  "kernelspec": {
   "display_name": "Python 3",
   "language": "python",
   "name": "python3"
  },
  "language_info": {
   "codemirror_mode": {
    "name": "ipython",
    "version": 3
   },
   "file_extension": ".py",
   "mimetype": "text/x-python",
   "name": "python",
   "nbconvert_exporter": "python",
   "pygments_lexer": "ipython3",
   "version": "3.10.12"
  },
  "orig_nbformat": 4,
  "vscode": {
   "interpreter": {
    "hash": "bba17b8b4dc60ef00c393e5a6d62f2141086a869edc77794458820ef633196a9"
   }
  }
 },
 "nbformat": 4,
 "nbformat_minor": 2
}
