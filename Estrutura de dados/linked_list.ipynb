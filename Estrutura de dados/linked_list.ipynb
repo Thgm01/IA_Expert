{
 "cells": [
  {
   "cell_type": "markdown",
   "metadata": {},
   "source": [
    "# Simple Linked List"
   ]
  },
  {
   "cell_type": "code",
   "execution_count": 2,
   "metadata": {},
   "outputs": [],
   "source": [
    "class Node:\n",
    "    def __init__(self, value):\n",
    "        self.value = value\n",
    "        self.next = None\n",
    "    \n",
    "    def get_value(self):\n",
    "        print(self.value)"
   ]
  },
  {
   "cell_type": "code",
   "execution_count": 3,
   "metadata": {},
   "outputs": [
    {
     "name": "stdout",
     "output_type": "stream",
     "text": [
      "1\n"
     ]
    }
   ],
   "source": [
    "node1 = Node(1)\n",
    "node1.get_value()"
   ]
  },
  {
   "cell_type": "code",
   "execution_count": 4,
   "metadata": {},
   "outputs": [
    {
     "name": "stdout",
     "output_type": "stream",
     "text": [
      "2\n"
     ]
    }
   ],
   "source": [
    "node2 = Node(2)\n",
    "node2.get_value()"
   ]
  },
  {
   "cell_type": "code",
   "execution_count": 5,
   "metadata": {},
   "outputs": [],
   "source": [
    "class LinkedList:\n",
    "    def __init__(self):\n",
    "        self.head = None\n",
    "\n",
    "    def insert_begin(self, value):\n",
    "        new = Node(value)\n",
    "        new.next = self.head\n",
    "        self.head = new   \n",
    "\n",
    "    def get_values(self):\n",
    "        atual = self.head\n",
    "        while atual != None:\n",
    "            atual.get_value()\n",
    "            atual = atual.next\n",
    "        \n",
    "    def exclude_begin(self):\n",
    "        \n",
    "        if self.head == None:\n",
    "            print('The list is empty!')\n",
    "            return None\n",
    "        temp = self.head\n",
    "        new_head = self.head.next\n",
    "        self.head = new_head\n",
    "        return temp\n",
    "    \n",
    "    def search(self, value):\n",
    "        if self.head == None:\n",
    "            print('The list is empty!')\n",
    "            return None\n",
    "\n",
    "        atual = self.head\n",
    "        while atual.value != value:\n",
    "            if atual.next == None:\n",
    "                return None\n",
    "            atual = atual.next\n",
    "        \n",
    "        return atual\n",
    "\n",
    "    def exclue_value(self, value):\n",
    "        if self.head == None:\n",
    "            print('The list is empty!')\n",
    "            return None\n",
    "        \n",
    "        atual = self.head\n",
    "        behind = self.head\n",
    "\n",
    "        while atual.value != value:\n",
    "            if atual == None:\n",
    "                return None\n",
    "            behind = atual\n",
    "            atual = atual.next\n",
    "            \n",
    "        if atual == self.head:\n",
    "            self.head = self.head.next\n",
    "        \n",
    "        behind.next = atual.next\n",
    "        return atual\n",
    "        \n",
    "\n"
   ]
  },
  {
   "cell_type": "code",
   "execution_count": 6,
   "metadata": {},
   "outputs": [],
   "source": [
    "linkedlist = LinkedList()"
   ]
  },
  {
   "cell_type": "code",
   "execution_count": 7,
   "metadata": {},
   "outputs": [],
   "source": [
    "linkedlist.insert_begin(3)"
   ]
  },
  {
   "cell_type": "code",
   "execution_count": 8,
   "metadata": {},
   "outputs": [
    {
     "data": {
      "text/plain": [
       "<__main__.Node at 0x7f19bc3ab700>"
      ]
     },
     "execution_count": 8,
     "metadata": {},
     "output_type": "execute_result"
    }
   ],
   "source": [
    "linkedlist.exclude_begin()"
   ]
  },
  {
   "cell_type": "code",
   "execution_count": 9,
   "metadata": {},
   "outputs": [],
   "source": [
    "linkedlist.get_values()"
   ]
  },
  {
   "cell_type": "code",
   "execution_count": 10,
   "metadata": {},
   "outputs": [],
   "source": [
    "linkedlist.head"
   ]
  },
  {
   "cell_type": "code",
   "execution_count": 11,
   "metadata": {},
   "outputs": [],
   "source": [
    "linkedlist.insert_begin(4)\n",
    "linkedlist.insert_begin(3)\n",
    "linkedlist.insert_begin(5)"
   ]
  },
  {
   "cell_type": "markdown",
   "metadata": {},
   "source": [
    "## Exclude from begin"
   ]
  },
  {
   "cell_type": "code",
   "execution_count": 12,
   "metadata": {},
   "outputs": [
    {
     "name": "stdout",
     "output_type": "stream",
     "text": [
      "5\n",
      "4\n",
      "3\n",
      "2\n",
      "1\n"
     ]
    }
   ],
   "source": [
    "linkedlist = LinkedList()\n",
    "linkedlist.insert_begin(1)\n",
    "linkedlist.insert_begin(2)\n",
    "linkedlist.insert_begin(3)\n",
    "linkedlist.insert_begin(4)\n",
    "linkedlist.insert_begin(5)\n",
    "linkedlist.get_values()"
   ]
  },
  {
   "cell_type": "code",
   "execution_count": 13,
   "metadata": {},
   "outputs": [
    {
     "name": "stdout",
     "output_type": "stream",
     "text": [
      "4\n",
      "3\n",
      "2\n",
      "1\n"
     ]
    }
   ],
   "source": [
    "linkedlist.exclude_begin()\n",
    "linkedlist.get_values()"
   ]
  },
  {
   "cell_type": "markdown",
   "metadata": {},
   "source": [
    "## Searching values in linked list"
   ]
  },
  {
   "cell_type": "code",
   "execution_count": 14,
   "metadata": {},
   "outputs": [
    {
     "name": "stdout",
     "output_type": "stream",
     "text": [
      "5\n",
      "4\n",
      "3\n",
      "2\n",
      "1\n"
     ]
    }
   ],
   "source": [
    "linkedlist = LinkedList()\n",
    "linkedlist.insert_begin(1)\n",
    "linkedlist.insert_begin(2)\n",
    "linkedlist.insert_begin(3)\n",
    "linkedlist.insert_begin(4)\n",
    "linkedlist.insert_begin(5)\n",
    "linkedlist.get_values()"
   ]
  },
  {
   "cell_type": "code",
   "execution_count": 15,
   "metadata": {},
   "outputs": [],
   "source": [
    "search = linkedlist.search(10)"
   ]
  },
  {
   "cell_type": "code",
   "execution_count": 16,
   "metadata": {},
   "outputs": [
    {
     "name": "stdout",
     "output_type": "stream",
     "text": [
      "Value not founded!\n"
     ]
    }
   ],
   "source": [
    "if search != None:\n",
    "    print('Found: ', search.value)\n",
    "else:\n",
    "    print('Value not founded!')"
   ]
  },
  {
   "cell_type": "markdown",
   "metadata": {},
   "source": [
    "## Excluding a value"
   ]
  },
  {
   "cell_type": "code",
   "execution_count": 17,
   "metadata": {},
   "outputs": [
    {
     "name": "stdout",
     "output_type": "stream",
     "text": [
      "5\n",
      "4\n",
      "3\n",
      "2\n",
      "1\n"
     ]
    }
   ],
   "source": [
    "linkedlist = LinkedList()\n",
    "linkedlist.insert_begin(1)\n",
    "linkedlist.insert_begin(2)\n",
    "linkedlist.insert_begin(3)\n",
    "linkedlist.insert_begin(4)\n",
    "linkedlist.insert_begin(5)\n",
    "linkedlist.get_values()"
   ]
  },
  {
   "cell_type": "code",
   "execution_count": 19,
   "metadata": {},
   "outputs": [
    {
     "name": "stdout",
     "output_type": "stream",
     "text": [
      "4\n",
      "3\n",
      "2\n"
     ]
    }
   ],
   "source": [
    "linkedlist.exclue_value(5)\n",
    "linkedlist.get_values()"
   ]
  },
  {
   "cell_type": "markdown",
   "metadata": {},
   "source": [
    "# Double end Linked List"
   ]
  },
  {
   "cell_type": "code",
   "execution_count": 1,
   "metadata": {},
   "outputs": [],
   "source": [
    "class Node:\n",
    "    def __init__(self, value):\n",
    "        self.value = value\n",
    "        self.next = None\n",
    "    \n",
    "    def get_value(self):\n",
    "        print(self.value)"
   ]
  },
  {
   "cell_type": "code",
   "execution_count": 20,
   "metadata": {},
   "outputs": [],
   "source": [
    "class DoubleEndLinkedList:\n",
    "\n",
    "    def __init__(self):\n",
    "        self.head = None\n",
    "        self.tail = None\n",
    "    \n",
    "    def __empty_list(self):\n",
    "        return self.head == None\n",
    "    \n",
    "    def head_insert(self, value):\n",
    "        new_head = Node(value)\n",
    "        if self.__empty_list():\n",
    "            self.tail = new_head\n",
    "\n",
    "        new_head.next = self.head\n",
    "        self.head = new_head\n",
    "    \n",
    "    def get_values(self):\n",
    "        if self.__empty_list():\n",
    "            print('The list is empty!')\n",
    "            return\n",
    "\n",
    "        atual = self.head\n",
    "\n",
    "        while atual != None:\n",
    "            atual.get_value()\n",
    "            atual = atual.next\n",
    "        \n",
    "    def tail_insert(self, value):\n",
    "        new_tail = Node(value)\n",
    "        if self.__empty_list():\n",
    "            self.head = new_tail\n",
    "        else:\n",
    "            self.tail.next = new_tail\n",
    "        self.tail = new_tail\n",
    "\n",
    "    def exclude_head(self):\n",
    "        if self.__empty_list():\n",
    "            print('The list is empty!')\n",
    "            return None\n",
    "        \n",
    "        temp = self.head\n",
    "        if self.head.next == None:\n",
    "            self.tail = None\n",
    "\n",
    "        self.head = self.head.next\n",
    "        return temp\n",
    "\n",
    "        \n",
    "\n"
   ]
  },
  {
   "cell_type": "markdown",
   "metadata": {},
   "source": [
    "## Head insert and show all values"
   ]
  },
  {
   "cell_type": "code",
   "execution_count": 3,
   "metadata": {},
   "outputs": [],
   "source": [
    "lista = DoubleEndLinkedList()"
   ]
  },
  {
   "cell_type": "code",
   "execution_count": 4,
   "metadata": {},
   "outputs": [
    {
     "data": {
      "text/plain": [
       "(<__main__.Node at 0x7fad421e3370>, <__main__.Node at 0x7fad421e3370>)"
      ]
     },
     "execution_count": 4,
     "metadata": {},
     "output_type": "execute_result"
    }
   ],
   "source": [
    "lista.head_insert(1)\n",
    "lista.head, lista.tail"
   ]
  },
  {
   "cell_type": "code",
   "execution_count": 5,
   "metadata": {},
   "outputs": [
    {
     "name": "stdout",
     "output_type": "stream",
     "text": [
      "5\n",
      "4\n",
      "3\n",
      "2\n",
      "1\n"
     ]
    }
   ],
   "source": [
    "lista.head_insert(2)\n",
    "lista.head_insert(3)\n",
    "lista.head_insert(4)\n",
    "lista.head_insert(5)\n",
    "lista.get_values()"
   ]
  },
  {
   "cell_type": "code",
   "execution_count": 6,
   "metadata": {},
   "outputs": [
    {
     "data": {
      "text/plain": [
       "(<__main__.Node at 0x7fad421e3160>, <__main__.Node at 0x7fad421e3370>)"
      ]
     },
     "execution_count": 6,
     "metadata": {},
     "output_type": "execute_result"
    }
   ],
   "source": [
    "lista.head, lista.tail"
   ]
  },
  {
   "cell_type": "markdown",
   "metadata": {},
   "source": [
    "## Tail insert and show values"
   ]
  },
  {
   "cell_type": "code",
   "execution_count": 16,
   "metadata": {},
   "outputs": [],
   "source": [
    "lista = DoubleEndLinkedList()"
   ]
  },
  {
   "cell_type": "code",
   "execution_count": 17,
   "metadata": {},
   "outputs": [
    {
     "data": {
      "text/plain": [
       "(<__main__.Node at 0x7fad421e2830>, <__main__.Node at 0x7fad421e2830>)"
      ]
     },
     "execution_count": 17,
     "metadata": {},
     "output_type": "execute_result"
    }
   ],
   "source": [
    "lista.tail_insert(1)\n",
    "lista.head, lista.tail"
   ]
  },
  {
   "cell_type": "code",
   "execution_count": 18,
   "metadata": {},
   "outputs": [
    {
     "name": "stdout",
     "output_type": "stream",
     "text": [
      "1\n",
      "2\n",
      "3\n"
     ]
    }
   ],
   "source": [
    "lista.tail_insert(2)\n",
    "lista.tail_insert(3)\n",
    "lista.get_values()\n"
   ]
  },
  {
   "cell_type": "code",
   "execution_count": 19,
   "metadata": {},
   "outputs": [
    {
     "name": "stdout",
     "output_type": "stream",
     "text": [
      "0\n",
      "1\n",
      "2\n",
      "3\n",
      "4\n"
     ]
    }
   ],
   "source": [
    "lista.head_insert(0)\n",
    "lista.tail_insert(4)\n",
    "lista.get_values()"
   ]
  },
  {
   "cell_type": "markdown",
   "metadata": {},
   "source": [
    "## Head Exclude"
   ]
  },
  {
   "cell_type": "code",
   "execution_count": 21,
   "metadata": {},
   "outputs": [],
   "source": [
    "lista = DoubleEndLinkedList()"
   ]
  },
  {
   "cell_type": "code",
   "execution_count": 22,
   "metadata": {},
   "outputs": [
    {
     "name": "stdout",
     "output_type": "stream",
     "text": [
      "1\n",
      "3\n"
     ]
    }
   ],
   "source": [
    "lista.head_insert(1)\n",
    "lista.tail_insert(3)\n",
    "lista.get_values()"
   ]
  },
  {
   "cell_type": "code",
   "execution_count": 23,
   "metadata": {},
   "outputs": [
    {
     "name": "stdout",
     "output_type": "stream",
     "text": [
      "3\n"
     ]
    },
    {
     "data": {
      "text/plain": [
       "(<__main__.Node at 0x7fad40070970>, None)"
      ]
     },
     "execution_count": 23,
     "metadata": {},
     "output_type": "execute_result"
    }
   ],
   "source": [
    "lista.exclude_head(), lista.get_values()"
   ]
  },
  {
   "cell_type": "code",
   "execution_count": 24,
   "metadata": {},
   "outputs": [
    {
     "name": "stdout",
     "output_type": "stream",
     "text": [
      "The list is empty!\n"
     ]
    }
   ],
   "source": [
    "lista.exclude_head()\n",
    "lista.exclude_head()"
   ]
  },
  {
   "cell_type": "code",
   "execution_count": 25,
   "metadata": {},
   "outputs": [
    {
     "name": "stdout",
     "output_type": "stream",
     "text": [
      "The list is empty!\n"
     ]
    }
   ],
   "source": [
    "lista.get_values()"
   ]
  },
  {
   "cell_type": "markdown",
   "metadata": {},
   "source": [
    "# Doubly linked list"
   ]
  },
  {
   "cell_type": "code",
   "execution_count": 2,
   "metadata": {},
   "outputs": [],
   "source": [
    "class Node:\n",
    "    def __init__(self, value):\n",
    "        self.value = value\n",
    "        self.next = None\n",
    "        self.behind = None\n",
    "\n",
    "    def print_value(self):\n",
    "        print(self.value)"
   ]
  },
  {
   "cell_type": "code",
   "execution_count": 9,
   "metadata": {},
   "outputs": [],
   "source": [
    "class DoublyLinkedList:\n",
    "    def __init__(self):\n",
    "        self.head = None\n",
    "        self.tail = None\n",
    "    \n",
    "    def __empty_list(self):\n",
    "        return self.head == None\n",
    "\n",
    "    def head_insert(self, value):\n",
    "        new_head = Node(value)\n",
    "\n",
    "        if self.__empty_list():\n",
    "            self.tail = new_head\n",
    "        else:\n",
    "            self.head.behind = new_head\n",
    "\n",
    "        new_head.next = self.head\n",
    "        self.head = new_head\n",
    "\n",
    "    def tail_insert(self, value):\n",
    "        new_tail = Node(value)\n",
    "        if self.__empty_list():\n",
    "            self.head = new_tail\n",
    "        else:\n",
    "            self.tail.next = new_tail\n",
    "            new_tail.behind = self.tail\n",
    "        self.tail = new_tail\n",
    "        \n",
    "    def print_front(self):\n",
    "        atual = self.head\n",
    "        while atual != None:\n",
    "            atual.print_value()\n",
    "            atual = atual.next\n",
    "        \n",
    "    def print_back(self):\n",
    "        atual = self.tail\n",
    "        while atual != None:\n",
    "            atual.print_value()\n",
    "            atual = atual.behind\n",
    "\n",
    "    def exclude_head(self):\n",
    "        temp = self.head\n",
    "        if self.head.next == None:\n",
    "            self.tail = None\n",
    "        else:\n",
    "            self.head.next.behind = None\n",
    "        self.head = self.head.next\n",
    "        return temp\n",
    "    \n",
    "    def exclude_tail(self):\n",
    "        temp = self.tail\n",
    "        if self.head.next == None:\n",
    "            self.head = None\n",
    "        else:\n",
    "            self.tail.behind.next = None\n",
    "        self.tail = self.tail.behind\n",
    "        return temp\n",
    "    \n",
    "    def exclude_value(self, value):\n",
    "        atual = self.head\n",
    "        while atual.value != value:\n",
    "            atual = atual.next \n",
    "            if atual == None:\n",
    "                return None\n",
    "            \n",
    "        if atual == self.head:\n",
    "            self.head = atual.next\n",
    "        else:\n",
    "            atual.behind.next = atual.next\n",
    "\n",
    "        if atual == self.tail:\n",
    "            self.tail = atual.behind\n",
    "        else:\n",
    "            atual.next.behind = atual.behind\n",
    "            \n",
    "        return atual            \n",
    "\n",
    "            \n",
    "\n",
    "        "
   ]
  },
  {
   "cell_type": "markdown",
   "metadata": {},
   "source": [
    "## New Head Insert"
   ]
  },
  {
   "cell_type": "code",
   "execution_count": 11,
   "metadata": {},
   "outputs": [
    {
     "name": "stdout",
     "output_type": "stream",
     "text": [
      "5\n",
      "4\n",
      "3\n",
      "2\n",
      "1\n"
     ]
    }
   ],
   "source": [
    "linkedlist = DoublyLinkedList()\n",
    "linkedlist.head_insert(1)\n",
    "linkedlist.head_insert(2)\n",
    "linkedlist.head_insert(3)\n",
    "linkedlist.head_insert(4)\n",
    "linkedlist.head_insert(5)\n",
    "linkedlist.print_front()"
   ]
  },
  {
   "cell_type": "code",
   "execution_count": 8,
   "metadata": {},
   "outputs": [
    {
     "data": {
      "text/plain": [
       "(<__main__.Node at 0x7f5d48151690>, <__main__.Node at 0x7f5d4bb9cfd0>)"
      ]
     },
     "execution_count": 8,
     "metadata": {},
     "output_type": "execute_result"
    }
   ],
   "source": [
    "linkedlist.head, linkedlist.tail"
   ]
  },
  {
   "cell_type": "code",
   "execution_count": 9,
   "metadata": {},
   "outputs": [
    {
     "data": {
      "text/plain": [
       "(5, 1)"
      ]
     },
     "execution_count": 9,
     "metadata": {},
     "output_type": "execute_result"
    }
   ],
   "source": [
    "linkedlist.head.value, linkedlist.tail.value"
   ]
  },
  {
   "cell_type": "markdown",
   "metadata": {},
   "source": [
    "## New Tail Insert"
   ]
  },
  {
   "cell_type": "code",
   "execution_count": 16,
   "metadata": {},
   "outputs": [],
   "source": [
    "linkedlist = DoublyLinkedList()"
   ]
  },
  {
   "cell_type": "code",
   "execution_count": 17,
   "metadata": {},
   "outputs": [
    {
     "name": "stdout",
     "output_type": "stream",
     "text": [
      "2\n",
      "1\n",
      "3\n",
      "4\n"
     ]
    }
   ],
   "source": [
    "linkedlist.head_insert(1)\n",
    "linkedlist.head_insert(2)\n",
    "linkedlist.tail_insert(3)\n",
    "linkedlist.tail_insert(4)\n",
    "linkedlist.print_front()"
   ]
  },
  {
   "cell_type": "code",
   "execution_count": 18,
   "metadata": {},
   "outputs": [
    {
     "name": "stdout",
     "output_type": "stream",
     "text": [
      "4\n",
      "3\n",
      "1\n",
      "2\n"
     ]
    }
   ],
   "source": [
    "linkedlist.print_back()"
   ]
  },
  {
   "cell_type": "markdown",
   "metadata": {},
   "source": [
    "## Remove Tail and Remove Head"
   ]
  },
  {
   "cell_type": "code",
   "execution_count": 4,
   "metadata": {},
   "outputs": [
    {
     "name": "stdout",
     "output_type": "stream",
     "text": [
      "5\n",
      "4\n",
      "3\n",
      "2\n",
      "1\n"
     ]
    }
   ],
   "source": [
    "linkedlist = DoublyLinkedList()\n",
    "linkedlist.head_insert(1)\n",
    "linkedlist.head_insert(2)\n",
    "linkedlist.head_insert(3)\n",
    "linkedlist.head_insert(4)\n",
    "linkedlist.head_insert(5)\n",
    "linkedlist.print_front()"
   ]
  },
  {
   "cell_type": "code",
   "execution_count": 5,
   "metadata": {},
   "outputs": [
    {
     "name": "stdout",
     "output_type": "stream",
     "text": [
      "4\n",
      "3\n",
      "2\n",
      "1\n"
     ]
    }
   ],
   "source": [
    "linkedlist.exclude_head()\n",
    "linkedlist.print_front()"
   ]
  },
  {
   "cell_type": "code",
   "execution_count": 6,
   "metadata": {},
   "outputs": [
    {
     "name": "stdout",
     "output_type": "stream",
     "text": [
      "4\n",
      "3\n",
      "2\n"
     ]
    }
   ],
   "source": [
    "linkedlist.exclude_tail()\n",
    "linkedlist.print_front()"
   ]
  },
  {
   "cell_type": "code",
   "execution_count": 7,
   "metadata": {},
   "outputs": [
    {
     "name": "stdout",
     "output_type": "stream",
     "text": [
      "2\n",
      "3\n",
      "4\n"
     ]
    }
   ],
   "source": [
    "linkedlist.print_back()"
   ]
  },
  {
   "cell_type": "markdown",
   "metadata": {},
   "source": [
    "## Exclude value"
   ]
  },
  {
   "cell_type": "code",
   "execution_count": 10,
   "metadata": {},
   "outputs": [
    {
     "name": "stdout",
     "output_type": "stream",
     "text": [
      "5\n",
      "4\n",
      "3\n",
      "2\n",
      "1\n"
     ]
    }
   ],
   "source": [
    "linkedlist = DoublyLinkedList()\n",
    "linkedlist.head_insert(1)\n",
    "linkedlist.head_insert(2)\n",
    "linkedlist.head_insert(3)\n",
    "linkedlist.head_insert(4)\n",
    "linkedlist.head_insert(5)\n",
    "linkedlist.print_front()"
   ]
  },
  {
   "cell_type": "code",
   "execution_count": 13,
   "metadata": {},
   "outputs": [
    {
     "name": "stdout",
     "output_type": "stream",
     "text": [
      "5\n",
      "4\n",
      "2\n",
      "1\n",
      "\n",
      "1\n",
      "2\n",
      "4\n",
      "5\n"
     ]
    }
   ],
   "source": [
    "linkedlist.exclude_value(3)\n",
    "linkedlist.print_front()\n",
    "print()\n",
    "linkedlist.print_back()"
   ]
  },
  {
   "cell_type": "code",
   "execution_count": 16,
   "metadata": {},
   "outputs": [
    {
     "data": {
      "text/plain": [
       "(None, None)"
      ]
     },
     "execution_count": 16,
     "metadata": {},
     "output_type": "execute_result"
    }
   ],
   "source": [
    "linkedlist.exclude_value(5), linkedlist.exclude_value(1)"
   ]
  },
  {
   "cell_type": "code",
   "execution_count": 15,
   "metadata": {},
   "outputs": [
    {
     "name": "stdout",
     "output_type": "stream",
     "text": [
      "4\n",
      "2\n",
      "\n",
      "2\n",
      "4\n"
     ]
    }
   ],
   "source": [
    "linkedlist.print_front()\n",
    "print()\n",
    "linkedlist.print_back()"
   ]
  },
  {
   "cell_type": "markdown",
   "metadata": {},
   "source": [
    "# Exercise stack using linked list"
   ]
  },
  {
   "cell_type": "code",
   "execution_count": 3,
   "metadata": {},
   "outputs": [],
   "source": [
    "class Node:\n",
    "    def __init__(self, value):\n",
    "        self.value = value\n",
    "        self.next = None\n",
    "    \n",
    "    def print_value(self):\n",
    "        print(self.value)"
   ]
  },
  {
   "cell_type": "code",
   "execution_count": 35,
   "metadata": {},
   "outputs": [],
   "source": [
    "class LinkedListStack:\n",
    "    def __init__(self):\n",
    "        self.head = None\n",
    "\n",
    "    def __empty_stack(self):\n",
    "        return self.head == None\n",
    "    \n",
    "    def push(self, value):\n",
    "        new_head = Node(value)\n",
    "        \n",
    "        new_head.next = self.head    \n",
    "        self.head = new_head\n",
    "    \n",
    "    def pop(self):\n",
    "        if self.__empty_stack():\n",
    "            print('The stack is empty!')\n",
    "            return None\n",
    "\n",
    "        tmp = self.head\n",
    "        self.head = self.head.next\n",
    "        return tmp\n",
    "    \n",
    "    def top(self):\n",
    "        return self.head"
   ]
  },
  {
   "cell_type": "code",
   "execution_count": 44,
   "metadata": {},
   "outputs": [
    {
     "data": {
      "text/plain": [
       "1"
      ]
     },
     "execution_count": 44,
     "metadata": {},
     "output_type": "execute_result"
    }
   ],
   "source": [
    "stack = LinkedListStack()\n",
    "\n",
    "stack.push(1)\n",
    "stack.top().value"
   ]
  },
  {
   "cell_type": "code",
   "execution_count": 45,
   "metadata": {},
   "outputs": [
    {
     "data": {
      "text/plain": [
       "2"
      ]
     },
     "execution_count": 45,
     "metadata": {},
     "output_type": "execute_result"
    }
   ],
   "source": [
    "stack.push(2)\n",
    "stack.top().value"
   ]
  },
  {
   "cell_type": "code",
   "execution_count": 46,
   "metadata": {},
   "outputs": [],
   "source": [
    "stack.push(3)\n",
    "stack.push(4)\n",
    "stack.push(5)"
   ]
  },
  {
   "cell_type": "code",
   "execution_count": 43,
   "metadata": {},
   "outputs": [],
   "source": [
    "while stack.head != None:\n",
    "    print(stack.pop().value)"
   ]
  },
  {
   "cell_type": "markdown",
   "metadata": {},
   "source": [
    "# Exercise Linked List Queue"
   ]
  },
  {
   "cell_type": "code",
   "execution_count": 77,
   "metadata": {},
   "outputs": [],
   "source": [
    "class Node:\n",
    "    def __init__(self, value):\n",
    "        self.value = value\n",
    "        self.next = None\n",
    "    \n",
    "    def print_value(self):\n",
    "        print(self.value)"
   ]
  },
  {
   "cell_type": "code",
   "execution_count": 78,
   "metadata": {},
   "outputs": [],
   "source": [
    "class LinkedListQueue:\n",
    "    def __init__(self):\n",
    "        self.rear = None\n",
    "        self.front = None\n",
    "\n",
    "    def __empty_queue(self):\n",
    "        return self.rear == None\n",
    "    \n",
    "    def enqueue(self, value):\n",
    "        new_rear = Node(value)\n",
    "        if self.__empty_queue():\n",
    "            self.front = new_rear\n",
    "        else:\n",
    "            self.rear.next = new_rear\n",
    "        self.rear = new_rear\n",
    "\n",
    "    def pfront(self):\n",
    "        return self.front.value\n",
    "\n",
    "    def prear(self):\n",
    "        return self.rear.value\n",
    "\n",
    "    def dequeue(self):\n",
    "        if self.__empty_queue():\n",
    "            print('The queue is empty!')\n",
    "            return None\n",
    "        temp = self.front\n",
    "\n",
    "        if self.front.next == None:\n",
    "            self.rear = None\n",
    "        self.front = self.front.next\n",
    "        return temp\n"
   ]
  },
  {
   "cell_type": "code",
   "execution_count": 79,
   "metadata": {},
   "outputs": [
    {
     "data": {
      "text/plain": [
       "(1, 1)"
      ]
     },
     "execution_count": 79,
     "metadata": {},
     "output_type": "execute_result"
    }
   ],
   "source": [
    "queue = LinkedListQueue()\n",
    "queue.enqueue(1)\n",
    "queue.pfront(), queue.prear()"
   ]
  },
  {
   "cell_type": "code",
   "execution_count": 80,
   "metadata": {},
   "outputs": [
    {
     "data": {
      "text/plain": [
       "(1, 2)"
      ]
     },
     "execution_count": 80,
     "metadata": {},
     "output_type": "execute_result"
    }
   ],
   "source": [
    "queue.enqueue(2)\n",
    "queue.pfront(), queue.prear()"
   ]
  },
  {
   "cell_type": "code",
   "execution_count": 82,
   "metadata": {},
   "outputs": [
    {
     "data": {
      "text/plain": [
       "2"
      ]
     },
     "execution_count": 82,
     "metadata": {},
     "output_type": "execute_result"
    }
   ],
   "source": [
    "queue.dequeue().value"
   ]
  }
 ],
 "metadata": {
  "kernelspec": {
   "display_name": "Python 3",
   "language": "python",
   "name": "python3"
  },
  "language_info": {
   "codemirror_mode": {
    "name": "ipython",
    "version": 3
   },
   "file_extension": ".py",
   "mimetype": "text/x-python",
   "name": "python",
   "nbconvert_exporter": "python",
   "pygments_lexer": "ipython3",
   "version": "3.10.12"
  }
 },
 "nbformat": 4,
 "nbformat_minor": 2
}
