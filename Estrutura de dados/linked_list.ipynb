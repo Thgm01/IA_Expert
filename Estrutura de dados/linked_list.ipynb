{
 "cells": [
  {
   "cell_type": "markdown",
   "metadata": {},
   "source": [
    "# Simple Linked List"
   ]
  },
  {
   "cell_type": "code",
   "execution_count": 2,
   "metadata": {},
   "outputs": [],
   "source": [
    "class Node:\n",
    "    def __init__(self, value):\n",
    "        self.value = value\n",
    "        self.next = None\n",
    "    \n",
    "    def get_value(self):\n",
    "        print(self.value)"
   ]
  },
  {
   "cell_type": "code",
   "execution_count": 3,
   "metadata": {},
   "outputs": [
    {
     "name": "stdout",
     "output_type": "stream",
     "text": [
      "1\n"
     ]
    }
   ],
   "source": [
    "node1 = Node(1)\n",
    "node1.get_value()"
   ]
  },
  {
   "cell_type": "code",
   "execution_count": 4,
   "metadata": {},
   "outputs": [
    {
     "name": "stdout",
     "output_type": "stream",
     "text": [
      "2\n"
     ]
    }
   ],
   "source": [
    "node2 = Node(2)\n",
    "node2.get_value()"
   ]
  },
  {
   "cell_type": "code",
   "execution_count": 5,
   "metadata": {},
   "outputs": [],
   "source": [
    "class LinkedList:\n",
    "    def __init__(self):\n",
    "        self.head = None\n",
    "\n",
    "    def insert_begin(self, value):\n",
    "        new = Node(value)\n",
    "        new.next = self.head\n",
    "        self.head = new   \n",
    "\n",
    "    def get_values(self):\n",
    "        atual = self.head\n",
    "        while atual != None:\n",
    "            atual.get_value()\n",
    "            atual = atual.next\n",
    "        \n",
    "    def exclude_begin(self):\n",
    "        \n",
    "        if self.head == None:\n",
    "            print('The list is empty!')\n",
    "            return None\n",
    "        temp = self.head\n",
    "        new_head = self.head.next\n",
    "        self.head = new_head\n",
    "        return temp\n",
    "    \n",
    "    def search(self, value):\n",
    "        if self.head == None:\n",
    "            print('The list is empty!')\n",
    "            return None\n",
    "\n",
    "        atual = self.head\n",
    "        while atual.value != value:\n",
    "            if atual.next == None:\n",
    "                return None\n",
    "            atual = atual.next\n",
    "        \n",
    "        return atual\n",
    "\n",
    "    def exclue_value(self, value):\n",
    "        if self.head == None:\n",
    "            print('The list is empty!')\n",
    "            return None\n",
    "        \n",
    "        atual = self.head\n",
    "        beheind = self.head\n",
    "\n",
    "        while atual.value != value:\n",
    "            if atual == None:\n",
    "                return None\n",
    "            beheind = atual\n",
    "            atual = atual.next\n",
    "            \n",
    "        if atual == self.head:\n",
    "            self.head = self.head.next\n",
    "        \n",
    "        beheind.next = atual.next\n",
    "        return atual\n",
    "        \n",
    "\n"
   ]
  },
  {
   "cell_type": "code",
   "execution_count": 6,
   "metadata": {},
   "outputs": [],
   "source": [
    "linkedlist = LinkedList()"
   ]
  },
  {
   "cell_type": "code",
   "execution_count": 7,
   "metadata": {},
   "outputs": [],
   "source": [
    "linkedlist.insert_begin(3)"
   ]
  },
  {
   "cell_type": "code",
   "execution_count": 8,
   "metadata": {},
   "outputs": [
    {
     "data": {
      "text/plain": [
       "<__main__.Node at 0x7f19bc3ab700>"
      ]
     },
     "execution_count": 8,
     "metadata": {},
     "output_type": "execute_result"
    }
   ],
   "source": [
    "linkedlist.exclude_begin()"
   ]
  },
  {
   "cell_type": "code",
   "execution_count": 9,
   "metadata": {},
   "outputs": [],
   "source": [
    "linkedlist.get_values()"
   ]
  },
  {
   "cell_type": "code",
   "execution_count": 10,
   "metadata": {},
   "outputs": [],
   "source": [
    "linkedlist.head"
   ]
  },
  {
   "cell_type": "code",
   "execution_count": 11,
   "metadata": {},
   "outputs": [],
   "source": [
    "linkedlist.insert_begin(4)\n",
    "linkedlist.insert_begin(3)\n",
    "linkedlist.insert_begin(5)"
   ]
  },
  {
   "cell_type": "markdown",
   "metadata": {},
   "source": [
    "## Exclude from begin"
   ]
  },
  {
   "cell_type": "code",
   "execution_count": 12,
   "metadata": {},
   "outputs": [
    {
     "name": "stdout",
     "output_type": "stream",
     "text": [
      "5\n",
      "4\n",
      "3\n",
      "2\n",
      "1\n"
     ]
    }
   ],
   "source": [
    "linkedlist = LinkedList()\n",
    "linkedlist.insert_begin(1)\n",
    "linkedlist.insert_begin(2)\n",
    "linkedlist.insert_begin(3)\n",
    "linkedlist.insert_begin(4)\n",
    "linkedlist.insert_begin(5)\n",
    "linkedlist.get_values()"
   ]
  },
  {
   "cell_type": "code",
   "execution_count": 13,
   "metadata": {},
   "outputs": [
    {
     "name": "stdout",
     "output_type": "stream",
     "text": [
      "4\n",
      "3\n",
      "2\n",
      "1\n"
     ]
    }
   ],
   "source": [
    "linkedlist.exclude_begin()\n",
    "linkedlist.get_values()"
   ]
  },
  {
   "cell_type": "markdown",
   "metadata": {},
   "source": [
    "## Searching values in linked list"
   ]
  },
  {
   "cell_type": "code",
   "execution_count": 14,
   "metadata": {},
   "outputs": [
    {
     "name": "stdout",
     "output_type": "stream",
     "text": [
      "5\n",
      "4\n",
      "3\n",
      "2\n",
      "1\n"
     ]
    }
   ],
   "source": [
    "linkedlist = LinkedList()\n",
    "linkedlist.insert_begin(1)\n",
    "linkedlist.insert_begin(2)\n",
    "linkedlist.insert_begin(3)\n",
    "linkedlist.insert_begin(4)\n",
    "linkedlist.insert_begin(5)\n",
    "linkedlist.get_values()"
   ]
  },
  {
   "cell_type": "code",
   "execution_count": 15,
   "metadata": {},
   "outputs": [],
   "source": [
    "search = linkedlist.search(10)"
   ]
  },
  {
   "cell_type": "code",
   "execution_count": 16,
   "metadata": {},
   "outputs": [
    {
     "name": "stdout",
     "output_type": "stream",
     "text": [
      "Value not founded!\n"
     ]
    }
   ],
   "source": [
    "if search != None:\n",
    "    print('Found: ', search.value)\n",
    "else:\n",
    "    print('Value not founded!')"
   ]
  },
  {
   "cell_type": "markdown",
   "metadata": {},
   "source": [
    "## Excluding a value"
   ]
  },
  {
   "cell_type": "code",
   "execution_count": 17,
   "metadata": {},
   "outputs": [
    {
     "name": "stdout",
     "output_type": "stream",
     "text": [
      "5\n",
      "4\n",
      "3\n",
      "2\n",
      "1\n"
     ]
    }
   ],
   "source": [
    "linkedlist = LinkedList()\n",
    "linkedlist.insert_begin(1)\n",
    "linkedlist.insert_begin(2)\n",
    "linkedlist.insert_begin(3)\n",
    "linkedlist.insert_begin(4)\n",
    "linkedlist.insert_begin(5)\n",
    "linkedlist.get_values()"
   ]
  },
  {
   "cell_type": "code",
   "execution_count": 19,
   "metadata": {},
   "outputs": [
    {
     "name": "stdout",
     "output_type": "stream",
     "text": [
      "4\n",
      "3\n",
      "2\n"
     ]
    }
   ],
   "source": [
    "linkedlist.exclue_value(5)\n",
    "linkedlist.get_values()"
   ]
  }
 ],
 "metadata": {
  "kernelspec": {
   "display_name": "Python 3",
   "language": "python",
   "name": "python3"
  },
  "language_info": {
   "codemirror_mode": {
    "name": "ipython",
    "version": 3
   },
   "file_extension": ".py",
   "mimetype": "text/x-python",
   "name": "python",
   "nbconvert_exporter": "python",
   "pygments_lexer": "ipython3",
   "version": "3.10.12"
  }
 },
 "nbformat": 4,
 "nbformat_minor": 2
}
